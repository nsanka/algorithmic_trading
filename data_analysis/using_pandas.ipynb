{
 "metadata": {
  "language_info": {
   "codemirror_mode": {
    "name": "ipython",
    "version": 3
   },
   "file_extension": ".py",
   "mimetype": "text/x-python",
   "name": "python",
   "nbconvert_exporter": "python",
   "pygments_lexer": "ipython3",
   "version": "3.7.10-final"
  },
  "orig_nbformat": 2,
  "kernelspec": {
   "name": "python3",
   "display_name": "Python 3.7.10 64-bit ('py37': conda)",
   "metadata": {
    "interpreter": {
     "hash": "c6df91e5bb8bd1595249fbfb960eedd21ea80615539eae338da8b5448394bcc1"
    }
   }
  }
 },
 "nbformat": 4,
 "nbformat_minor": 2,
 "cells": [
  {
   "cell_type": "code",
   "execution_count": 1,
   "metadata": {},
   "outputs": [
    {
     "output_type": "execute_result",
     "data": {
      "text/plain": [
       "   numbers\n",
       "a       10\n",
       "b       20\n",
       "c       30\n",
       "d       40"
      ],
      "text/html": "<div>\n<style scoped>\n    .dataframe tbody tr th:only-of-type {\n        vertical-align: middle;\n    }\n\n    .dataframe tbody tr th {\n        vertical-align: top;\n    }\n\n    .dataframe thead th {\n        text-align: right;\n    }\n</style>\n<table border=\"1\" class=\"dataframe\">\n  <thead>\n    <tr style=\"text-align: right;\">\n      <th></th>\n      <th>numbers</th>\n    </tr>\n  </thead>\n  <tbody>\n    <tr>\n      <th>a</th>\n      <td>10</td>\n    </tr>\n    <tr>\n      <th>b</th>\n      <td>20</td>\n    </tr>\n    <tr>\n      <th>c</th>\n      <td>30</td>\n    </tr>\n    <tr>\n      <th>d</th>\n      <td>40</td>\n    </tr>\n  </tbody>\n</table>\n</div>"
     },
     "metadata": {},
     "execution_count": 1
    }
   ],
   "source": [
    "# Import Modules\n",
    "import numpy as np\n",
    "import pandas as pd\n",
    "# Create DataFrame\n",
    "df = pd.DataFrame([10, 20, 30, 40], columns=['numbers'], index=['a', 'b', 'c', 'd'])\n",
    "df"
   ]
  },
  {
   "cell_type": "code",
   "execution_count": 2,
   "metadata": {},
   "outputs": [
    {
     "output_type": "execute_result",
     "data": {
      "text/plain": [
       "Index(['a', 'b', 'c', 'd'], dtype='object')"
      ]
     },
     "metadata": {},
     "execution_count": 2
    }
   ],
   "source": [
    "df.index"
   ]
  },
  {
   "cell_type": "code",
   "execution_count": 3,
   "metadata": {},
   "outputs": [
    {
     "output_type": "execute_result",
     "data": {
      "text/plain": [
       "Index(['numbers'], dtype='object')"
      ]
     },
     "metadata": {},
     "execution_count": 3
    }
   ],
   "source": [
    "df.columns"
   ]
  },
  {
   "cell_type": "code",
   "execution_count": 4,
   "metadata": {},
   "outputs": [
    {
     "output_type": "execute_result",
     "data": {
      "text/plain": [
       "numbers    30\n",
       "Name: c, dtype: int64"
      ]
     },
     "metadata": {},
     "execution_count": 4
    }
   ],
   "source": [
    "df.loc['c']"
   ]
  },
  {
   "cell_type": "code",
   "execution_count": 5,
   "metadata": {},
   "outputs": [
    {
     "output_type": "execute_result",
     "data": {
      "text/plain": [
       "   numbers\n",
       "a       10\n",
       "d       40"
      ],
      "text/html": "<div>\n<style scoped>\n    .dataframe tbody tr th:only-of-type {\n        vertical-align: middle;\n    }\n\n    .dataframe tbody tr th {\n        vertical-align: top;\n    }\n\n    .dataframe thead th {\n        text-align: right;\n    }\n</style>\n<table border=\"1\" class=\"dataframe\">\n  <thead>\n    <tr style=\"text-align: right;\">\n      <th></th>\n      <th>numbers</th>\n    </tr>\n  </thead>\n  <tbody>\n    <tr>\n      <th>a</th>\n      <td>10</td>\n    </tr>\n    <tr>\n      <th>d</th>\n      <td>40</td>\n    </tr>\n  </tbody>\n</table>\n</div>"
     },
     "metadata": {},
     "execution_count": 5
    }
   ],
   "source": [
    "df.loc[['a', 'd']]"
   ]
  },
  {
   "cell_type": "code",
   "execution_count": 6,
   "metadata": {},
   "outputs": [
    {
     "output_type": "execute_result",
     "data": {
      "text/plain": [
       "   numbers\n",
       "b       20\n",
       "c       30"
      ],
      "text/html": "<div>\n<style scoped>\n    .dataframe tbody tr th:only-of-type {\n        vertical-align: middle;\n    }\n\n    .dataframe tbody tr th {\n        vertical-align: top;\n    }\n\n    .dataframe thead th {\n        text-align: right;\n    }\n</style>\n<table border=\"1\" class=\"dataframe\">\n  <thead>\n    <tr style=\"text-align: right;\">\n      <th></th>\n      <th>numbers</th>\n    </tr>\n  </thead>\n  <tbody>\n    <tr>\n      <th>b</th>\n      <td>20</td>\n    </tr>\n    <tr>\n      <th>c</th>\n      <td>30</td>\n    </tr>\n  </tbody>\n</table>\n</div>"
     },
     "metadata": {},
     "execution_count": 6
    }
   ],
   "source": [
    "df.iloc[1:3]"
   ]
  },
  {
   "cell_type": "code",
   "execution_count": 7,
   "metadata": {},
   "outputs": [
    {
     "output_type": "execute_result",
     "data": {
      "text/plain": [
       "numbers    100\n",
       "dtype: int64"
      ]
     },
     "metadata": {},
     "execution_count": 7
    }
   ],
   "source": [
    "df.sum()"
   ]
  },
  {
   "cell_type": "code",
   "execution_count": 8,
   "metadata": {},
   "outputs": [
    {
     "output_type": "execute_result",
     "data": {
      "text/plain": [
       "   numbers\n",
       "a      100\n",
       "b      400\n",
       "c      900\n",
       "d     1600"
      ],
      "text/html": "<div>\n<style scoped>\n    .dataframe tbody tr th:only-of-type {\n        vertical-align: middle;\n    }\n\n    .dataframe tbody tr th {\n        vertical-align: top;\n    }\n\n    .dataframe thead th {\n        text-align: right;\n    }\n</style>\n<table border=\"1\" class=\"dataframe\">\n  <thead>\n    <tr style=\"text-align: right;\">\n      <th></th>\n      <th>numbers</th>\n    </tr>\n  </thead>\n  <tbody>\n    <tr>\n      <th>a</th>\n      <td>100</td>\n    </tr>\n    <tr>\n      <th>b</th>\n      <td>400</td>\n    </tr>\n    <tr>\n      <th>c</th>\n      <td>900</td>\n    </tr>\n    <tr>\n      <th>d</th>\n      <td>1600</td>\n    </tr>\n  </tbody>\n</table>\n</div>"
     },
     "metadata": {},
     "execution_count": 8
    }
   ],
   "source": [
    "df.apply(lambda x: x ** 2)"
   ]
  },
  {
   "cell_type": "code",
   "execution_count": 9,
   "metadata": {},
   "outputs": [
    {
     "output_type": "execute_result",
     "data": {
      "text/plain": [
       "   numbers\n",
       "a      100\n",
       "b      400\n",
       "c      900\n",
       "d     1600"
      ],
      "text/html": "<div>\n<style scoped>\n    .dataframe tbody tr th:only-of-type {\n        vertical-align: middle;\n    }\n\n    .dataframe tbody tr th {\n        vertical-align: top;\n    }\n\n    .dataframe thead th {\n        text-align: right;\n    }\n</style>\n<table border=\"1\" class=\"dataframe\">\n  <thead>\n    <tr style=\"text-align: right;\">\n      <th></th>\n      <th>numbers</th>\n    </tr>\n  </thead>\n  <tbody>\n    <tr>\n      <th>a</th>\n      <td>100</td>\n    </tr>\n    <tr>\n      <th>b</th>\n      <td>400</td>\n    </tr>\n    <tr>\n      <th>c</th>\n      <td>900</td>\n    </tr>\n    <tr>\n      <th>d</th>\n      <td>1600</td>\n    </tr>\n  </tbody>\n</table>\n</div>"
     },
     "metadata": {},
     "execution_count": 9
    }
   ],
   "source": [
    "df ** 2"
   ]
  },
  {
   "cell_type": "code",
   "execution_count": 10,
   "metadata": {},
   "outputs": [
    {
     "output_type": "execute_result",
     "data": {
      "text/plain": [
       "   numbers  floats\n",
       "a       10     1.5\n",
       "b       20     2.5\n",
       "c       30     3.5\n",
       "d       40     4.5"
      ],
      "text/html": "<div>\n<style scoped>\n    .dataframe tbody tr th:only-of-type {\n        vertical-align: middle;\n    }\n\n    .dataframe tbody tr th {\n        vertical-align: top;\n    }\n\n    .dataframe thead th {\n        text-align: right;\n    }\n</style>\n<table border=\"1\" class=\"dataframe\">\n  <thead>\n    <tr style=\"text-align: right;\">\n      <th></th>\n      <th>numbers</th>\n      <th>floats</th>\n    </tr>\n  </thead>\n  <tbody>\n    <tr>\n      <th>a</th>\n      <td>10</td>\n      <td>1.5</td>\n    </tr>\n    <tr>\n      <th>b</th>\n      <td>20</td>\n      <td>2.5</td>\n    </tr>\n    <tr>\n      <th>c</th>\n      <td>30</td>\n      <td>3.5</td>\n    </tr>\n    <tr>\n      <th>d</th>\n      <td>40</td>\n      <td>4.5</td>\n    </tr>\n  </tbody>\n</table>\n</div>"
     },
     "metadata": {},
     "execution_count": 10
    }
   ],
   "source": [
    "df['floats'] = (1.5, 2.5, 3.5, 4.5)\n",
    "df"
   ]
  },
  {
   "cell_type": "code",
   "execution_count": 11,
   "metadata": {},
   "outputs": [
    {
     "output_type": "execute_result",
     "data": {
      "text/plain": [
       "   numbers  floats   names\n",
       "a       10     1.5   Nandu\n",
       "b       20     2.5  Satish\n",
       "c       30     3.5    Ravi\n",
       "d       40     4.5   Lilli"
      ],
      "text/html": "<div>\n<style scoped>\n    .dataframe tbody tr th:only-of-type {\n        vertical-align: middle;\n    }\n\n    .dataframe tbody tr th {\n        vertical-align: top;\n    }\n\n    .dataframe thead th {\n        text-align: right;\n    }\n</style>\n<table border=\"1\" class=\"dataframe\">\n  <thead>\n    <tr style=\"text-align: right;\">\n      <th></th>\n      <th>numbers</th>\n      <th>floats</th>\n      <th>names</th>\n    </tr>\n  </thead>\n  <tbody>\n    <tr>\n      <th>a</th>\n      <td>10</td>\n      <td>1.5</td>\n      <td>Nandu</td>\n    </tr>\n    <tr>\n      <th>b</th>\n      <td>20</td>\n      <td>2.5</td>\n      <td>Satish</td>\n    </tr>\n    <tr>\n      <th>c</th>\n      <td>30</td>\n      <td>3.5</td>\n      <td>Ravi</td>\n    </tr>\n    <tr>\n      <th>d</th>\n      <td>40</td>\n      <td>4.5</td>\n      <td>Lilli</td>\n    </tr>\n  </tbody>\n</table>\n</div>"
     },
     "metadata": {},
     "execution_count": 11
    }
   ],
   "source": [
    "df['names'] = pd.DataFrame(['Lilli', 'Nandu', 'Satish', 'Ravi'], index=['d', 'a', 'b', 'c'])\n",
    "df"
   ]
  },
  {
   "cell_type": "code",
   "execution_count": 12,
   "metadata": {},
   "outputs": [
    {
     "output_type": "execute_result",
     "data": {
      "text/plain": [
       "   numbers  floats   names\n",
       "a       10     1.5   Nandu\n",
       "b       20     2.5  Satish\n",
       "c       30     3.5    Ravi\n",
       "d       40     4.5   Lilli\n",
       "y      100     5.4    Sona"
      ],
      "text/html": "<div>\n<style scoped>\n    .dataframe tbody tr th:only-of-type {\n        vertical-align: middle;\n    }\n\n    .dataframe tbody tr th {\n        vertical-align: top;\n    }\n\n    .dataframe thead th {\n        text-align: right;\n    }\n</style>\n<table border=\"1\" class=\"dataframe\">\n  <thead>\n    <tr style=\"text-align: right;\">\n      <th></th>\n      <th>numbers</th>\n      <th>floats</th>\n      <th>names</th>\n    </tr>\n  </thead>\n  <tbody>\n    <tr>\n      <th>a</th>\n      <td>10</td>\n      <td>1.5</td>\n      <td>Nandu</td>\n    </tr>\n    <tr>\n      <th>b</th>\n      <td>20</td>\n      <td>2.5</td>\n      <td>Satish</td>\n    </tr>\n    <tr>\n      <th>c</th>\n      <td>30</td>\n      <td>3.5</td>\n      <td>Ravi</td>\n    </tr>\n    <tr>\n      <th>d</th>\n      <td>40</td>\n      <td>4.5</td>\n      <td>Lilli</td>\n    </tr>\n    <tr>\n      <th>y</th>\n      <td>100</td>\n      <td>5.4</td>\n      <td>Sona</td>\n    </tr>\n  </tbody>\n</table>\n</div>"
     },
     "metadata": {},
     "execution_count": 12
    }
   ],
   "source": [
    "df1 = pd.DataFrame({'numbers': 100, 'floats': 5.4, 'names': 'Sona'}, index=['y'])\n",
    "df = df.append(df1)\n",
    "df"
   ]
  },
  {
   "cell_type": "code",
   "execution_count": 13,
   "metadata": {},
   "outputs": [
    {
     "output_type": "execute_result",
     "data": {
      "text/plain": [
       "    names  numbers  floats\n",
       "z    Sree      NaN     NaN\n",
       "a   Nandu     10.0     1.5\n",
       "b  Satish     20.0     2.5\n",
       "c    Ravi     30.0     3.5\n",
       "d   Lilli     40.0     4.5\n",
       "y    Sona    100.0     5.4"
      ],
      "text/html": "<div>\n<style scoped>\n    .dataframe tbody tr th:only-of-type {\n        vertical-align: middle;\n    }\n\n    .dataframe tbody tr th {\n        vertical-align: top;\n    }\n\n    .dataframe thead th {\n        text-align: right;\n    }\n</style>\n<table border=\"1\" class=\"dataframe\">\n  <thead>\n    <tr style=\"text-align: right;\">\n      <th></th>\n      <th>names</th>\n      <th>numbers</th>\n      <th>floats</th>\n    </tr>\n  </thead>\n  <tbody>\n    <tr>\n      <th>z</th>\n      <td>Sree</td>\n      <td>NaN</td>\n      <td>NaN</td>\n    </tr>\n    <tr>\n      <th>a</th>\n      <td>Nandu</td>\n      <td>10.0</td>\n      <td>1.5</td>\n    </tr>\n    <tr>\n      <th>b</th>\n      <td>Satish</td>\n      <td>20.0</td>\n      <td>2.5</td>\n    </tr>\n    <tr>\n      <th>c</th>\n      <td>Ravi</td>\n      <td>30.0</td>\n      <td>3.5</td>\n    </tr>\n    <tr>\n      <th>d</th>\n      <td>Lilli</td>\n      <td>40.0</td>\n      <td>4.5</td>\n    </tr>\n    <tr>\n      <th>y</th>\n      <td>Sona</td>\n      <td>100.0</td>\n      <td>5.4</td>\n    </tr>\n  </tbody>\n</table>\n</div>"
     },
     "metadata": {},
     "execution_count": 13
    }
   ],
   "source": [
    "df2 = pd.DataFrame({'names': 'Sree'}, index=['z'])\n",
    "df = df2.append(df)\n",
    "df"
   ]
  },
  {
   "cell_type": "code",
   "execution_count": 14,
   "metadata": {},
   "outputs": [
    {
     "output_type": "execute_result",
     "data": {
      "text/plain": [
       "numbers    40.00\n",
       "floats      3.48\n",
       "dtype: float64"
      ]
     },
     "metadata": {},
     "execution_count": 14
    }
   ],
   "source": [
    "df[['numbers', 'floats']].mean()"
   ]
  },
  {
   "cell_type": "code",
   "execution_count": 15,
   "metadata": {},
   "outputs": [
    {
     "output_type": "execute_result",
     "data": {
      "text/plain": [
       "numbers    35.355339\n",
       "floats      1.549839\n",
       "dtype: float64"
      ]
     },
     "metadata": {},
     "execution_count": 15
    }
   ],
   "source": [
    "df[['numbers', 'floats']].std()"
   ]
  },
  {
   "cell_type": "code",
   "execution_count": 16,
   "metadata": {},
   "outputs": [
    {
     "output_type": "execute_result",
     "data": {
      "text/plain": [
       "array([[-1.74976547,  0.3426804 ,  1.1530358 , -0.25243604],\n",
       "       [ 0.98132079,  0.51421884,  0.22117967, -1.07004333],\n",
       "       [-0.18949583,  0.25500144, -0.45802699,  0.43516349],\n",
       "       [-0.58359505,  0.81684707,  0.67272081, -0.10441114],\n",
       "       [-0.53128038,  1.02973269, -0.43813562, -1.11831825],\n",
       "       [ 1.61898166,  1.54160517, -0.25187914, -0.84243574],\n",
       "       [ 0.18451869,  0.9370822 ,  0.73100034,  1.36155613],\n",
       "       [-0.32623806,  0.05567601,  0.22239961, -1.443217  ],\n",
       "       [-0.75635231,  0.81645401,  0.75044476, -0.45594693]])"
      ]
     },
     "metadata": {},
     "execution_count": 16
    }
   ],
   "source": [
    "np.random.seed(100)\n",
    "a = np.random.standard_normal((9,4))\n",
    "a"
   ]
  },
  {
   "cell_type": "code",
   "execution_count": 17,
   "metadata": {},
   "outputs": [
    {
     "output_type": "execute_result",
     "data": {
      "text/plain": [
       "        No1       No2       No3       No4\n",
       "0 -1.749765  0.342680  1.153036 -0.252436\n",
       "1  0.981321  0.514219  0.221180 -1.070043\n",
       "2 -0.189496  0.255001 -0.458027  0.435163\n",
       "3 -0.583595  0.816847  0.672721 -0.104411\n",
       "4 -0.531280  1.029733 -0.438136 -1.118318\n",
       "5  1.618982  1.541605 -0.251879 -0.842436\n",
       "6  0.184519  0.937082  0.731000  1.361556\n",
       "7 -0.326238  0.055676  0.222400 -1.443217\n",
       "8 -0.756352  0.816454  0.750445 -0.455947"
      ],
      "text/html": "<div>\n<style scoped>\n    .dataframe tbody tr th:only-of-type {\n        vertical-align: middle;\n    }\n\n    .dataframe tbody tr th {\n        vertical-align: top;\n    }\n\n    .dataframe thead th {\n        text-align: right;\n    }\n</style>\n<table border=\"1\" class=\"dataframe\">\n  <thead>\n    <tr style=\"text-align: right;\">\n      <th></th>\n      <th>No1</th>\n      <th>No2</th>\n      <th>No3</th>\n      <th>No4</th>\n    </tr>\n  </thead>\n  <tbody>\n    <tr>\n      <th>0</th>\n      <td>-1.749765</td>\n      <td>0.342680</td>\n      <td>1.153036</td>\n      <td>-0.252436</td>\n    </tr>\n    <tr>\n      <th>1</th>\n      <td>0.981321</td>\n      <td>0.514219</td>\n      <td>0.221180</td>\n      <td>-1.070043</td>\n    </tr>\n    <tr>\n      <th>2</th>\n      <td>-0.189496</td>\n      <td>0.255001</td>\n      <td>-0.458027</td>\n      <td>0.435163</td>\n    </tr>\n    <tr>\n      <th>3</th>\n      <td>-0.583595</td>\n      <td>0.816847</td>\n      <td>0.672721</td>\n      <td>-0.104411</td>\n    </tr>\n    <tr>\n      <th>4</th>\n      <td>-0.531280</td>\n      <td>1.029733</td>\n      <td>-0.438136</td>\n      <td>-1.118318</td>\n    </tr>\n    <tr>\n      <th>5</th>\n      <td>1.618982</td>\n      <td>1.541605</td>\n      <td>-0.251879</td>\n      <td>-0.842436</td>\n    </tr>\n    <tr>\n      <th>6</th>\n      <td>0.184519</td>\n      <td>0.937082</td>\n      <td>0.731000</td>\n      <td>1.361556</td>\n    </tr>\n    <tr>\n      <th>7</th>\n      <td>-0.326238</td>\n      <td>0.055676</td>\n      <td>0.222400</td>\n      <td>-1.443217</td>\n    </tr>\n    <tr>\n      <th>8</th>\n      <td>-0.756352</td>\n      <td>0.816454</td>\n      <td>0.750445</td>\n      <td>-0.455947</td>\n    </tr>\n  </tbody>\n</table>\n</div>"
     },
     "metadata": {},
     "execution_count": 17
    }
   ],
   "source": [
    "df = pd.DataFrame(a)\n",
    "df.columns = ['No1', 'No2', 'No3', 'No4']\n",
    "df"
   ]
  },
  {
   "cell_type": "code",
   "execution_count": 18,
   "metadata": {},
   "outputs": [
    {
     "output_type": "execute_result",
     "data": {
      "text/plain": [
       "DatetimeIndex(['2020-01-31', '2020-02-29', '2020-03-31', '2020-04-30',\n",
       "               '2020-05-31', '2020-06-30', '2020-07-31', '2020-08-31',\n",
       "               '2020-09-30'],\n",
       "              dtype='datetime64[ns]', freq='M')"
      ]
     },
     "metadata": {},
     "execution_count": 18
    }
   ],
   "source": [
    "dates = pd.date_range('2020-1-1', periods=9, freq='M')\n",
    "dates"
   ]
  },
  {
   "cell_type": "code",
   "execution_count": 19,
   "metadata": {},
   "outputs": [
    {
     "output_type": "execute_result",
     "data": {
      "text/plain": [
       "                 No1       No2       No3       No4\n",
       "2020-01-31 -1.749765  0.342680  1.153036 -0.252436\n",
       "2020-02-29  0.981321  0.514219  0.221180 -1.070043\n",
       "2020-03-31 -0.189496  0.255001 -0.458027  0.435163\n",
       "2020-04-30 -0.583595  0.816847  0.672721 -0.104411\n",
       "2020-05-31 -0.531280  1.029733 -0.438136 -1.118318\n",
       "2020-06-30  1.618982  1.541605 -0.251879 -0.842436\n",
       "2020-07-31  0.184519  0.937082  0.731000  1.361556\n",
       "2020-08-31 -0.326238  0.055676  0.222400 -1.443217\n",
       "2020-09-30 -0.756352  0.816454  0.750445 -0.455947"
      ],
      "text/html": "<div>\n<style scoped>\n    .dataframe tbody tr th:only-of-type {\n        vertical-align: middle;\n    }\n\n    .dataframe tbody tr th {\n        vertical-align: top;\n    }\n\n    .dataframe thead th {\n        text-align: right;\n    }\n</style>\n<table border=\"1\" class=\"dataframe\">\n  <thead>\n    <tr style=\"text-align: right;\">\n      <th></th>\n      <th>No1</th>\n      <th>No2</th>\n      <th>No3</th>\n      <th>No4</th>\n    </tr>\n  </thead>\n  <tbody>\n    <tr>\n      <th>2020-01-31</th>\n      <td>-1.749765</td>\n      <td>0.342680</td>\n      <td>1.153036</td>\n      <td>-0.252436</td>\n    </tr>\n    <tr>\n      <th>2020-02-29</th>\n      <td>0.981321</td>\n      <td>0.514219</td>\n      <td>0.221180</td>\n      <td>-1.070043</td>\n    </tr>\n    <tr>\n      <th>2020-03-31</th>\n      <td>-0.189496</td>\n      <td>0.255001</td>\n      <td>-0.458027</td>\n      <td>0.435163</td>\n    </tr>\n    <tr>\n      <th>2020-04-30</th>\n      <td>-0.583595</td>\n      <td>0.816847</td>\n      <td>0.672721</td>\n      <td>-0.104411</td>\n    </tr>\n    <tr>\n      <th>2020-05-31</th>\n      <td>-0.531280</td>\n      <td>1.029733</td>\n      <td>-0.438136</td>\n      <td>-1.118318</td>\n    </tr>\n    <tr>\n      <th>2020-06-30</th>\n      <td>1.618982</td>\n      <td>1.541605</td>\n      <td>-0.251879</td>\n      <td>-0.842436</td>\n    </tr>\n    <tr>\n      <th>2020-07-31</th>\n      <td>0.184519</td>\n      <td>0.937082</td>\n      <td>0.731000</td>\n      <td>1.361556</td>\n    </tr>\n    <tr>\n      <th>2020-08-31</th>\n      <td>-0.326238</td>\n      <td>0.055676</td>\n      <td>0.222400</td>\n      <td>-1.443217</td>\n    </tr>\n    <tr>\n      <th>2020-09-30</th>\n      <td>-0.756352</td>\n      <td>0.816454</td>\n      <td>0.750445</td>\n      <td>-0.455947</td>\n    </tr>\n  </tbody>\n</table>\n</div>"
     },
     "metadata": {},
     "execution_count": 19
    }
   ],
   "source": [
    "df.index = dates\n",
    "df"
   ]
  },
  {
   "cell_type": "code",
   "execution_count": 20,
   "metadata": {},
   "outputs": [
    {
     "output_type": "execute_result",
     "data": {
      "text/plain": [
       "array([[-1.74976547,  0.3426804 ,  1.1530358 , -0.25243604],\n",
       "       [ 0.98132079,  0.51421884,  0.22117967, -1.07004333],\n",
       "       [-0.18949583,  0.25500144, -0.45802699,  0.43516349],\n",
       "       [-0.58359505,  0.81684707,  0.67272081, -0.10441114],\n",
       "       [-0.53128038,  1.02973269, -0.43813562, -1.11831825],\n",
       "       [ 1.61898166,  1.54160517, -0.25187914, -0.84243574],\n",
       "       [ 0.18451869,  0.9370822 ,  0.73100034,  1.36155613],\n",
       "       [-0.32623806,  0.05567601,  0.22239961, -1.443217  ],\n",
       "       [-0.75635231,  0.81645401,  0.75044476, -0.45594693]])"
      ]
     },
     "metadata": {},
     "execution_count": 20
    }
   ],
   "source": [
    "# ndarray\n",
    "df.values"
   ]
  },
  {
   "cell_type": "code",
   "execution_count": 21,
   "metadata": {},
   "outputs": [
    {
     "output_type": "execute_result",
     "data": {
      "text/plain": [
       "array([[-1.74976547,  0.3426804 ,  1.1530358 , -0.25243604],\n",
       "       [ 0.98132079,  0.51421884,  0.22117967, -1.07004333],\n",
       "       [-0.18949583,  0.25500144, -0.45802699,  0.43516349],\n",
       "       [-0.58359505,  0.81684707,  0.67272081, -0.10441114],\n",
       "       [-0.53128038,  1.02973269, -0.43813562, -1.11831825],\n",
       "       [ 1.61898166,  1.54160517, -0.25187914, -0.84243574],\n",
       "       [ 0.18451869,  0.9370822 ,  0.73100034,  1.36155613],\n",
       "       [-0.32623806,  0.05567601,  0.22239961, -1.443217  ],\n",
       "       [-0.75635231,  0.81645401,  0.75044476, -0.45594693]])"
      ]
     },
     "metadata": {},
     "execution_count": 21
    }
   ],
   "source": [
    "np.array(df)"
   ]
  },
  {
   "source": [
    "## Basic Analysis"
   ],
   "cell_type": "markdown",
   "metadata": {}
  },
  {
   "cell_type": "code",
   "execution_count": 22,
   "metadata": {},
   "outputs": [
    {
     "output_type": "stream",
     "name": "stdout",
     "text": [
      "<class 'pandas.core.frame.DataFrame'>\nDatetimeIndex: 9 entries, 2020-01-31 to 2020-09-30\nFreq: M\nData columns (total 4 columns):\n #   Column  Non-Null Count  Dtype  \n---  ------  --------------  -----  \n 0   No1     9 non-null      float64\n 1   No2     9 non-null      float64\n 2   No3     9 non-null      float64\n 3   No4     9 non-null      float64\ndtypes: float64(4)\nmemory usage: 360.0 bytes\n"
     ]
    }
   ],
   "source": [
    "df.info()"
   ]
  },
  {
   "cell_type": "code",
   "execution_count": 23,
   "metadata": {},
   "outputs": [
    {
     "output_type": "execute_result",
     "data": {
      "text/plain": [
       "            No1       No2       No3       No4\n",
       "count  9.000000  9.000000  9.000000  9.000000\n",
       "mean  -0.150212  0.701033  0.289193 -0.387788\n",
       "std    0.988306  0.457685  0.579920  0.877532\n",
       "min   -1.749765  0.055676 -0.458027 -1.443217\n",
       "25%   -0.583595  0.342680 -0.251879 -1.070043\n",
       "50%   -0.326238  0.816454  0.222400 -0.455947\n",
       "75%    0.184519  0.937082  0.731000 -0.104411\n",
       "max    1.618982  1.541605  1.153036  1.361556"
      ],
      "text/html": "<div>\n<style scoped>\n    .dataframe tbody tr th:only-of-type {\n        vertical-align: middle;\n    }\n\n    .dataframe tbody tr th {\n        vertical-align: top;\n    }\n\n    .dataframe thead th {\n        text-align: right;\n    }\n</style>\n<table border=\"1\" class=\"dataframe\">\n  <thead>\n    <tr style=\"text-align: right;\">\n      <th></th>\n      <th>No1</th>\n      <th>No2</th>\n      <th>No3</th>\n      <th>No4</th>\n    </tr>\n  </thead>\n  <tbody>\n    <tr>\n      <th>count</th>\n      <td>9.000000</td>\n      <td>9.000000</td>\n      <td>9.000000</td>\n      <td>9.000000</td>\n    </tr>\n    <tr>\n      <th>mean</th>\n      <td>-0.150212</td>\n      <td>0.701033</td>\n      <td>0.289193</td>\n      <td>-0.387788</td>\n    </tr>\n    <tr>\n      <th>std</th>\n      <td>0.988306</td>\n      <td>0.457685</td>\n      <td>0.579920</td>\n      <td>0.877532</td>\n    </tr>\n    <tr>\n      <th>min</th>\n      <td>-1.749765</td>\n      <td>0.055676</td>\n      <td>-0.458027</td>\n      <td>-1.443217</td>\n    </tr>\n    <tr>\n      <th>25%</th>\n      <td>-0.583595</td>\n      <td>0.342680</td>\n      <td>-0.251879</td>\n      <td>-1.070043</td>\n    </tr>\n    <tr>\n      <th>50%</th>\n      <td>-0.326238</td>\n      <td>0.816454</td>\n      <td>0.222400</td>\n      <td>-0.455947</td>\n    </tr>\n    <tr>\n      <th>75%</th>\n      <td>0.184519</td>\n      <td>0.937082</td>\n      <td>0.731000</td>\n      <td>-0.104411</td>\n    </tr>\n    <tr>\n      <th>max</th>\n      <td>1.618982</td>\n      <td>1.541605</td>\n      <td>1.153036</td>\n      <td>1.361556</td>\n    </tr>\n  </tbody>\n</table>\n</div>"
     },
     "metadata": {},
     "execution_count": 23
    }
   ],
   "source": [
    "df.describe()"
   ]
  },
  {
   "cell_type": "code",
   "execution_count": 24,
   "metadata": {},
   "outputs": [
    {
     "output_type": "execute_result",
     "data": {
      "text/plain": [
       "No1   -1.351906\n",
       "No2    6.309298\n",
       "No3    2.602739\n",
       "No4   -3.490089\n",
       "dtype: float64"
      ]
     },
     "metadata": {},
     "execution_count": 24
    }
   ],
   "source": [
    "# Column-wise sum\n",
    "df.sum()"
   ]
  },
  {
   "cell_type": "code",
   "execution_count": 25,
   "metadata": {},
   "outputs": [
    {
     "output_type": "execute_result",
     "data": {
      "text/plain": [
       "No1   -0.150212\n",
       "No2    0.701033\n",
       "No3    0.289193\n",
       "No4   -0.387788\n",
       "dtype: float64"
      ]
     },
     "metadata": {},
     "execution_count": 25
    }
   ],
   "source": [
    "# Column wise mean\n",
    "# np.mean(df)\n",
    "df.mean()"
   ]
  },
  {
   "cell_type": "code",
   "execution_count": 26,
   "metadata": {},
   "outputs": [
    {
     "output_type": "execute_result",
     "data": {
      "text/plain": [
       "2020-01-31   -0.126621\n",
       "2020-02-29    0.161669\n",
       "2020-03-31    0.010661\n",
       "2020-04-30    0.200390\n",
       "2020-05-31   -0.264500\n",
       "2020-06-30    0.516568\n",
       "2020-07-31    0.803539\n",
       "2020-08-31   -0.372845\n",
       "2020-09-30    0.088650\n",
       "Freq: M, dtype: float64"
      ]
     },
     "metadata": {},
     "execution_count": 26
    }
   ],
   "source": [
    "# Row wise mean\n",
    "df.mean(axis=1)"
   ]
  },
  {
   "cell_type": "code",
   "execution_count": 27,
   "metadata": {},
   "outputs": [
    {
     "output_type": "execute_result",
     "data": {
      "text/plain": [
       "                 No1       No2       No3       No4\n",
       "2020-01-31 -1.749765  0.342680  1.153036 -0.252436\n",
       "2020-02-29 -0.768445  0.856899  1.374215 -1.322479\n",
       "2020-03-31 -0.957941  1.111901  0.916188 -0.887316\n",
       "2020-04-30 -1.541536  1.928748  1.588909 -0.991727\n",
       "2020-05-31 -2.072816  2.958480  1.150774 -2.110045\n",
       "2020-06-30 -0.453834  4.500086  0.898895 -2.952481\n",
       "2020-07-31 -0.269316  5.437168  1.629895 -1.590925\n",
       "2020-08-31 -0.595554  5.492844  1.852294 -3.034142\n",
       "2020-09-30 -1.351906  6.309298  2.602739 -3.490089"
      ],
      "text/html": "<div>\n<style scoped>\n    .dataframe tbody tr th:only-of-type {\n        vertical-align: middle;\n    }\n\n    .dataframe tbody tr th {\n        vertical-align: top;\n    }\n\n    .dataframe thead th {\n        text-align: right;\n    }\n</style>\n<table border=\"1\" class=\"dataframe\">\n  <thead>\n    <tr style=\"text-align: right;\">\n      <th></th>\n      <th>No1</th>\n      <th>No2</th>\n      <th>No3</th>\n      <th>No4</th>\n    </tr>\n  </thead>\n  <tbody>\n    <tr>\n      <th>2020-01-31</th>\n      <td>-1.749765</td>\n      <td>0.342680</td>\n      <td>1.153036</td>\n      <td>-0.252436</td>\n    </tr>\n    <tr>\n      <th>2020-02-29</th>\n      <td>-0.768445</td>\n      <td>0.856899</td>\n      <td>1.374215</td>\n      <td>-1.322479</td>\n    </tr>\n    <tr>\n      <th>2020-03-31</th>\n      <td>-0.957941</td>\n      <td>1.111901</td>\n      <td>0.916188</td>\n      <td>-0.887316</td>\n    </tr>\n    <tr>\n      <th>2020-04-30</th>\n      <td>-1.541536</td>\n      <td>1.928748</td>\n      <td>1.588909</td>\n      <td>-0.991727</td>\n    </tr>\n    <tr>\n      <th>2020-05-31</th>\n      <td>-2.072816</td>\n      <td>2.958480</td>\n      <td>1.150774</td>\n      <td>-2.110045</td>\n    </tr>\n    <tr>\n      <th>2020-06-30</th>\n      <td>-0.453834</td>\n      <td>4.500086</td>\n      <td>0.898895</td>\n      <td>-2.952481</td>\n    </tr>\n    <tr>\n      <th>2020-07-31</th>\n      <td>-0.269316</td>\n      <td>5.437168</td>\n      <td>1.629895</td>\n      <td>-1.590925</td>\n    </tr>\n    <tr>\n      <th>2020-08-31</th>\n      <td>-0.595554</td>\n      <td>5.492844</td>\n      <td>1.852294</td>\n      <td>-3.034142</td>\n    </tr>\n    <tr>\n      <th>2020-09-30</th>\n      <td>-1.351906</td>\n      <td>6.309298</td>\n      <td>2.602739</td>\n      <td>-3.490089</td>\n    </tr>\n  </tbody>\n</table>\n</div>"
     },
     "metadata": {},
     "execution_count": 27
    }
   ],
   "source": [
    "# Column-wise Cumilative Sum\n",
    "df.cumsum()"
   ]
  },
  {
   "cell_type": "code",
   "execution_count": 28,
   "metadata": {},
   "outputs": [
    {
     "output_type": "execute_result",
     "data": {
      "text/plain": [
       "                 No1       No2       No3       No4\n",
       "2020-01-31       NaN -1.070957  0.142398       NaN\n",
       "2020-02-29 -0.018856 -0.665106 -1.508780       NaN\n",
       "2020-03-31       NaN -1.366486       NaN -0.832033\n",
       "2020-04-30       NaN -0.202303 -0.396425       NaN\n",
       "2020-05-31       NaN  0.029299       NaN       NaN\n",
       "2020-06-30  0.481797  0.432824       NaN       NaN\n",
       "2020-07-31 -1.690005 -0.064984 -0.313341  0.308628\n",
       "2020-08-31       NaN -2.888206 -1.503279       NaN\n",
       "2020-09-30       NaN -0.202785 -0.287089       NaN"
      ],
      "text/html": "<div>\n<style scoped>\n    .dataframe tbody tr th:only-of-type {\n        vertical-align: middle;\n    }\n\n    .dataframe tbody tr th {\n        vertical-align: top;\n    }\n\n    .dataframe thead th {\n        text-align: right;\n    }\n</style>\n<table border=\"1\" class=\"dataframe\">\n  <thead>\n    <tr style=\"text-align: right;\">\n      <th></th>\n      <th>No1</th>\n      <th>No2</th>\n      <th>No3</th>\n      <th>No4</th>\n    </tr>\n  </thead>\n  <tbody>\n    <tr>\n      <th>2020-01-31</th>\n      <td>NaN</td>\n      <td>-1.070957</td>\n      <td>0.142398</td>\n      <td>NaN</td>\n    </tr>\n    <tr>\n      <th>2020-02-29</th>\n      <td>-0.018856</td>\n      <td>-0.665106</td>\n      <td>-1.508780</td>\n      <td>NaN</td>\n    </tr>\n    <tr>\n      <th>2020-03-31</th>\n      <td>NaN</td>\n      <td>-1.366486</td>\n      <td>NaN</td>\n      <td>-0.832033</td>\n    </tr>\n    <tr>\n      <th>2020-04-30</th>\n      <td>NaN</td>\n      <td>-0.202303</td>\n      <td>-0.396425</td>\n      <td>NaN</td>\n    </tr>\n    <tr>\n      <th>2020-05-31</th>\n      <td>NaN</td>\n      <td>0.029299</td>\n      <td>NaN</td>\n      <td>NaN</td>\n    </tr>\n    <tr>\n      <th>2020-06-30</th>\n      <td>0.481797</td>\n      <td>0.432824</td>\n      <td>NaN</td>\n      <td>NaN</td>\n    </tr>\n    <tr>\n      <th>2020-07-31</th>\n      <td>-1.690005</td>\n      <td>-0.064984</td>\n      <td>-0.313341</td>\n      <td>0.308628</td>\n    </tr>\n    <tr>\n      <th>2020-08-31</th>\n      <td>NaN</td>\n      <td>-2.888206</td>\n      <td>-1.503279</td>\n      <td>NaN</td>\n    </tr>\n    <tr>\n      <th>2020-09-30</th>\n      <td>NaN</td>\n      <td>-0.202785</td>\n      <td>-0.287089</td>\n      <td>NaN</td>\n    </tr>\n  </tbody>\n</table>\n</div>"
     },
     "metadata": {},
     "execution_count": 28
    }
   ],
   "source": [
    "# Element-wise natural logarithm\n",
    "np.log(df)"
   ]
  },
  {
   "cell_type": "code",
   "execution_count": 30,
   "metadata": {},
   "outputs": [
    {
     "output_type": "execute_result",
     "data": {
      "text/plain": [
       "                 No1       No2       No3       No4\n",
       "2020-01-31  1.322787  0.585389  1.073795  0.502430\n",
       "2020-02-29  0.990616  0.717091  0.470297  1.034429\n",
       "2020-03-31  0.435311  0.504977  0.676777  0.659669\n",
       "2020-04-30  0.763934  0.903796  0.820196  0.323127\n",
       "2020-05-31  0.728890  1.014757  0.661918  1.057506\n",
       "2020-06-30  1.272392  1.241614  0.501876  0.917843\n",
       "2020-07-31  0.429556  0.968030  0.854986  1.166857\n",
       "2020-08-31  0.571173  0.235958  0.471593  1.201340\n",
       "2020-09-30  0.869685  0.903578  0.866282  0.675238"
      ],
      "text/html": "<div>\n<style scoped>\n    .dataframe tbody tr th:only-of-type {\n        vertical-align: middle;\n    }\n\n    .dataframe tbody tr th {\n        vertical-align: top;\n    }\n\n    .dataframe thead th {\n        text-align: right;\n    }\n</style>\n<table border=\"1\" class=\"dataframe\">\n  <thead>\n    <tr style=\"text-align: right;\">\n      <th></th>\n      <th>No1</th>\n      <th>No2</th>\n      <th>No3</th>\n      <th>No4</th>\n    </tr>\n  </thead>\n  <tbody>\n    <tr>\n      <th>2020-01-31</th>\n      <td>1.322787</td>\n      <td>0.585389</td>\n      <td>1.073795</td>\n      <td>0.502430</td>\n    </tr>\n    <tr>\n      <th>2020-02-29</th>\n      <td>0.990616</td>\n      <td>0.717091</td>\n      <td>0.470297</td>\n      <td>1.034429</td>\n    </tr>\n    <tr>\n      <th>2020-03-31</th>\n      <td>0.435311</td>\n      <td>0.504977</td>\n      <td>0.676777</td>\n      <td>0.659669</td>\n    </tr>\n    <tr>\n      <th>2020-04-30</th>\n      <td>0.763934</td>\n      <td>0.903796</td>\n      <td>0.820196</td>\n      <td>0.323127</td>\n    </tr>\n    <tr>\n      <th>2020-05-31</th>\n      <td>0.728890</td>\n      <td>1.014757</td>\n      <td>0.661918</td>\n      <td>1.057506</td>\n    </tr>\n    <tr>\n      <th>2020-06-30</th>\n      <td>1.272392</td>\n      <td>1.241614</td>\n      <td>0.501876</td>\n      <td>0.917843</td>\n    </tr>\n    <tr>\n      <th>2020-07-31</th>\n      <td>0.429556</td>\n      <td>0.968030</td>\n      <td>0.854986</td>\n      <td>1.166857</td>\n    </tr>\n    <tr>\n      <th>2020-08-31</th>\n      <td>0.571173</td>\n      <td>0.235958</td>\n      <td>0.471593</td>\n      <td>1.201340</td>\n    </tr>\n    <tr>\n      <th>2020-09-30</th>\n      <td>0.869685</td>\n      <td>0.903578</td>\n      <td>0.866282</td>\n      <td>0.675238</td>\n    </tr>\n  </tbody>\n</table>\n</div>"
     },
     "metadata": {},
     "execution_count": 30
    }
   ],
   "source": [
    "# Element-wise square root for the absolute values\n",
    "np.sqrt(abs(df))"
   ]
  },
  {
   "cell_type": "code",
   "execution_count": 31,
   "metadata": {},
   "outputs": [
    {
     "output_type": "execute_result",
     "data": {
      "text/plain": [
       "                   No1         No2         No3         No4\n",
       "2020-01-31  -74.976547  134.268040  215.303580   74.756396\n",
       "2020-02-29  198.132079  151.421884  122.117967   -7.004333\n",
       "2020-03-31   81.050417  125.500144   54.197301  143.516349\n",
       "2020-04-30   41.640495  181.684707  167.272081   89.558886\n",
       "2020-05-31   46.871962  202.973269   56.186438  -11.831825\n",
       "2020-06-30  261.898166  254.160517   74.812086   15.756426\n",
       "2020-07-31  118.451869  193.708220  173.100034  236.155613\n",
       "2020-08-31   67.376194  105.567601  122.239961  -44.321700\n",
       "2020-09-30   24.364769  181.645401  175.044476   54.405307"
      ],
      "text/html": "<div>\n<style scoped>\n    .dataframe tbody tr th:only-of-type {\n        vertical-align: middle;\n    }\n\n    .dataframe tbody tr th {\n        vertical-align: top;\n    }\n\n    .dataframe thead th {\n        text-align: right;\n    }\n</style>\n<table border=\"1\" class=\"dataframe\">\n  <thead>\n    <tr style=\"text-align: right;\">\n      <th></th>\n      <th>No1</th>\n      <th>No2</th>\n      <th>No3</th>\n      <th>No4</th>\n    </tr>\n  </thead>\n  <tbody>\n    <tr>\n      <th>2020-01-31</th>\n      <td>-74.976547</td>\n      <td>134.268040</td>\n      <td>215.303580</td>\n      <td>74.756396</td>\n    </tr>\n    <tr>\n      <th>2020-02-29</th>\n      <td>198.132079</td>\n      <td>151.421884</td>\n      <td>122.117967</td>\n      <td>-7.004333</td>\n    </tr>\n    <tr>\n      <th>2020-03-31</th>\n      <td>81.050417</td>\n      <td>125.500144</td>\n      <td>54.197301</td>\n      <td>143.516349</td>\n    </tr>\n    <tr>\n      <th>2020-04-30</th>\n      <td>41.640495</td>\n      <td>181.684707</td>\n      <td>167.272081</td>\n      <td>89.558886</td>\n    </tr>\n    <tr>\n      <th>2020-05-31</th>\n      <td>46.871962</td>\n      <td>202.973269</td>\n      <td>56.186438</td>\n      <td>-11.831825</td>\n    </tr>\n    <tr>\n      <th>2020-06-30</th>\n      <td>261.898166</td>\n      <td>254.160517</td>\n      <td>74.812086</td>\n      <td>15.756426</td>\n    </tr>\n    <tr>\n      <th>2020-07-31</th>\n      <td>118.451869</td>\n      <td>193.708220</td>\n      <td>173.100034</td>\n      <td>236.155613</td>\n    </tr>\n    <tr>\n      <th>2020-08-31</th>\n      <td>67.376194</td>\n      <td>105.567601</td>\n      <td>122.239961</td>\n      <td>-44.321700</td>\n    </tr>\n    <tr>\n      <th>2020-09-30</th>\n      <td>24.364769</td>\n      <td>181.645401</td>\n      <td>175.044476</td>\n      <td>54.405307</td>\n    </tr>\n  </tbody>\n</table>\n</div>"
     },
     "metadata": {},
     "execution_count": 31
    }
   ],
   "source": [
    "# Linear transformation of the numerical data\n",
    "100 * df + 100"
   ]
  },
  {
   "cell_type": "code",
   "execution_count": 32,
   "metadata": {},
   "outputs": [
    {
     "output_type": "execute_result",
     "data": {
      "text/plain": [
       "<AxesSubplot:>"
      ]
     },
     "metadata": {},
     "execution_count": 32
    },
    {
     "output_type": "display_data",
     "data": {
      "text/plain": "<Figure size 720x432 with 1 Axes>",
      "image/svg+xml": "<?xml version=\"1.0\" encoding=\"utf-8\" standalone=\"no\"?>\n<!DOCTYPE svg PUBLIC \"-//W3C//DTD SVG 1.1//EN\"\n  \"http://www.w3.org/Graphics/SVG/1.1/DTD/svg11.dtd\">\n<!-- Created with matplotlib (https://matplotlib.org/) -->\n<svg height=\"368.435938pt\" version=\"1.1\" viewBox=\"0 0 603.727344 368.435938\" width=\"603.727344pt\" xmlns=\"http://www.w3.org/2000/svg\" xmlns:xlink=\"http://www.w3.org/1999/xlink\">\n <metadata>\n  <rdf:RDF xmlns:cc=\"http://creativecommons.org/ns#\" xmlns:dc=\"http://purl.org/dc/elements/1.1/\" xmlns:rdf=\"http://www.w3.org/1999/02/22-rdf-syntax-ns#\">\n   <cc:Work>\n    <dc:type rdf:resource=\"http://purl.org/dc/dcmitype/StillImage\"/>\n    <dc:date>2021-03-17T00:02:28.996248</dc:date>\n    <dc:format>image/svg+xml</dc:format>\n    <dc:creator>\n     <cc:Agent>\n      <dc:title>Matplotlib v3.3.4, https://matplotlib.org/</dc:title>\n     </cc:Agent>\n    </dc:creator>\n   </cc:Work>\n  </rdf:RDF>\n </metadata>\n <defs>\n  <style type=\"text/css\">*{stroke-linecap:butt;stroke-linejoin:round;}</style>\n </defs>\n <g id=\"figure_1\">\n  <g id=\"patch_1\">\n   <path d=\"M 0 368.435938 \nL 603.727344 368.435938 \nL 603.727344 0 \nL 0 0 \nz\n\" style=\"fill:#ffffff;\"/>\n  </g>\n  <g id=\"axes_1\">\n   <g id=\"patch_2\">\n    <path d=\"M 28.942188 333.36 \nL 586.942188 333.36 \nL 586.942188 7.2 \nL 28.942188 7.2 \nz\n\" style=\"fill:#eaeaf2;\"/>\n   </g>\n   <g id=\"matplotlib.axis_1\">\n    <g id=\"xtick_1\">\n     <g id=\"line2d_1\">\n      <path clip-path=\"url(#p63dff3a9d0)\" d=\"M 28.942187 333.36 \nL 28.942187 7.2 \n\" style=\"fill:none;stroke:#ffffff;stroke-linecap:round;\"/>\n     </g>\n     <g id=\"line2d_2\"/>\n     <g id=\"text_1\">\n      <!-- Jan -->\n      <g style=\"fill:#262626;\" transform=\"translate(20.735937 347.958438)scale(0.1 -0.1)\">\n       <defs>\n        <path d=\"M -8.40625 -17.484375 \nL -8.40625 -6 \nL -2.828125 -6 \nQ -2.6875 -10.84375 -0.53125 -13.203125 \nQ 1.609375 -15.578125 5.90625 -15.578125 \nQ 11.71875 -15.578125 14.015625 -11.90625 \nQ 16.3125 -8.25 16.3125 2.390625 \nL 16.3125 67.671875 \nL 4.984375 67.671875 \nL 4.984375 72.90625 \nL 35.5 72.90625 \nL 35.5 67.671875 \nL 26.21875 67.671875 \nL 26.21875 2 \nQ 26.21875 -10.0625 21.375 -15.421875 \nQ 16.546875 -20.796875 5.8125 -20.796875 \nQ 2.34375 -20.796875 -1.234375 -19.96875 \nQ -4.828125 -19.140625 -8.40625 -17.484375 \nz\n\" id=\"DejaVuSerif-74\"/>\n        <path d=\"M 39.796875 16.3125 \nL 39.796875 27.296875 \nL 28.21875 27.296875 \nQ 21.53125 27.296875 18.25 24.40625 \nQ 14.984375 21.53125 14.984375 15.578125 \nQ 14.984375 10.15625 18.296875 6.984375 \nQ 21.625 3.8125 27.296875 3.8125 \nQ 32.90625 3.8125 36.34375 7.28125 \nQ 39.796875 10.75 39.796875 16.3125 \nz\nM 48.78125 32.421875 \nL 48.78125 5.171875 \nL 56.78125 5.171875 \nL 56.78125 0 \nL 39.796875 0 \nL 39.796875 5.609375 \nQ 36.8125 2 32.90625 0.28125 \nQ 29 -1.421875 23.78125 -1.421875 \nQ 15.140625 -1.421875 10.0625 3.171875 \nQ 4.984375 7.765625 4.984375 15.578125 \nQ 4.984375 23.640625 10.796875 28.078125 \nQ 16.609375 32.515625 27.203125 32.515625 \nL 39.796875 32.515625 \nL 39.796875 36.078125 \nQ 39.796875 42 36.203125 45.234375 \nQ 32.625 48.484375 26.125 48.484375 \nQ 20.75 48.484375 17.578125 46.046875 \nQ 14.40625 43.609375 13.625 38.8125 \nL 8.984375 38.8125 \nL 8.984375 49.3125 \nQ 13.671875 51.3125 18.09375 52.3125 \nQ 22.515625 53.328125 26.703125 53.328125 \nQ 37.5 53.328125 43.140625 47.96875 \nQ 48.78125 42.625 48.78125 32.421875 \nz\n\" id=\"DejaVuSerif-97\"/>\n        <path d=\"M 4.109375 0 \nL 4.109375 5.171875 \nL 12.203125 5.171875 \nL 12.203125 46.6875 \nL 3.609375 46.6875 \nL 3.609375 51.90625 \nL 21.1875 51.90625 \nL 21.1875 42.671875 \nQ 23.6875 47.953125 27.65625 50.640625 \nQ 31.640625 53.328125 36.921875 53.328125 \nQ 45.515625 53.328125 49.5625 48.390625 \nQ 53.609375 43.453125 53.609375 33.015625 \nL 53.609375 5.171875 \nL 61.625 5.171875 \nL 61.625 0 \nL 36.8125 0 \nL 36.8125 5.171875 \nL 44.578125 5.171875 \nL 44.578125 30.171875 \nQ 44.578125 39.703125 42.234375 43.234375 \nQ 39.890625 46.78125 33.984375 46.78125 \nQ 27.734375 46.78125 24.453125 42.203125 \nQ 21.1875 37.640625 21.1875 28.90625 \nL 21.1875 5.171875 \nL 29 5.171875 \nL 29 0 \nz\n\" id=\"DejaVuSerif-110\"/>\n       </defs>\n       <use xlink:href=\"#DejaVuSerif-74\"/>\n       <use x=\"40.087891\" xlink:href=\"#DejaVuSerif-97\"/>\n       <use x=\"99.707031\" xlink:href=\"#DejaVuSerif-110\"/>\n      </g>\n      <!-- 2020 -->\n      <g style=\"fill:#262626;\" transform=\"translate(16.217187 359.15625)scale(0.1 -0.1)\">\n       <defs>\n        <path d=\"M 12.796875 55.515625 \nL 7.328125 55.515625 \nL 7.328125 68.5 \nQ 12.546875 71.296875 17.84375 72.75 \nQ 23.140625 74.21875 28.21875 74.21875 \nQ 39.59375 74.21875 46.1875 68.703125 \nQ 52.78125 63.1875 52.78125 53.71875 \nQ 52.78125 43.015625 37.84375 28.125 \nQ 36.671875 27 36.078125 26.421875 \nL 17.671875 8.015625 \nL 48.09375 8.015625 \nL 48.09375 17 \nL 53.8125 17 \nL 53.8125 0 \nL 6.78125 0 \nL 6.78125 5.328125 \nL 28.90625 27.390625 \nQ 36.234375 34.71875 39.359375 40.84375 \nQ 42.484375 46.96875 42.484375 53.71875 \nQ 42.484375 61.078125 38.640625 65.234375 \nQ 34.8125 69.390625 28.078125 69.390625 \nQ 21.09375 69.390625 17.28125 65.921875 \nQ 13.484375 62.453125 12.796875 55.515625 \nz\n\" id=\"DejaVuSerif-50\"/>\n        <path d=\"M 31.78125 3.421875 \nQ 39.265625 3.421875 42.96875 11.625 \nQ 46.6875 19.828125 46.6875 36.375 \nQ 46.6875 52.984375 42.96875 61.1875 \nQ 39.265625 69.390625 31.78125 69.390625 \nQ 24.3125 69.390625 20.59375 61.1875 \nQ 16.890625 52.984375 16.890625 36.375 \nQ 16.890625 19.828125 20.59375 11.625 \nQ 24.3125 3.421875 31.78125 3.421875 \nz\nM 31.78125 -1.421875 \nQ 19.921875 -1.421875 13.25 8.53125 \nQ 6.59375 18.5 6.59375 36.375 \nQ 6.59375 54.296875 13.25 64.25 \nQ 19.921875 74.21875 31.78125 74.21875 \nQ 43.703125 74.21875 50.34375 64.25 \nQ 56.984375 54.296875 56.984375 36.375 \nQ 56.984375 18.5 50.34375 8.53125 \nQ 43.703125 -1.421875 31.78125 -1.421875 \nz\n\" id=\"DejaVuSerif-48\"/>\n       </defs>\n       <use xlink:href=\"#DejaVuSerif-50\"/>\n       <use x=\"63.623047\" xlink:href=\"#DejaVuSerif-48\"/>\n       <use x=\"127.246094\" xlink:href=\"#DejaVuSerif-50\"/>\n       <use x=\"190.869141\" xlink:href=\"#DejaVuSerif-48\"/>\n      </g>\n     </g>\n    </g>\n    <g id=\"xtick_2\">\n     <g id=\"line2d_3\"/>\n     <g id=\"text_2\">\n      <!-- Feb -->\n      <g style=\"fill:#262626;\" transform=\"translate(89.3375 344.358438)scale(0.1 -0.1)\">\n       <defs>\n        <path d=\"M 5.515625 0 \nL 5.515625 5.171875 \nL 14.796875 5.171875 \nL 14.796875 67.671875 \nL 5.515625 67.671875 \nL 5.515625 72.90625 \nL 65.1875 72.90625 \nL 65.1875 56.6875 \nL 59.1875 56.6875 \nL 59.1875 66.890625 \nL 24.703125 66.890625 \nL 24.703125 42.484375 \nL 49.609375 42.484375 \nL 49.609375 51.609375 \nL 55.609375 51.609375 \nL 55.609375 27.390625 \nL 49.609375 27.390625 \nL 49.609375 36.53125 \nL 24.703125 36.53125 \nL 24.703125 5.171875 \nL 36.375 5.171875 \nL 36.375 0 \nz\n\" id=\"DejaVuSerif-70\"/>\n        <path d=\"M 54.203125 25 \nL 15.484375 25 \nL 15.484375 24.609375 \nQ 15.484375 14.109375 19.4375 8.765625 \nQ 23.390625 3.421875 31.109375 3.421875 \nQ 37.015625 3.421875 40.796875 6.515625 \nQ 44.578125 9.625 46.09375 15.71875 \nL 53.328125 15.71875 \nQ 51.171875 7.171875 45.375 2.875 \nQ 39.59375 -1.421875 30.171875 -1.421875 \nQ 18.796875 -1.421875 11.890625 6.078125 \nQ 4.984375 13.578125 4.984375 25.984375 \nQ 4.984375 38.28125 11.765625 45.796875 \nQ 18.5625 53.328125 29.59375 53.328125 \nQ 41.359375 53.328125 47.65625 46.0625 \nQ 53.953125 38.8125 54.203125 25 \nz\nM 43.609375 30.171875 \nQ 43.3125 39.265625 39.765625 43.875 \nQ 36.234375 48.484375 29.59375 48.484375 \nQ 23.390625 48.484375 19.828125 43.84375 \nQ 16.265625 39.203125 15.484375 30.171875 \nz\n\" id=\"DejaVuSerif-101\"/>\n        <path d=\"M 11.53125 5.171875 \nL 11.53125 70.796875 \nL 2.875 70.796875 \nL 2.875 75.984375 \nL 20.515625 75.984375 \nL 20.515625 43.796875 \nQ 23.140625 48.6875 27.21875 51 \nQ 31.296875 53.328125 37.3125 53.328125 \nQ 46.875 53.328125 52.921875 45.75 \nQ 58.984375 38.1875 58.984375 25.984375 \nQ 58.984375 13.765625 52.921875 6.171875 \nQ 46.875 -1.421875 37.3125 -1.421875 \nQ 31.296875 -1.421875 27.21875 0.890625 \nQ 23.140625 3.21875 20.515625 8.109375 \nL 20.515625 0 \nL 2.875 0 \nL 2.875 5.171875 \nz\nM 20.515625 23.390625 \nQ 20.515625 14.015625 24.09375 9.109375 \nQ 27.6875 4.203125 34.515625 4.203125 \nQ 41.40625 4.203125 44.9375 9.71875 \nQ 48.484375 15.234375 48.484375 25.984375 \nQ 48.484375 36.765625 44.9375 42.234375 \nQ 41.40625 47.703125 34.515625 47.703125 \nQ 27.6875 47.703125 24.09375 42.765625 \nQ 20.515625 37.84375 20.515625 28.515625 \nz\n\" id=\"DejaVuSerif-98\"/>\n       </defs>\n       <use xlink:href=\"#DejaVuSerif-70\"/>\n       <use x=\"63.884766\" xlink:href=\"#DejaVuSerif-101\"/>\n       <use x=\"123.064453\" xlink:href=\"#DejaVuSerif-98\"/>\n      </g>\n     </g>\n    </g>\n    <g id=\"xtick_3\">\n     <g id=\"line2d_4\"/>\n     <g id=\"text_3\">\n      <!-- Mar -->\n      <g style=\"fill:#262626;\" transform=\"translate(157.951562 344.358438)scale(0.1 -0.1)\">\n       <defs>\n        <path d=\"M 5.515625 0 \nL 5.515625 5.171875 \nL 14.796875 5.171875 \nL 14.796875 67.671875 \nL 4.984375 67.671875 \nL 4.984375 72.90625 \nL 26.21875 72.90625 \nL 51.8125 21 \nL 77.390625 72.90625 \nL 97.3125 72.90625 \nL 97.3125 67.671875 \nL 87.59375 67.671875 \nL 87.59375 5.171875 \nL 96.921875 5.171875 \nL 96.921875 0 \nL 68.40625 0 \nL 68.40625 5.171875 \nL 77.6875 5.171875 \nL 77.6875 61.53125 \nL 52.6875 10.6875 \nL 45.796875 10.6875 \nL 20.796875 61.53125 \nL 20.796875 5.171875 \nL 30.078125 5.171875 \nL 30.078125 0 \nz\n\" id=\"DejaVuSerif-77\"/>\n        <path d=\"M 47.796875 52 \nL 47.796875 39.015625 \nL 42.625 39.015625 \nQ 42.390625 42.875 40.484375 44.78125 \nQ 38.578125 46.6875 34.90625 46.6875 \nQ 28.265625 46.6875 24.71875 42.09375 \nQ 21.1875 37.5 21.1875 28.90625 \nL 21.1875 5.171875 \nL 31.59375 5.171875 \nL 31.59375 0 \nL 4.109375 0 \nL 4.109375 5.171875 \nL 12.203125 5.171875 \nL 12.203125 46.78125 \nL 3.609375 46.78125 \nL 3.609375 51.90625 \nL 21.1875 51.90625 \nL 21.1875 42.671875 \nQ 23.828125 48.09375 27.96875 50.703125 \nQ 32.125 53.328125 38.09375 53.328125 \nQ 40.28125 53.328125 42.703125 52.984375 \nQ 45.125 52.640625 47.796875 52 \nz\n\" id=\"DejaVuSerif-114\"/>\n       </defs>\n       <use xlink:href=\"#DejaVuSerif-77\"/>\n       <use x=\"102.392578\" xlink:href=\"#DejaVuSerif-97\"/>\n       <use x=\"162.011719\" xlink:href=\"#DejaVuSerif-114\"/>\n      </g>\n     </g>\n    </g>\n    <g id=\"xtick_4\">\n     <g id=\"line2d_5\"/>\n     <g id=\"text_4\">\n      <!-- Apr -->\n      <g style=\"fill:#262626;\" transform=\"translate(228.990625 344.358438)scale(0.1 -0.1)\">\n       <defs>\n        <path d=\"M 20.015625 26.421875 \nL 46.78125 26.421875 \nL 33.40625 61.078125 \nz\nM -0.59375 0 \nL -0.59375 5.171875 \nL 5.8125 5.171875 \nL 31.78125 72.90625 \nL 39.984375 72.90625 \nL 66.015625 5.171875 \nL 73.1875 5.171875 \nL 73.1875 0 \nL 46.6875 0 \nL 46.6875 5.171875 \nL 54.78125 5.171875 \nL 48.6875 21.1875 \nL 18.015625 21.1875 \nL 11.921875 5.171875 \nL 19.921875 5.171875 \nL 19.921875 0 \nz\n\" id=\"DejaVuSerif-65\"/>\n        <path d=\"M 20.515625 28.515625 \nL 20.515625 23.390625 \nQ 20.515625 14.015625 24.09375 9.109375 \nQ 27.6875 4.203125 34.515625 4.203125 \nQ 41.40625 4.203125 44.9375 9.71875 \nQ 48.484375 15.234375 48.484375 25.984375 \nQ 48.484375 36.765625 44.9375 42.234375 \nQ 41.40625 47.703125 34.515625 47.703125 \nQ 27.6875 47.703125 24.09375 42.765625 \nQ 20.515625 37.84375 20.515625 28.515625 \nz\nM 11.53125 46.6875 \nL 2.875 46.6875 \nL 2.875 51.90625 \nL 20.515625 51.90625 \nL 20.515625 43.796875 \nQ 23.140625 48.6875 27.21875 51 \nQ 31.296875 53.328125 37.3125 53.328125 \nQ 46.875 53.328125 52.921875 45.75 \nQ 58.984375 38.1875 58.984375 25.984375 \nQ 58.984375 13.765625 52.921875 6.171875 \nQ 46.875 -1.421875 37.3125 -1.421875 \nQ 31.296875 -1.421875 27.21875 0.890625 \nQ 23.140625 3.21875 20.515625 8.109375 \nL 20.515625 -15.578125 \nL 29 -15.578125 \nL 29 -20.796875 \nL 2.875 -20.796875 \nL 2.875 -15.578125 \nL 11.53125 -15.578125 \nz\n\" id=\"DejaVuSerif-112\"/>\n       </defs>\n       <use xlink:href=\"#DejaVuSerif-65\"/>\n       <use x=\"72.216797\" xlink:href=\"#DejaVuSerif-112\"/>\n       <use x=\"136.230469\" xlink:href=\"#DejaVuSerif-114\"/>\n      </g>\n     </g>\n    </g>\n    <g id=\"xtick_5\">\n     <g id=\"line2d_6\"/>\n     <g id=\"text_5\">\n      <!-- May -->\n      <g style=\"fill:#262626;\" transform=\"translate(297.016406 344.21625)scale(0.1 -0.1)\">\n       <defs>\n        <path d=\"M 21.578125 -9.515625 \nL 25 -0.875 \nL 5.609375 46.6875 \nL -0.296875 46.6875 \nL -0.296875 51.90625 \nL 23.578125 51.90625 \nL 23.578125 46.6875 \nL 15.28125 46.6875 \nL 29.890625 10.984375 \nL 44.484375 46.6875 \nL 36.71875 46.6875 \nL 36.71875 51.90625 \nL 56.203125 51.90625 \nL 56.203125 46.6875 \nL 50.390625 46.6875 \nL 26.609375 -11.71875 \nQ 24.171875 -17.78125 21.1875 -20 \nQ 18.21875 -22.21875 12.796875 -22.21875 \nQ 10.5 -22.21875 8.078125 -21.828125 \nQ 5.671875 -21.4375 3.21875 -20.703125 \nL 3.21875 -10.796875 \nL 7.8125 -10.796875 \nQ 8.109375 -14.109375 9.5 -15.546875 \nQ 10.890625 -17 13.8125 -17 \nQ 16.5 -17 18.140625 -15.5 \nQ 19.78125 -14.015625 21.578125 -9.515625 \nz\n\" id=\"DejaVuSerif-121\"/>\n       </defs>\n       <use xlink:href=\"#DejaVuSerif-77\"/>\n       <use x=\"102.392578\" xlink:href=\"#DejaVuSerif-97\"/>\n       <use x=\"162.011719\" xlink:href=\"#DejaVuSerif-121\"/>\n      </g>\n     </g>\n    </g>\n    <g id=\"xtick_6\">\n     <g id=\"line2d_7\"/>\n     <g id=\"text_6\">\n      <!-- Jun -->\n      <g style=\"fill:#262626;\" transform=\"translate(369.246875 344.358438)scale(0.1 -0.1)\">\n       <defs>\n        <path d=\"M 35.40625 51.90625 \nL 52.203125 51.90625 \nL 52.203125 5.171875 \nL 60.6875 5.171875 \nL 60.6875 0 \nL 43.21875 0 \nL 43.21875 9.1875 \nQ 40.71875 4 36.765625 1.28125 \nQ 32.8125 -1.421875 27.59375 -1.421875 \nQ 18.953125 -1.421875 14.875 3.484375 \nQ 10.796875 8.40625 10.796875 18.890625 \nL 10.796875 46.6875 \nL 2.6875 46.6875 \nL 2.6875 51.90625 \nL 19.828125 51.90625 \nL 19.828125 21.6875 \nQ 19.828125 12.203125 22.140625 8.6875 \nQ 24.46875 5.171875 30.421875 5.171875 \nQ 36.671875 5.171875 39.9375 9.765625 \nQ 43.21875 14.359375 43.21875 23.09375 \nL 43.21875 46.6875 \nL 35.40625 46.6875 \nz\n\" id=\"DejaVuSerif-117\"/>\n       </defs>\n       <use xlink:href=\"#DejaVuSerif-74\"/>\n       <use x=\"40.087891\" xlink:href=\"#DejaVuSerif-117\"/>\n       <use x=\"104.492188\" xlink:href=\"#DejaVuSerif-110\"/>\n      </g>\n     </g>\n    </g>\n    <g id=\"xtick_7\">\n     <g id=\"line2d_8\"/>\n     <g id=\"text_7\">\n      <!-- Jul -->\n      <g style=\"fill:#262626;\" transform=\"translate(440.617969 344.358438)scale(0.1 -0.1)\">\n       <defs>\n        <path d=\"M 20.515625 5.171875 \nL 29 5.171875 \nL 29 0 \nL 2.875 0 \nL 2.875 5.171875 \nL 11.53125 5.171875 \nL 11.53125 70.796875 \nL 2.875 70.796875 \nL 2.875 75.984375 \nL 20.515625 75.984375 \nz\n\" id=\"DejaVuSerif-108\"/>\n       </defs>\n       <use xlink:href=\"#DejaVuSerif-74\"/>\n       <use x=\"40.087891\" xlink:href=\"#DejaVuSerif-117\"/>\n       <use x=\"104.492188\" xlink:href=\"#DejaVuSerif-108\"/>\n      </g>\n     </g>\n    </g>\n    <g id=\"xtick_8\">\n     <g id=\"line2d_9\"/>\n     <g id=\"text_8\">\n      <!-- Aug -->\n      <g style=\"fill:#262626;\" transform=\"translate(507.160156 344.21625)scale(0.1 -0.1)\">\n       <defs>\n        <path d=\"M 52.484375 46.6875 \nL 52.484375 1.125 \nQ 52.484375 -10.0625 46.328125 -16.140625 \nQ 40.1875 -22.21875 28.8125 -22.21875 \nQ 23.6875 -22.21875 19 -21.28125 \nQ 14.3125 -20.359375 10.015625 -18.5 \nL 10.015625 -7.625 \nL 14.703125 -7.625 \nQ 15.578125 -12.703125 18.84375 -15.046875 \nQ 22.125 -17.390625 28.21875 -17.390625 \nQ 36.140625 -17.390625 39.8125 -12.921875 \nQ 43.5 -8.453125 43.5 1.125 \nL 43.5 8.109375 \nQ 40.875 3.21875 36.796875 0.890625 \nQ 32.71875 -1.421875 26.703125 -1.421875 \nQ 17.140625 -1.421875 11.0625 6.171875 \nQ 4.984375 13.765625 4.984375 25.984375 \nQ 4.984375 38.1875 11.03125 45.75 \nQ 17.09375 53.328125 26.703125 53.328125 \nQ 32.71875 53.328125 36.796875 51 \nQ 40.875 48.6875 43.5 43.796875 \nL 43.5 51.90625 \nL 61.078125 51.90625 \nL 61.078125 46.6875 \nz\nM 43.5 28.515625 \nQ 43.5 37.84375 39.90625 42.765625 \nQ 36.328125 47.703125 29.5 47.703125 \nQ 22.5625 47.703125 19.015625 42.234375 \nQ 15.484375 36.765625 15.484375 25.984375 \nQ 15.484375 15.234375 19.015625 9.71875 \nQ 22.5625 4.203125 29.5 4.203125 \nQ 36.328125 4.203125 39.90625 9.109375 \nQ 43.5 14.015625 43.5 23.390625 \nz\n\" id=\"DejaVuSerif-103\"/>\n       </defs>\n       <use xlink:href=\"#DejaVuSerif-65\"/>\n       <use x=\"72.216797\" xlink:href=\"#DejaVuSerif-117\"/>\n       <use x=\"136.621094\" xlink:href=\"#DejaVuSerif-103\"/>\n      </g>\n     </g>\n    </g>\n    <g id=\"xtick_9\">\n     <g id=\"line2d_10\"/>\n     <g id=\"text_9\">\n      <!-- Sep -->\n      <g style=\"fill:#262626;\" transform=\"translate(577.357031 344.358438)scale(0.1 -0.1)\">\n       <defs>\n        <path d=\"M 9.28125 3.515625 \nL 9.28125 20.125 \nL 14.890625 20.0625 \nQ 15.140625 11.765625 19.703125 7.78125 \nQ 24.265625 3.8125 33.59375 3.8125 \nQ 42.28125 3.8125 46.84375 7.25 \nQ 51.421875 10.6875 51.421875 17.28125 \nQ 51.421875 22.5625 48.65625 25.390625 \nQ 45.90625 28.21875 37.015625 30.90625 \nL 27.390625 33.796875 \nQ 16.9375 36.96875 12.671875 41.703125 \nQ 8.40625 46.4375 8.40625 54.6875 \nQ 8.40625 63.96875 14.984375 69.09375 \nQ 21.578125 74.21875 33.5 74.21875 \nQ 38.578125 74.21875 44.625 73.109375 \nQ 50.6875 72.015625 57.515625 69.921875 \nL 57.515625 54.390625 \nL 52 54.390625 \nQ 51.171875 62.109375 46.84375 65.546875 \nQ 42.53125 69 33.6875 69 \nQ 25.984375 69 21.953125 65.84375 \nQ 17.921875 62.703125 17.921875 56.6875 \nQ 17.921875 51.46875 20.9375 48.484375 \nQ 23.96875 45.515625 33.796875 42.578125 \nL 42.828125 39.890625 \nQ 52.734375 36.921875 56.953125 32.296875 \nQ 61.1875 27.6875 61.1875 19.921875 \nQ 61.1875 9.328125 54.390625 3.953125 \nQ 47.609375 -1.421875 34.1875 -1.421875 \nQ 28.171875 -1.421875 21.9375 -0.1875 \nQ 15.71875 1.03125 9.28125 3.515625 \nz\n\" id=\"DejaVuSerif-83\"/>\n       </defs>\n       <use xlink:href=\"#DejaVuSerif-83\"/>\n       <use x=\"68.505859\" xlink:href=\"#DejaVuSerif-101\"/>\n       <use x=\"127.685547\" xlink:href=\"#DejaVuSerif-112\"/>\n      </g>\n     </g>\n    </g>\n   </g>\n   <g id=\"matplotlib.axis_2\">\n    <g id=\"ytick_1\">\n     <g id=\"line2d_11\">\n      <path clip-path=\"url(#p63dff3a9d0)\" d=\"M 28.942188 273.447553 \nL 586.942188 273.447553 \n\" style=\"fill:none;stroke:#ffffff;stroke-linecap:round;\"/>\n     </g>\n     <g id=\"line2d_12\"/>\n     <g id=\"text_10\">\n      <!-- −2 -->\n      <g style=\"fill:#262626;\" transform=\"translate(7.2 277.246771)scale(0.1 -0.1)\">\n       <defs>\n        <path d=\"M 10.59375 35.296875 \nL 73.1875 35.296875 \nL 73.1875 27.390625 \nL 10.59375 27.390625 \nz\n\" id=\"DejaVuSerif-8722\"/>\n       </defs>\n       <use xlink:href=\"#DejaVuSerif-8722\"/>\n       <use x=\"83.789062\" xlink:href=\"#DejaVuSerif-50\"/>\n      </g>\n     </g>\n    </g>\n    <g id=\"ytick_2\">\n     <g id=\"line2d_13\">\n      <path clip-path=\"url(#p63dff3a9d0)\" d=\"M 28.942188 212.931706 \nL 586.942188 212.931706 \n\" style=\"fill:none;stroke:#ffffff;stroke-linecap:round;\"/>\n     </g>\n     <g id=\"line2d_14\"/>\n     <g id=\"text_11\">\n      <!-- 0 -->\n      <g style=\"fill:#262626;\" transform=\"translate(15.579688 216.730924)scale(0.1 -0.1)\">\n       <use xlink:href=\"#DejaVuSerif-48\"/>\n      </g>\n     </g>\n    </g>\n    <g id=\"ytick_3\">\n     <g id=\"line2d_15\">\n      <path clip-path=\"url(#p63dff3a9d0)\" d=\"M 28.942188 152.415859 \nL 586.942188 152.415859 \n\" style=\"fill:none;stroke:#ffffff;stroke-linecap:round;\"/>\n     </g>\n     <g id=\"line2d_16\"/>\n     <g id=\"text_12\">\n      <!-- 2 -->\n      <g style=\"fill:#262626;\" transform=\"translate(15.579688 156.215078)scale(0.1 -0.1)\">\n       <use xlink:href=\"#DejaVuSerif-50\"/>\n      </g>\n     </g>\n    </g>\n    <g id=\"ytick_4\">\n     <g id=\"line2d_17\">\n      <path clip-path=\"url(#p63dff3a9d0)\" d=\"M 28.942188 91.900012 \nL 586.942188 91.900012 \n\" style=\"fill:none;stroke:#ffffff;stroke-linecap:round;\"/>\n     </g>\n     <g id=\"line2d_18\"/>\n     <g id=\"text_13\">\n      <!-- 4 -->\n      <g style=\"fill:#262626;\" transform=\"translate(15.579688 95.699231)scale(0.1 -0.1)\">\n       <defs>\n        <path d=\"M 34.90625 24.703125 \nL 34.90625 63.484375 \nL 10.015625 24.703125 \nz\nM 56.390625 0 \nL 23.1875 0 \nL 23.1875 5.171875 \nL 34.90625 5.171875 \nL 34.90625 19.484375 \nL 3.078125 19.484375 \nL 3.078125 24.8125 \nL 35.015625 74.21875 \nL 44.671875 74.21875 \nL 44.671875 24.703125 \nL 58.59375 24.703125 \nL 58.59375 19.484375 \nL 44.671875 19.484375 \nL 44.671875 5.171875 \nL 56.390625 5.171875 \nz\n\" id=\"DejaVuSerif-52\"/>\n       </defs>\n       <use xlink:href=\"#DejaVuSerif-52\"/>\n      </g>\n     </g>\n    </g>\n    <g id=\"ytick_5\">\n     <g id=\"line2d_19\">\n      <path clip-path=\"url(#p63dff3a9d0)\" d=\"M 28.942188 31.384165 \nL 586.942188 31.384165 \n\" style=\"fill:none;stroke:#ffffff;stroke-linecap:round;\"/>\n     </g>\n     <g id=\"line2d_20\"/>\n     <g id=\"text_14\">\n      <!-- 6 -->\n      <g style=\"fill:#262626;\" transform=\"translate(15.579688 35.183384)scale(0.1 -0.1)\">\n       <defs>\n        <path d=\"M 32.71875 3.421875 \nQ 39.59375 3.421875 43.296875 8.46875 \nQ 47.015625 13.53125 47.015625 23 \nQ 47.015625 32.46875 43.296875 37.515625 \nQ 39.59375 42.578125 32.71875 42.578125 \nQ 25.734375 42.578125 22.0625 37.6875 \nQ 18.40625 32.8125 18.40625 23.578125 \nQ 18.40625 13.875 22.109375 8.640625 \nQ 25.828125 3.421875 32.71875 3.421875 \nz\nM 16.796875 40.140625 \nQ 20.125 43.796875 24.3125 45.59375 \nQ 28.515625 47.40625 33.796875 47.40625 \nQ 44.671875 47.40625 51 40.859375 \nQ 57.328125 34.328125 57.328125 23 \nQ 57.328125 11.921875 50.515625 5.25 \nQ 43.703125 -1.421875 32.328125 -1.421875 \nQ 19.96875 -1.421875 13.328125 7.78125 \nQ 6.6875 17 6.6875 34.078125 \nQ 6.6875 53.21875 14.546875 63.71875 \nQ 22.40625 74.21875 36.71875 74.21875 \nQ 40.578125 74.21875 44.828125 73.484375 \nQ 49.078125 72.75 53.515625 71.296875 \nL 53.515625 59.28125 \nL 48 59.28125 \nQ 47.40625 64.203125 44.234375 66.796875 \nQ 41.0625 69.390625 35.6875 69.390625 \nQ 26.21875 69.390625 21.578125 62.203125 \nQ 16.9375 55.03125 16.796875 40.140625 \nz\n\" id=\"DejaVuSerif-54\"/>\n       </defs>\n       <use xlink:href=\"#DejaVuSerif-54\"/>\n      </g>\n     </g>\n    </g>\n   </g>\n   <g id=\"line2d_21\">\n    <path clip-path=\"url(#p63dff3a9d0)\" d=\"M 28.942187 265.875975 \nL 98.692187 236.183246 \nL 168.442187 241.916996 \nL 238.192187 259.575371 \nL 307.942187 275.650812 \nL 377.692187 226.663789 \nL 447.442187 221.080636 \nL 517.192187 230.951922 \nL 586.942187 253.837573 \n\" style=\"fill:none;stroke:#4c72b0;stroke-linecap:round;stroke-width:2;\"/>\n   </g>\n   <g id=\"line2d_22\">\n    <path clip-path=\"url(#p63dff3a9d0)\" d=\"M 28.942187 202.562908 \nL 98.692187 187.003714 \nL 168.442187 179.2879 \nL 238.192187 154.571804 \nL 307.942187 123.414231 \nL 377.692187 76.76846 \nL 447.442187 48.414298 \nL 517.192187 46.729657 \nL 586.942187 22.025455 \n\" style=\"fill:none;stroke:#55a868;stroke-linecap:round;stroke-width:2;\"/>\n   </g>\n   <g id=\"line2d_23\">\n    <path clip-path=\"url(#p63dff3a9d0)\" d=\"M 28.942187 178.043237 \nL 98.692187 171.350799 \nL 168.442187 185.209745 \nL 238.192187 164.85461 \nL 307.942187 178.111684 \nL 377.692187 185.733024 \nL 447.442187 163.614471 \nL 517.192187 156.885121 \nL 586.942187 134.178221 \n\" style=\"fill:none;stroke:#c44e52;stroke-linecap:round;stroke-width:2;\"/>\n   </g>\n   <g id=\"line2d_24\">\n    <path clip-path=\"url(#p63dff3a9d0)\" d=\"M 28.942187 220.569896 \nL 98.692187 252.947185 \nL 168.442187 239.780042 \nL 238.192187 242.939306 \nL 307.942187 276.777294 \nL 377.692187 302.26765 \nL 447.442187 261.069789 \nL 517.192187 304.738538 \nL 586.942187 318.534545 \n\" style=\"fill:none;stroke:#8172b2;stroke-linecap:round;stroke-width:2;\"/>\n   </g>\n   <g id=\"patch_3\">\n    <path d=\"M 28.942188 333.36 \nL 28.942188 7.2 \n\" style=\"fill:none;\"/>\n   </g>\n   <g id=\"patch_4\">\n    <path d=\"M 586.942188 333.36 \nL 586.942188 7.2 \n\" style=\"fill:none;\"/>\n   </g>\n   <g id=\"patch_5\">\n    <path d=\"M 28.942187 333.36 \nL 586.942187 333.36 \n\" style=\"fill:none;\"/>\n   </g>\n   <g id=\"patch_6\">\n    <path d=\"M 28.942187 7.2 \nL 586.942187 7.2 \n\" style=\"fill:none;\"/>\n   </g>\n   <g id=\"legend_1\">\n    <g id=\"line2d_25\">\n     <path d=\"M 37.942188 20.298438 \nL 57.942188 20.298438 \n\" style=\"fill:none;stroke:#4c72b0;stroke-linecap:round;stroke-width:2;\"/>\n    </g>\n    <g id=\"line2d_26\"/>\n    <g id=\"text_15\">\n     <!-- No1 -->\n     <g style=\"fill:#262626;\" transform=\"translate(65.942188 23.798438)scale(0.1 -0.1)\">\n      <defs>\n       <path d=\"M 4.890625 0 \nL 4.890625 5.171875 \nL 14.703125 5.171875 \nL 14.703125 67.671875 \nL 4.890625 67.671875 \nL 4.890625 72.90625 \nL 23.578125 72.90625 \nL 67.28125 15.375 \nL 67.28125 67.671875 \nL 57.515625 67.671875 \nL 57.515625 72.90625 \nL 83.109375 72.90625 \nL 83.109375 67.671875 \nL 73.296875 67.671875 \nL 73.296875 -1.421875 \nL 67.390625 -1.421875 \nL 20.703125 60.015625 \nL 20.703125 5.171875 \nL 30.515625 5.171875 \nL 30.515625 0 \nz\n\" id=\"DejaVuSerif-78\"/>\n       <path d=\"M 30.078125 3.421875 \nQ 37.3125 3.421875 40.984375 9.125 \nQ 44.671875 14.84375 44.671875 25.984375 \nQ 44.671875 37.109375 40.984375 42.796875 \nQ 37.3125 48.484375 30.078125 48.484375 \nQ 22.859375 48.484375 19.171875 42.796875 \nQ 15.484375 37.109375 15.484375 25.984375 \nQ 15.484375 14.84375 19.1875 9.125 \nQ 22.90625 3.421875 30.078125 3.421875 \nz\nM 30.078125 -1.421875 \nQ 18.75 -1.421875 11.859375 6.078125 \nQ 4.984375 13.578125 4.984375 25.984375 \nQ 4.984375 38.375 11.84375 45.84375 \nQ 18.703125 53.328125 30.078125 53.328125 \nQ 41.453125 53.328125 48.3125 45.84375 \nQ 55.171875 38.375 55.171875 25.984375 \nQ 55.171875 13.578125 48.3125 6.078125 \nQ 41.453125 -1.421875 30.078125 -1.421875 \nz\n\" id=\"DejaVuSerif-111\"/>\n       <path d=\"M 14.203125 0 \nL 14.203125 5.171875 \nL 26.90625 5.171875 \nL 26.90625 65.828125 \nL 12.203125 56.296875 \nL 12.203125 62.703125 \nL 29.984375 74.21875 \nL 36.71875 74.21875 \nL 36.71875 5.171875 \nL 49.421875 5.171875 \nL 49.421875 0 \nz\n\" id=\"DejaVuSerif-49\"/>\n      </defs>\n      <use xlink:href=\"#DejaVuSerif-78\"/>\n      <use x=\"87.5\" xlink:href=\"#DejaVuSerif-111\"/>\n      <use x=\"147.705078\" xlink:href=\"#DejaVuSerif-49\"/>\n     </g>\n    </g>\n    <g id=\"line2d_27\">\n     <path d=\"M 37.942188 34.976563 \nL 57.942188 34.976563 \n\" style=\"fill:none;stroke:#55a868;stroke-linecap:round;stroke-width:2;\"/>\n    </g>\n    <g id=\"line2d_28\"/>\n    <g id=\"text_16\">\n     <!-- No2 -->\n     <g style=\"fill:#262626;\" transform=\"translate(65.942188 38.476563)scale(0.1 -0.1)\">\n      <use xlink:href=\"#DejaVuSerif-78\"/>\n      <use x=\"87.5\" xlink:href=\"#DejaVuSerif-111\"/>\n      <use x=\"147.705078\" xlink:href=\"#DejaVuSerif-50\"/>\n     </g>\n    </g>\n    <g id=\"line2d_29\">\n     <path d=\"M 37.942188 49.654688 \nL 57.942188 49.654688 \n\" style=\"fill:none;stroke:#c44e52;stroke-linecap:round;stroke-width:2;\"/>\n    </g>\n    <g id=\"line2d_30\"/>\n    <g id=\"text_17\">\n     <!-- No3 -->\n     <g style=\"fill:#262626;\" transform=\"translate(65.942188 53.154688)scale(0.1 -0.1)\">\n      <defs>\n       <path d=\"M 9.71875 69.828125 \nQ 15.4375 71.96875 20.671875 73.09375 \nQ 25.921875 74.21875 30.515625 74.21875 \nQ 41.21875 74.21875 47.21875 69.59375 \nQ 53.21875 64.984375 53.21875 56.78125 \nQ 53.21875 50.203125 49.0625 45.78125 \nQ 44.921875 41.359375 37.3125 39.796875 \nQ 46.296875 38.53125 51.25 33.28125 \nQ 56.203125 28.03125 56.203125 19.671875 \nQ 56.203125 9.46875 49.34375 4.015625 \nQ 42.484375 -1.421875 29.59375 -1.421875 \nQ 23.875 -1.421875 18.421875 -0.1875 \nQ 12.984375 1.03125 7.625 3.515625 \nL 7.625 17.671875 \nL 13.09375 17.671875 \nQ 13.578125 10.640625 17.828125 7.03125 \nQ 22.078125 3.421875 29.78125 3.421875 \nQ 37.25 3.421875 41.578125 7.734375 \nQ 45.90625 12.0625 45.90625 19.578125 \nQ 45.90625 28.171875 41.453125 32.59375 \nQ 37.015625 37.015625 28.421875 37.015625 \nL 23.78125 37.015625 \nL 23.78125 42 \nL 26.21875 42 \nQ 34.765625 42 39.03125 45.53125 \nQ 43.3125 49.078125 43.3125 56.203125 \nQ 43.3125 62.59375 39.796875 65.984375 \nQ 36.28125 69.390625 29.6875 69.390625 \nQ 23.09375 69.390625 19.453125 66.265625 \nQ 15.828125 63.140625 15.1875 56.984375 \nL 9.71875 56.984375 \nz\n\" id=\"DejaVuSerif-51\"/>\n      </defs>\n      <use xlink:href=\"#DejaVuSerif-78\"/>\n      <use x=\"87.5\" xlink:href=\"#DejaVuSerif-111\"/>\n      <use x=\"147.705078\" xlink:href=\"#DejaVuSerif-51\"/>\n     </g>\n    </g>\n    <g id=\"line2d_31\">\n     <path d=\"M 37.942188 64.332813 \nL 57.942188 64.332813 \n\" style=\"fill:none;stroke:#8172b2;stroke-linecap:round;stroke-width:2;\"/>\n    </g>\n    <g id=\"line2d_32\"/>\n    <g id=\"text_18\">\n     <!-- No4 -->\n     <g style=\"fill:#262626;\" transform=\"translate(65.942188 67.832813)scale(0.1 -0.1)\">\n      <use xlink:href=\"#DejaVuSerif-78\"/>\n      <use x=\"87.5\" xlink:href=\"#DejaVuSerif-111\"/>\n      <use x=\"147.705078\" xlink:href=\"#DejaVuSerif-52\"/>\n     </g>\n    </g>\n   </g>\n  </g>\n </g>\n <defs>\n  <clipPath id=\"p63dff3a9d0\">\n   <rect height=\"326.16\" width=\"558\" x=\"28.942188\" y=\"7.2\"/>\n  </clipPath>\n </defs>\n</svg>\n",
      "image/png": "[encoded data removed]"
     },
     "metadata": {}
    }
   ],
   "source": [
    "from pylab import plt, mpl\n",
    "plt.style.use('seaborn')\n",
    "mpl.rcParams['font.family'] = 'serif'\n",
    "#matplotlib inline\n",
    "\n",
    "df.cumsum().plot(lw=2.0, figsize=(10, 6))"
   ]
  },
  {
   "cell_type": "code",
   "execution_count": 33,
   "metadata": {},
   "outputs": [
    {
     "output_type": "execute_result",
     "data": {
      "text/plain": [
       "<AxesSubplot:>"
      ]
     },
     "metadata": {},
     "execution_count": 33
    },
    {
     "output_type": "display_data",
     "data": {
      "text/plain": "<Figure size 720x432 with 1 Axes>",
      "image/svg+xml": "<?xml version=\"1.0\" encoding=\"utf-8\" standalone=\"no\"?>\n<!DOCTYPE svg PUBLIC \"-//W3C//DTD SVG 1.1//EN\"\n  \"http://www.w3.org/Graphics/SVG/1.1/DTD/svg11.dtd\">\n<!-- Created with matplotlib (https://matplotlib.org/) -->\n<svg height=\"384.278465pt\" version=\"1.1\" viewBox=\"0 0 625.008582 384.278465\" width=\"625.008582pt\" xmlns=\"http://www.w3.org/2000/svg\" xmlns:xlink=\"http://www.w3.org/1999/xlink\">\n <metadata>\n  <rdf:RDF xmlns:cc=\"http://creativecommons.org/ns#\" xmlns:dc=\"http://purl.org/dc/elements/1.1/\" xmlns:rdf=\"http://www.w3.org/1999/02/22-rdf-syntax-ns#\">\n   <cc:Work>\n    <dc:type rdf:resource=\"http://purl.org/dc/dcmitype/StillImage\"/>\n    <dc:date>2021-03-17T00:05:14.721503</dc:date>\n    <dc:format>image/svg+xml</dc:format>\n    <dc:creator>\n     <cc:Agent>\n      <dc:title>Matplotlib v3.3.4, https://matplotlib.org/</dc:title>\n     </cc:Agent>\n    </dc:creator>\n   </cc:Work>\n  </rdf:RDF>\n </metadata>\n <defs>\n  <style type=\"text/css\">*{stroke-linecap:butt;stroke-linejoin:round;}</style>\n </defs>\n <g id=\"figure_1\">\n  <g id=\"patch_1\">\n   <path d=\"M 0 384.278465 \nL 625.008582 384.278465 \nL 625.008582 0 \nL 0 0 \nz\n\" style=\"fill:#ffffff;\"/>\n  </g>\n  <g id=\"axes_1\">\n   <g id=\"patch_2\">\n    <path d=\"M 38.482813 333.36 \nL 596.482813 333.36 \nL 596.482813 7.2 \nL 38.482813 7.2 \nz\n\" style=\"fill:#eaeaf2;\"/>\n   </g>\n   <g id=\"matplotlib.axis_1\">\n    <g id=\"xtick_1\">\n     <g id=\"line2d_1\">\n      <path clip-path=\"url(#pb1d99c3231)\" d=\"M 69.482813 333.36 \nL 69.482813 7.2 \n\" style=\"fill:none;stroke:#ffffff;stroke-linecap:round;\"/>\n     </g>\n     <g id=\"line2d_2\"/>\n     <g id=\"text_1\">\n      <!-- 2020-01-31 00:00:00 -->\n      <g style=\"fill:#262626;\" transform=\"translate(19.123663 375.069641)rotate(-15)scale(0.1 -0.1)\">\n       <defs>\n        <path d=\"M 12.796875 55.515625 \nL 7.328125 55.515625 \nL 7.328125 68.5 \nQ 12.546875 71.296875 17.84375 72.75 \nQ 23.140625 74.21875 28.21875 74.21875 \nQ 39.59375 74.21875 46.1875 68.703125 \nQ 52.78125 63.1875 52.78125 53.71875 \nQ 52.78125 43.015625 37.84375 28.125 \nQ 36.671875 27 36.078125 26.421875 \nL 17.671875 8.015625 \nL 48.09375 8.015625 \nL 48.09375 17 \nL 53.8125 17 \nL 53.8125 0 \nL 6.78125 0 \nL 6.78125 5.328125 \nL 28.90625 27.390625 \nQ 36.234375 34.71875 39.359375 40.84375 \nQ 42.484375 46.96875 42.484375 53.71875 \nQ 42.484375 61.078125 38.640625 65.234375 \nQ 34.8125 69.390625 28.078125 69.390625 \nQ 21.09375 69.390625 17.28125 65.921875 \nQ 13.484375 62.453125 12.796875 55.515625 \nz\n\" id=\"DejaVuSerif-50\"/>\n        <path d=\"M 31.78125 3.421875 \nQ 39.265625 3.421875 42.96875 11.625 \nQ 46.6875 19.828125 46.6875 36.375 \nQ 46.6875 52.984375 42.96875 61.1875 \nQ 39.265625 69.390625 31.78125 69.390625 \nQ 24.3125 69.390625 20.59375 61.1875 \nQ 16.890625 52.984375 16.890625 36.375 \nQ 16.890625 19.828125 20.59375 11.625 \nQ 24.3125 3.421875 31.78125 3.421875 \nz\nM 31.78125 -1.421875 \nQ 19.921875 -1.421875 13.25 8.53125 \nQ 6.59375 18.5 6.59375 36.375 \nQ 6.59375 54.296875 13.25 64.25 \nQ 19.921875 74.21875 31.78125 74.21875 \nQ 43.703125 74.21875 50.34375 64.25 \nQ 56.984375 54.296875 56.984375 36.375 \nQ 56.984375 18.5 50.34375 8.53125 \nQ 43.703125 -1.421875 31.78125 -1.421875 \nz\n\" id=\"DejaVuSerif-48\"/>\n        <path d=\"M 4.390625 30.609375 \nL 29.390625 30.609375 \nL 29.390625 23 \nL 4.390625 23 \nz\n\" id=\"DejaVuSerif-45\"/>\n        <path d=\"M 14.203125 0 \nL 14.203125 5.171875 \nL 26.90625 5.171875 \nL 26.90625 65.828125 \nL 12.203125 56.296875 \nL 12.203125 62.703125 \nL 29.984375 74.21875 \nL 36.71875 74.21875 \nL 36.71875 5.171875 \nL 49.421875 5.171875 \nL 49.421875 0 \nz\n\" id=\"DejaVuSerif-49\"/>\n        <path d=\"M 9.71875 69.828125 \nQ 15.4375 71.96875 20.671875 73.09375 \nQ 25.921875 74.21875 30.515625 74.21875 \nQ 41.21875 74.21875 47.21875 69.59375 \nQ 53.21875 64.984375 53.21875 56.78125 \nQ 53.21875 50.203125 49.0625 45.78125 \nQ 44.921875 41.359375 37.3125 39.796875 \nQ 46.296875 38.53125 51.25 33.28125 \nQ 56.203125 28.03125 56.203125 19.671875 \nQ 56.203125 9.46875 49.34375 4.015625 \nQ 42.484375 -1.421875 29.59375 -1.421875 \nQ 23.875 -1.421875 18.421875 -0.1875 \nQ 12.984375 1.03125 7.625 3.515625 \nL 7.625 17.671875 \nL 13.09375 17.671875 \nQ 13.578125 10.640625 17.828125 7.03125 \nQ 22.078125 3.421875 29.78125 3.421875 \nQ 37.25 3.421875 41.578125 7.734375 \nQ 45.90625 12.0625 45.90625 19.578125 \nQ 45.90625 28.171875 41.453125 32.59375 \nQ 37.015625 37.015625 28.421875 37.015625 \nL 23.78125 37.015625 \nL 23.78125 42 \nL 26.21875 42 \nQ 34.765625 42 39.03125 45.53125 \nQ 43.3125 49.078125 43.3125 56.203125 \nQ 43.3125 62.59375 39.796875 65.984375 \nQ 36.28125 69.390625 29.6875 69.390625 \nQ 23.09375 69.390625 19.453125 66.265625 \nQ 15.828125 63.140625 15.1875 56.984375 \nL 9.71875 56.984375 \nz\n\" id=\"DejaVuSerif-51\"/>\n        <path id=\"DejaVuSerif-32\"/>\n        <path d=\"M 10.40625 5.078125 \nQ 10.40625 7.8125 12.28125 9.71875 \nQ 14.15625 11.625 16.890625 11.625 \nQ 19.625 11.625 21.5 9.71875 \nQ 23.390625 7.8125 23.390625 5.078125 \nQ 23.390625 2.34375 21.53125 0.453125 \nQ 19.671875 -1.421875 16.890625 -1.421875 \nQ 14.109375 -1.421875 12.25 0.453125 \nQ 10.40625 2.34375 10.40625 5.078125 \nz\nM 10.40625 36.921875 \nQ 10.40625 39.65625 12.28125 41.53125 \nQ 14.15625 43.40625 16.890625 43.40625 \nQ 19.671875 43.40625 21.53125 41.546875 \nQ 23.390625 39.703125 23.390625 36.921875 \nQ 23.390625 34.125 21.53125 32.265625 \nQ 19.671875 30.421875 16.890625 30.421875 \nQ 14.15625 30.421875 12.28125 32.296875 \nQ 10.40625 34.1875 10.40625 36.921875 \nz\n\" id=\"DejaVuSerif-58\"/>\n       </defs>\n       <use xlink:href=\"#DejaVuSerif-50\"/>\n       <use x=\"63.623047\" xlink:href=\"#DejaVuSerif-48\"/>\n       <use x=\"127.246094\" xlink:href=\"#DejaVuSerif-50\"/>\n       <use x=\"190.869141\" xlink:href=\"#DejaVuSerif-48\"/>\n       <use x=\"254.492188\" xlink:href=\"#DejaVuSerif-45\"/>\n       <use x=\"288.28125\" xlink:href=\"#DejaVuSerif-48\"/>\n       <use x=\"351.904297\" xlink:href=\"#DejaVuSerif-49\"/>\n       <use x=\"415.527344\" xlink:href=\"#DejaVuSerif-45\"/>\n       <use x=\"449.316406\" xlink:href=\"#DejaVuSerif-51\"/>\n       <use x=\"512.939453\" xlink:href=\"#DejaVuSerif-49\"/>\n       <use x=\"576.5625\" xlink:href=\"#DejaVuSerif-32\"/>\n       <use x=\"608.349609\" xlink:href=\"#DejaVuSerif-48\"/>\n       <use x=\"671.972656\" xlink:href=\"#DejaVuSerif-48\"/>\n       <use x=\"735.595703\" xlink:href=\"#DejaVuSerif-58\"/>\n       <use x=\"769.287109\" xlink:href=\"#DejaVuSerif-48\"/>\n       <use x=\"832.910156\" xlink:href=\"#DejaVuSerif-48\"/>\n       <use x=\"896.533203\" xlink:href=\"#DejaVuSerif-58\"/>\n       <use x=\"930.224609\" xlink:href=\"#DejaVuSerif-48\"/>\n       <use x=\"993.847656\" xlink:href=\"#DejaVuSerif-48\"/>\n      </g>\n     </g>\n    </g>\n    <g id=\"xtick_2\">\n     <g id=\"line2d_3\">\n      <path clip-path=\"url(#pb1d99c3231)\" d=\"M 131.482813 333.36 \nL 131.482813 7.2 \n\" style=\"fill:none;stroke:#ffffff;stroke-linecap:round;\"/>\n     </g>\n     <g id=\"line2d_4\"/>\n     <g id=\"text_2\">\n      <!-- 2020-02-29 00:00:00 -->\n      <g style=\"fill:#262626;\" transform=\"translate(81.123663 375.069641)rotate(-15)scale(0.1 -0.1)\">\n       <defs>\n        <path d=\"M 46.78125 32.671875 \nQ 43.5 29 39.25 27.1875 \nQ 35.015625 25.390625 29.6875 25.390625 \nQ 18.84375 25.390625 12.5625 31.9375 \nQ 6.296875 38.484375 6.296875 49.8125 \nQ 6.296875 60.890625 13.109375 67.546875 \nQ 19.921875 74.21875 31.296875 74.21875 \nQ 43.65625 74.21875 50.265625 65.015625 \nQ 56.890625 55.8125 56.890625 38.71875 \nQ 56.890625 19.578125 49.015625 9.078125 \nQ 41.15625 -1.421875 26.90625 -1.421875 \nQ 23.046875 -1.421875 18.796875 -0.6875 \nQ 14.546875 0.046875 10.109375 1.515625 \nL 10.109375 13.625 \nL 15.578125 13.625 \nQ 16.21875 8.6875 19.390625 6.046875 \nQ 22.5625 3.421875 27.875 3.421875 \nQ 37.359375 3.421875 41.984375 10.5625 \nQ 46.625 17.71875 46.78125 32.671875 \nz\nM 30.90625 69.390625 \nQ 23.96875 69.390625 20.28125 64.328125 \nQ 16.609375 59.28125 16.609375 49.8125 \nQ 16.609375 40.328125 20.28125 35.25 \nQ 23.96875 30.171875 30.90625 30.171875 \nQ 37.84375 30.171875 41.53125 35.078125 \nQ 45.21875 39.984375 45.21875 49.21875 \nQ 45.21875 58.9375 41.5 64.15625 \nQ 37.796875 69.390625 30.90625 69.390625 \nz\n\" id=\"DejaVuSerif-57\"/>\n       </defs>\n       <use xlink:href=\"#DejaVuSerif-50\"/>\n       <use x=\"63.623047\" xlink:href=\"#DejaVuSerif-48\"/>\n       <use x=\"127.246094\" xlink:href=\"#DejaVuSerif-50\"/>\n       <use x=\"190.869141\" xlink:href=\"#DejaVuSerif-48\"/>\n       <use x=\"254.492188\" xlink:href=\"#DejaVuSerif-45\"/>\n       <use x=\"288.28125\" xlink:href=\"#DejaVuSerif-48\"/>\n       <use x=\"351.904297\" xlink:href=\"#DejaVuSerif-50\"/>\n       <use x=\"415.527344\" xlink:href=\"#DejaVuSerif-45\"/>\n       <use x=\"449.316406\" xlink:href=\"#DejaVuSerif-50\"/>\n       <use x=\"512.939453\" xlink:href=\"#DejaVuSerif-57\"/>\n       <use x=\"576.5625\" xlink:href=\"#DejaVuSerif-32\"/>\n       <use x=\"608.349609\" xlink:href=\"#DejaVuSerif-48\"/>\n       <use x=\"671.972656\" xlink:href=\"#DejaVuSerif-48\"/>\n       <use x=\"735.595703\" xlink:href=\"#DejaVuSerif-58\"/>\n       <use x=\"769.287109\" xlink:href=\"#DejaVuSerif-48\"/>\n       <use x=\"832.910156\" xlink:href=\"#DejaVuSerif-48\"/>\n       <use x=\"896.533203\" xlink:href=\"#DejaVuSerif-58\"/>\n       <use x=\"930.224609\" xlink:href=\"#DejaVuSerif-48\"/>\n       <use x=\"993.847656\" xlink:href=\"#DejaVuSerif-48\"/>\n      </g>\n     </g>\n    </g>\n    <g id=\"xtick_3\">\n     <g id=\"line2d_5\">\n      <path clip-path=\"url(#pb1d99c3231)\" d=\"M 193.482813 333.36 \nL 193.482813 7.2 \n\" style=\"fill:none;stroke:#ffffff;stroke-linecap:round;\"/>\n     </g>\n     <g id=\"line2d_6\"/>\n     <g id=\"text_3\">\n      <!-- 2020-03-31 00:00:00 -->\n      <g style=\"fill:#262626;\" transform=\"translate(143.123663 375.069641)rotate(-15)scale(0.1 -0.1)\">\n       <use xlink:href=\"#DejaVuSerif-50\"/>\n       <use x=\"63.623047\" xlink:href=\"#DejaVuSerif-48\"/>\n       <use x=\"127.246094\" xlink:href=\"#DejaVuSerif-50\"/>\n       <use x=\"190.869141\" xlink:href=\"#DejaVuSerif-48\"/>\n       <use x=\"254.492188\" xlink:href=\"#DejaVuSerif-45\"/>\n       <use x=\"288.28125\" xlink:href=\"#DejaVuSerif-48\"/>\n       <use x=\"351.904297\" xlink:href=\"#DejaVuSerif-51\"/>\n       <use x=\"415.527344\" xlink:href=\"#DejaVuSerif-45\"/>\n       <use x=\"449.316406\" xlink:href=\"#DejaVuSerif-51\"/>\n       <use x=\"512.939453\" xlink:href=\"#DejaVuSerif-49\"/>\n       <use x=\"576.5625\" xlink:href=\"#DejaVuSerif-32\"/>\n       <use x=\"608.349609\" xlink:href=\"#DejaVuSerif-48\"/>\n       <use x=\"671.972656\" xlink:href=\"#DejaVuSerif-48\"/>\n       <use x=\"735.595703\" xlink:href=\"#DejaVuSerif-58\"/>\n       <use x=\"769.287109\" xlink:href=\"#DejaVuSerif-48\"/>\n       <use x=\"832.910156\" xlink:href=\"#DejaVuSerif-48\"/>\n       <use x=\"896.533203\" xlink:href=\"#DejaVuSerif-58\"/>\n       <use x=\"930.224609\" xlink:href=\"#DejaVuSerif-48\"/>\n       <use x=\"993.847656\" xlink:href=\"#DejaVuSerif-48\"/>\n      </g>\n     </g>\n    </g>\n    <g id=\"xtick_4\">\n     <g id=\"line2d_7\">\n      <path clip-path=\"url(#pb1d99c3231)\" d=\"M 255.482813 333.36 \nL 255.482813 7.2 \n\" style=\"fill:none;stroke:#ffffff;stroke-linecap:round;\"/>\n     </g>\n     <g id=\"line2d_8\"/>\n     <g id=\"text_4\">\n      <!-- 2020-04-30 00:00:00 -->\n      <g style=\"fill:#262626;\" transform=\"translate(205.123663 375.069641)rotate(-15)scale(0.1 -0.1)\">\n       <defs>\n        <path d=\"M 34.90625 24.703125 \nL 34.90625 63.484375 \nL 10.015625 24.703125 \nz\nM 56.390625 0 \nL 23.1875 0 \nL 23.1875 5.171875 \nL 34.90625 5.171875 \nL 34.90625 19.484375 \nL 3.078125 19.484375 \nL 3.078125 24.8125 \nL 35.015625 74.21875 \nL 44.671875 74.21875 \nL 44.671875 24.703125 \nL 58.59375 24.703125 \nL 58.59375 19.484375 \nL 44.671875 19.484375 \nL 44.671875 5.171875 \nL 56.390625 5.171875 \nz\n\" id=\"DejaVuSerif-52\"/>\n       </defs>\n       <use xlink:href=\"#DejaVuSerif-50\"/>\n       <use x=\"63.623047\" xlink:href=\"#DejaVuSerif-48\"/>\n       <use x=\"127.246094\" xlink:href=\"#DejaVuSerif-50\"/>\n       <use x=\"190.869141\" xlink:href=\"#DejaVuSerif-48\"/>\n       <use x=\"254.492188\" xlink:href=\"#DejaVuSerif-45\"/>\n       <use x=\"288.28125\" xlink:href=\"#DejaVuSerif-48\"/>\n       <use x=\"351.904297\" xlink:href=\"#DejaVuSerif-52\"/>\n       <use x=\"415.527344\" xlink:href=\"#DejaVuSerif-45\"/>\n       <use x=\"449.316406\" xlink:href=\"#DejaVuSerif-51\"/>\n       <use x=\"512.939453\" xlink:href=\"#DejaVuSerif-48\"/>\n       <use x=\"576.5625\" xlink:href=\"#DejaVuSerif-32\"/>\n       <use x=\"608.349609\" xlink:href=\"#DejaVuSerif-48\"/>\n       <use x=\"671.972656\" xlink:href=\"#DejaVuSerif-48\"/>\n       <use x=\"735.595703\" xlink:href=\"#DejaVuSerif-58\"/>\n       <use x=\"769.287109\" xlink:href=\"#DejaVuSerif-48\"/>\n       <use x=\"832.910156\" xlink:href=\"#DejaVuSerif-48\"/>\n       <use x=\"896.533203\" xlink:href=\"#DejaVuSerif-58\"/>\n       <use x=\"930.224609\" xlink:href=\"#DejaVuSerif-48\"/>\n       <use x=\"993.847656\" xlink:href=\"#DejaVuSerif-48\"/>\n      </g>\n     </g>\n    </g>\n    <g id=\"xtick_5\">\n     <g id=\"line2d_9\">\n      <path clip-path=\"url(#pb1d99c3231)\" d=\"M 317.482813 333.36 \nL 317.482813 7.2 \n\" style=\"fill:none;stroke:#ffffff;stroke-linecap:round;\"/>\n     </g>\n     <g id=\"line2d_10\"/>\n     <g id=\"text_5\">\n      <!-- 2020-05-31 00:00:00 -->\n      <g style=\"fill:#262626;\" transform=\"translate(267.123663 375.069641)rotate(-15)scale(0.1 -0.1)\">\n       <defs>\n        <path d=\"M 50.296875 72.90625 \nL 50.296875 64.890625 \nL 16.890625 64.890625 \nL 16.890625 44 \nQ 19.4375 45.75 22.828125 46.625 \nQ 26.21875 47.515625 30.421875 47.515625 \nQ 42.234375 47.515625 49.0625 40.96875 \nQ 55.90625 34.421875 55.90625 23.09375 \nQ 55.90625 11.53125 49 5.046875 \nQ 42.09375 -1.421875 29.59375 -1.421875 \nQ 24.5625 -1.421875 19.28125 -0.1875 \nQ 14.015625 1.03125 8.5 3.515625 \nL 8.5 17.671875 \nL 14.015625 17.671875 \nQ 14.453125 10.75 18.421875 7.078125 \nQ 22.40625 3.421875 29.59375 3.421875 \nQ 37.3125 3.421875 41.453125 8.5 \nQ 45.609375 13.578125 45.609375 23.09375 \nQ 45.609375 32.5625 41.484375 37.609375 \nQ 37.359375 42.671875 29.59375 42.671875 \nQ 25.203125 42.671875 21.84375 41.109375 \nQ 18.5 39.546875 15.921875 36.28125 \nL 11.71875 36.28125 \nL 11.71875 72.90625 \nz\n\" id=\"DejaVuSerif-53\"/>\n       </defs>\n       <use xlink:href=\"#DejaVuSerif-50\"/>\n       <use x=\"63.623047\" xlink:href=\"#DejaVuSerif-48\"/>\n       <use x=\"127.246094\" xlink:href=\"#DejaVuSerif-50\"/>\n       <use x=\"190.869141\" xlink:href=\"#DejaVuSerif-48\"/>\n       <use x=\"254.492188\" xlink:href=\"#DejaVuSerif-45\"/>\n       <use x=\"288.28125\" xlink:href=\"#DejaVuSerif-48\"/>\n       <use x=\"351.904297\" xlink:href=\"#DejaVuSerif-53\"/>\n       <use x=\"415.527344\" xlink:href=\"#DejaVuSerif-45\"/>\n       <use x=\"449.316406\" xlink:href=\"#DejaVuSerif-51\"/>\n       <use x=\"512.939453\" xlink:href=\"#DejaVuSerif-49\"/>\n       <use x=\"576.5625\" xlink:href=\"#DejaVuSerif-32\"/>\n       <use x=\"608.349609\" xlink:href=\"#DejaVuSerif-48\"/>\n       <use x=\"671.972656\" xlink:href=\"#DejaVuSerif-48\"/>\n       <use x=\"735.595703\" xlink:href=\"#DejaVuSerif-58\"/>\n       <use x=\"769.287109\" xlink:href=\"#DejaVuSerif-48\"/>\n       <use x=\"832.910156\" xlink:href=\"#DejaVuSerif-48\"/>\n       <use x=\"896.533203\" xlink:href=\"#DejaVuSerif-58\"/>\n       <use x=\"930.224609\" xlink:href=\"#DejaVuSerif-48\"/>\n       <use x=\"993.847656\" xlink:href=\"#DejaVuSerif-48\"/>\n      </g>\n     </g>\n    </g>\n    <g id=\"xtick_6\">\n     <g id=\"line2d_11\">\n      <path clip-path=\"url(#pb1d99c3231)\" d=\"M 379.482813 333.36 \nL 379.482813 7.2 \n\" style=\"fill:none;stroke:#ffffff;stroke-linecap:round;\"/>\n     </g>\n     <g id=\"line2d_12\"/>\n     <g id=\"text_6\">\n      <!-- 2020-06-30 00:00:00 -->\n      <g style=\"fill:#262626;\" transform=\"translate(329.123663 375.069641)rotate(-15)scale(0.1 -0.1)\">\n       <defs>\n        <path d=\"M 32.71875 3.421875 \nQ 39.59375 3.421875 43.296875 8.46875 \nQ 47.015625 13.53125 47.015625 23 \nQ 47.015625 32.46875 43.296875 37.515625 \nQ 39.59375 42.578125 32.71875 42.578125 \nQ 25.734375 42.578125 22.0625 37.6875 \nQ 18.40625 32.8125 18.40625 23.578125 \nQ 18.40625 13.875 22.109375 8.640625 \nQ 25.828125 3.421875 32.71875 3.421875 \nz\nM 16.796875 40.140625 \nQ 20.125 43.796875 24.3125 45.59375 \nQ 28.515625 47.40625 33.796875 47.40625 \nQ 44.671875 47.40625 51 40.859375 \nQ 57.328125 34.328125 57.328125 23 \nQ 57.328125 11.921875 50.515625 5.25 \nQ 43.703125 -1.421875 32.328125 -1.421875 \nQ 19.96875 -1.421875 13.328125 7.78125 \nQ 6.6875 17 6.6875 34.078125 \nQ 6.6875 53.21875 14.546875 63.71875 \nQ 22.40625 74.21875 36.71875 74.21875 \nQ 40.578125 74.21875 44.828125 73.484375 \nQ 49.078125 72.75 53.515625 71.296875 \nL 53.515625 59.28125 \nL 48 59.28125 \nQ 47.40625 64.203125 44.234375 66.796875 \nQ 41.0625 69.390625 35.6875 69.390625 \nQ 26.21875 69.390625 21.578125 62.203125 \nQ 16.9375 55.03125 16.796875 40.140625 \nz\n\" id=\"DejaVuSerif-54\"/>\n       </defs>\n       <use xlink:href=\"#DejaVuSerif-50\"/>\n       <use x=\"63.623047\" xlink:href=\"#DejaVuSerif-48\"/>\n       <use x=\"127.246094\" xlink:href=\"#DejaVuSerif-50\"/>\n       <use x=\"190.869141\" xlink:href=\"#DejaVuSerif-48\"/>\n       <use x=\"254.492188\" xlink:href=\"#DejaVuSerif-45\"/>\n       <use x=\"288.28125\" xlink:href=\"#DejaVuSerif-48\"/>\n       <use x=\"351.904297\" xlink:href=\"#DejaVuSerif-54\"/>\n       <use x=\"415.527344\" xlink:href=\"#DejaVuSerif-45\"/>\n       <use x=\"449.316406\" xlink:href=\"#DejaVuSerif-51\"/>\n       <use x=\"512.939453\" xlink:href=\"#DejaVuSerif-48\"/>\n       <use x=\"576.5625\" xlink:href=\"#DejaVuSerif-32\"/>\n       <use x=\"608.349609\" xlink:href=\"#DejaVuSerif-48\"/>\n       <use x=\"671.972656\" xlink:href=\"#DejaVuSerif-48\"/>\n       <use x=\"735.595703\" xlink:href=\"#DejaVuSerif-58\"/>\n       <use x=\"769.287109\" xlink:href=\"#DejaVuSerif-48\"/>\n       <use x=\"832.910156\" xlink:href=\"#DejaVuSerif-48\"/>\n       <use x=\"896.533203\" xlink:href=\"#DejaVuSerif-58\"/>\n       <use x=\"930.224609\" xlink:href=\"#DejaVuSerif-48\"/>\n       <use x=\"993.847656\" xlink:href=\"#DejaVuSerif-48\"/>\n      </g>\n     </g>\n    </g>\n    <g id=\"xtick_7\">\n     <g id=\"line2d_13\">\n      <path clip-path=\"url(#pb1d99c3231)\" d=\"M 441.482813 333.36 \nL 441.482813 7.2 \n\" style=\"fill:none;stroke:#ffffff;stroke-linecap:round;\"/>\n     </g>\n     <g id=\"line2d_14\"/>\n     <g id=\"text_7\">\n      <!-- 2020-07-31 00:00:00 -->\n      <g style=\"fill:#262626;\" transform=\"translate(391.123663 375.069641)rotate(-15)scale(0.1 -0.1)\">\n       <defs>\n        <path d=\"M 56.390625 67.921875 \nL 27.875 0 \nL 20.609375 0 \nL 47.796875 64.890625 \nL 14.109375 64.890625 \nL 14.109375 55.90625 \nL 8.40625 55.90625 \nL 8.40625 72.90625 \nL 56.390625 72.90625 \nz\n\" id=\"DejaVuSerif-55\"/>\n       </defs>\n       <use xlink:href=\"#DejaVuSerif-50\"/>\n       <use x=\"63.623047\" xlink:href=\"#DejaVuSerif-48\"/>\n       <use x=\"127.246094\" xlink:href=\"#DejaVuSerif-50\"/>\n       <use x=\"190.869141\" xlink:href=\"#DejaVuSerif-48\"/>\n       <use x=\"254.492188\" xlink:href=\"#DejaVuSerif-45\"/>\n       <use x=\"288.28125\" xlink:href=\"#DejaVuSerif-48\"/>\n       <use x=\"351.904297\" xlink:href=\"#DejaVuSerif-55\"/>\n       <use x=\"415.527344\" xlink:href=\"#DejaVuSerif-45\"/>\n       <use x=\"449.316406\" xlink:href=\"#DejaVuSerif-51\"/>\n       <use x=\"512.939453\" xlink:href=\"#DejaVuSerif-49\"/>\n       <use x=\"576.5625\" xlink:href=\"#DejaVuSerif-32\"/>\n       <use x=\"608.349609\" xlink:href=\"#DejaVuSerif-48\"/>\n       <use x=\"671.972656\" xlink:href=\"#DejaVuSerif-48\"/>\n       <use x=\"735.595703\" xlink:href=\"#DejaVuSerif-58\"/>\n       <use x=\"769.287109\" xlink:href=\"#DejaVuSerif-48\"/>\n       <use x=\"832.910156\" xlink:href=\"#DejaVuSerif-48\"/>\n       <use x=\"896.533203\" xlink:href=\"#DejaVuSerif-58\"/>\n       <use x=\"930.224609\" xlink:href=\"#DejaVuSerif-48\"/>\n       <use x=\"993.847656\" xlink:href=\"#DejaVuSerif-48\"/>\n      </g>\n     </g>\n    </g>\n    <g id=\"xtick_8\">\n     <g id=\"line2d_15\">\n      <path clip-path=\"url(#pb1d99c3231)\" d=\"M 503.482813 333.36 \nL 503.482813 7.2 \n\" style=\"fill:none;stroke:#ffffff;stroke-linecap:round;\"/>\n     </g>\n     <g id=\"line2d_16\"/>\n     <g id=\"text_8\">\n      <!-- 2020-08-31 00:00:00 -->\n      <g style=\"fill:#262626;\" transform=\"translate(453.123663 375.069641)rotate(-15)scale(0.1 -0.1)\">\n       <defs>\n        <path d=\"M 46.578125 19.921875 \nQ 46.578125 27.734375 42.6875 32.046875 \nQ 38.8125 36.375 31.78125 36.375 \nQ 24.75 36.375 20.875 32.046875 \nQ 17 27.734375 17 19.921875 \nQ 17 12.0625 20.875 7.734375 \nQ 24.75 3.421875 31.78125 3.421875 \nQ 38.8125 3.421875 42.6875 7.734375 \nQ 46.578125 12.0625 46.578125 19.921875 \nz\nM 44.578125 55.328125 \nQ 44.578125 61.96875 41.203125 65.671875 \nQ 37.84375 69.390625 31.78125 69.390625 \nQ 25.78125 69.390625 22.390625 65.671875 \nQ 19 61.96875 19 55.328125 \nQ 19 48.640625 22.390625 44.921875 \nQ 25.78125 41.21875 31.78125 41.21875 \nQ 37.84375 41.21875 41.203125 44.921875 \nQ 44.578125 48.640625 44.578125 55.328125 \nz\nM 39.3125 38.8125 \nQ 47.609375 37.703125 52.25 32.6875 \nQ 56.890625 27.6875 56.890625 19.921875 \nQ 56.890625 9.671875 50.390625 4.125 \nQ 43.890625 -1.421875 31.78125 -1.421875 \nQ 19.734375 -1.421875 13.203125 4.125 \nQ 6.6875 9.671875 6.6875 19.921875 \nQ 6.6875 27.6875 11.328125 32.6875 \nQ 15.96875 37.703125 24.3125 38.8125 \nQ 16.9375 40.140625 13 44.40625 \nQ 9.078125 48.6875 9.078125 55.328125 \nQ 9.078125 64.109375 15.125 69.15625 \nQ 21.1875 74.21875 31.78125 74.21875 \nQ 42.390625 74.21875 48.4375 69.15625 \nQ 54.5 64.109375 54.5 55.328125 \nQ 54.5 48.6875 50.5625 44.40625 \nQ 46.625 40.140625 39.3125 38.8125 \nz\n\" id=\"DejaVuSerif-56\"/>\n       </defs>\n       <use xlink:href=\"#DejaVuSerif-50\"/>\n       <use x=\"63.623047\" xlink:href=\"#DejaVuSerif-48\"/>\n       <use x=\"127.246094\" xlink:href=\"#DejaVuSerif-50\"/>\n       <use x=\"190.869141\" xlink:href=\"#DejaVuSerif-48\"/>\n       <use x=\"254.492188\" xlink:href=\"#DejaVuSerif-45\"/>\n       <use x=\"288.28125\" xlink:href=\"#DejaVuSerif-48\"/>\n       <use x=\"351.904297\" xlink:href=\"#DejaVuSerif-56\"/>\n       <use x=\"415.527344\" xlink:href=\"#DejaVuSerif-45\"/>\n       <use x=\"449.316406\" xlink:href=\"#DejaVuSerif-51\"/>\n       <use x=\"512.939453\" xlink:href=\"#DejaVuSerif-49\"/>\n       <use x=\"576.5625\" xlink:href=\"#DejaVuSerif-32\"/>\n       <use x=\"608.349609\" xlink:href=\"#DejaVuSerif-48\"/>\n       <use x=\"671.972656\" xlink:href=\"#DejaVuSerif-48\"/>\n       <use x=\"735.595703\" xlink:href=\"#DejaVuSerif-58\"/>\n       <use x=\"769.287109\" xlink:href=\"#DejaVuSerif-48\"/>\n       <use x=\"832.910156\" xlink:href=\"#DejaVuSerif-48\"/>\n       <use x=\"896.533203\" xlink:href=\"#DejaVuSerif-58\"/>\n       <use x=\"930.224609\" xlink:href=\"#DejaVuSerif-48\"/>\n       <use x=\"993.847656\" xlink:href=\"#DejaVuSerif-48\"/>\n      </g>\n     </g>\n    </g>\n    <g id=\"xtick_9\">\n     <g id=\"line2d_17\">\n      <path clip-path=\"url(#pb1d99c3231)\" d=\"M 565.482813 333.36 \nL 565.482813 7.2 \n\" style=\"fill:none;stroke:#ffffff;stroke-linecap:round;\"/>\n     </g>\n     <g id=\"line2d_18\"/>\n     <g id=\"text_9\">\n      <!-- 2020-09-30 00:00:00 -->\n      <g style=\"fill:#262626;\" transform=\"translate(515.123663 375.069641)rotate(-15)scale(0.1 -0.1)\">\n       <use xlink:href=\"#DejaVuSerif-50\"/>\n       <use x=\"63.623047\" xlink:href=\"#DejaVuSerif-48\"/>\n       <use x=\"127.246094\" xlink:href=\"#DejaVuSerif-50\"/>\n       <use x=\"190.869141\" xlink:href=\"#DejaVuSerif-48\"/>\n       <use x=\"254.492188\" xlink:href=\"#DejaVuSerif-45\"/>\n       <use x=\"288.28125\" xlink:href=\"#DejaVuSerif-48\"/>\n       <use x=\"351.904297\" xlink:href=\"#DejaVuSerif-57\"/>\n       <use x=\"415.527344\" xlink:href=\"#DejaVuSerif-45\"/>\n       <use x=\"449.316406\" xlink:href=\"#DejaVuSerif-51\"/>\n       <use x=\"512.939453\" xlink:href=\"#DejaVuSerif-48\"/>\n       <use x=\"576.5625\" xlink:href=\"#DejaVuSerif-32\"/>\n       <use x=\"608.349609\" xlink:href=\"#DejaVuSerif-48\"/>\n       <use x=\"671.972656\" xlink:href=\"#DejaVuSerif-48\"/>\n       <use x=\"735.595703\" xlink:href=\"#DejaVuSerif-58\"/>\n       <use x=\"769.287109\" xlink:href=\"#DejaVuSerif-48\"/>\n       <use x=\"832.910156\" xlink:href=\"#DejaVuSerif-48\"/>\n       <use x=\"896.533203\" xlink:href=\"#DejaVuSerif-58\"/>\n       <use x=\"930.224609\" xlink:href=\"#DejaVuSerif-48\"/>\n       <use x=\"993.847656\" xlink:href=\"#DejaVuSerif-48\"/>\n      </g>\n     </g>\n    </g>\n   </g>\n   <g id=\"matplotlib.axis_2\">\n    <g id=\"ytick_1\">\n     <g id=\"line2d_19\">\n      <path clip-path=\"url(#pb1d99c3231)\" d=\"M 38.482813 296.550784 \nL 596.482813 296.550784 \n\" style=\"fill:none;stroke:#ffffff;stroke-linecap:round;\"/>\n     </g>\n     <g id=\"line2d_20\"/>\n     <g id=\"text_10\">\n      <!-- −1.5 -->\n      <g style=\"fill:#262626;\" transform=\"translate(7.2 300.350003)scale(0.1 -0.1)\">\n       <defs>\n        <path d=\"M 10.59375 35.296875 \nL 73.1875 35.296875 \nL 73.1875 27.390625 \nL 10.59375 27.390625 \nz\n\" id=\"DejaVuSerif-8722\"/>\n        <path d=\"M 9.421875 5.078125 \nQ 9.421875 7.8125 11.28125 9.71875 \nQ 13.140625 11.625 15.921875 11.625 \nQ 18.609375 11.625 20.5 9.71875 \nQ 22.40625 7.8125 22.40625 5.078125 \nQ 22.40625 2.390625 20.5 0.484375 \nQ 18.609375 -1.421875 15.921875 -1.421875 \nQ 13.140625 -1.421875 11.28125 0.453125 \nQ 9.421875 2.34375 9.421875 5.078125 \nz\n\" id=\"DejaVuSerif-46\"/>\n       </defs>\n       <use xlink:href=\"#DejaVuSerif-8722\"/>\n       <use x=\"83.789062\" xlink:href=\"#DejaVuSerif-49\"/>\n       <use x=\"147.412109\" xlink:href=\"#DejaVuSerif-46\"/>\n       <use x=\"179.199219\" xlink:href=\"#DejaVuSerif-53\"/>\n      </g>\n     </g>\n    </g>\n    <g id=\"ytick_2\">\n     <g id=\"line2d_21\">\n      <path clip-path=\"url(#pb1d99c3231)\" d=\"M 38.482813 252.541976 \nL 596.482813 252.541976 \n\" style=\"fill:none;stroke:#ffffff;stroke-linecap:round;\"/>\n     </g>\n     <g id=\"line2d_22\"/>\n     <g id=\"text_11\">\n      <!-- −1.0 -->\n      <g style=\"fill:#262626;\" transform=\"translate(7.2 256.341195)scale(0.1 -0.1)\">\n       <use xlink:href=\"#DejaVuSerif-8722\"/>\n       <use x=\"83.789062\" xlink:href=\"#DejaVuSerif-49\"/>\n       <use x=\"147.412109\" xlink:href=\"#DejaVuSerif-46\"/>\n       <use x=\"179.199219\" xlink:href=\"#DejaVuSerif-48\"/>\n      </g>\n     </g>\n    </g>\n    <g id=\"ytick_3\">\n     <g id=\"line2d_23\">\n      <path clip-path=\"url(#pb1d99c3231)\" d=\"M 38.482813 208.533168 \nL 596.482813 208.533168 \n\" style=\"fill:none;stroke:#ffffff;stroke-linecap:round;\"/>\n     </g>\n     <g id=\"line2d_24\"/>\n     <g id=\"text_12\">\n      <!-- −0.5 -->\n      <g style=\"fill:#262626;\" transform=\"translate(7.2 212.332387)scale(0.1 -0.1)\">\n       <use xlink:href=\"#DejaVuSerif-8722\"/>\n       <use x=\"83.789062\" xlink:href=\"#DejaVuSerif-48\"/>\n       <use x=\"147.412109\" xlink:href=\"#DejaVuSerif-46\"/>\n       <use x=\"179.199219\" xlink:href=\"#DejaVuSerif-53\"/>\n      </g>\n     </g>\n    </g>\n    <g id=\"ytick_4\">\n     <g id=\"line2d_25\">\n      <path clip-path=\"url(#pb1d99c3231)\" d=\"M 38.482813 164.52436 \nL 596.482813 164.52436 \n\" style=\"fill:none;stroke:#ffffff;stroke-linecap:round;\"/>\n     </g>\n     <g id=\"line2d_26\"/>\n     <g id=\"text_13\">\n      <!-- 0.0 -->\n      <g style=\"fill:#262626;\" transform=\"translate(15.579688 168.323579)scale(0.1 -0.1)\">\n       <use xlink:href=\"#DejaVuSerif-48\"/>\n       <use x=\"63.623047\" xlink:href=\"#DejaVuSerif-46\"/>\n       <use x=\"95.410156\" xlink:href=\"#DejaVuSerif-48\"/>\n      </g>\n     </g>\n    </g>\n    <g id=\"ytick_5\">\n     <g id=\"line2d_27\">\n      <path clip-path=\"url(#pb1d99c3231)\" d=\"M 38.482813 120.515552 \nL 596.482813 120.515552 \n\" style=\"fill:none;stroke:#ffffff;stroke-linecap:round;\"/>\n     </g>\n     <g id=\"line2d_28\"/>\n     <g id=\"text_14\">\n      <!-- 0.5 -->\n      <g style=\"fill:#262626;\" transform=\"translate(15.579688 124.314771)scale(0.1 -0.1)\">\n       <use xlink:href=\"#DejaVuSerif-48\"/>\n       <use x=\"63.623047\" xlink:href=\"#DejaVuSerif-46\"/>\n       <use x=\"95.410156\" xlink:href=\"#DejaVuSerif-53\"/>\n      </g>\n     </g>\n    </g>\n    <g id=\"ytick_6\">\n     <g id=\"line2d_29\">\n      <path clip-path=\"url(#pb1d99c3231)\" d=\"M 38.482813 76.506745 \nL 596.482813 76.506745 \n\" style=\"fill:none;stroke:#ffffff;stroke-linecap:round;\"/>\n     </g>\n     <g id=\"line2d_30\"/>\n     <g id=\"text_15\">\n      <!-- 1.0 -->\n      <g style=\"fill:#262626;\" transform=\"translate(15.579688 80.305963)scale(0.1 -0.1)\">\n       <use xlink:href=\"#DejaVuSerif-49\"/>\n       <use x=\"63.623047\" xlink:href=\"#DejaVuSerif-46\"/>\n       <use x=\"95.410156\" xlink:href=\"#DejaVuSerif-48\"/>\n      </g>\n     </g>\n    </g>\n    <g id=\"ytick_7\">\n     <g id=\"line2d_31\">\n      <path clip-path=\"url(#pb1d99c3231)\" d=\"M 38.482813 32.497937 \nL 596.482813 32.497937 \n\" style=\"fill:none;stroke:#ffffff;stroke-linecap:round;\"/>\n     </g>\n     <g id=\"line2d_32\"/>\n     <g id=\"text_16\">\n      <!-- 1.5 -->\n      <g style=\"fill:#262626;\" transform=\"translate(15.579688 36.297155)scale(0.1 -0.1)\">\n       <use xlink:href=\"#DejaVuSerif-49\"/>\n       <use x=\"63.623047\" xlink:href=\"#DejaVuSerif-46\"/>\n       <use x=\"95.410156\" xlink:href=\"#DejaVuSerif-53\"/>\n      </g>\n     </g>\n    </g>\n   </g>\n   <g id=\"patch_3\">\n    <path clip-path=\"url(#pb1d99c3231)\" d=\"M 53.982813 164.52436 \nL 61.732813 164.52436 \nL 61.732813 318.534545 \nL 53.982813 318.534545 \nz\n\" style=\"fill:#4c72b0;\"/>\n   </g>\n   <g id=\"patch_4\">\n    <path clip-path=\"url(#pb1d99c3231)\" d=\"M 115.982813 164.52436 \nL 123.732813 164.52436 \nL 123.732813 78.150844 \nL 115.982813 78.150844 \nz\n\" style=\"fill:#4c72b0;\"/>\n   </g>\n   <g id=\"patch_5\">\n    <path clip-path=\"url(#pb1d99c3231)\" d=\"M 177.982813 164.52436 \nL 185.732813 164.52436 \nL 185.732813 181.203332 \nL 177.982813 181.203332 \nz\n\" style=\"fill:#4c72b0;\"/>\n   </g>\n   <g id=\"patch_6\">\n    <path clip-path=\"url(#pb1d99c3231)\" d=\"M 239.982813 164.52436 \nL 247.732813 164.52436 \nL 247.732813 215.891005 \nL 239.982813 215.891005 \nz\n\" style=\"fill:#4c72b0;\"/>\n   </g>\n   <g id=\"patch_7\">\n    <path clip-path=\"url(#pb1d99c3231)\" d=\"M 301.982813 164.52436 \nL 309.732813 164.52436 \nL 309.732813 211.286392 \nL 301.982813 211.286392 \nz\n\" style=\"fill:#4c72b0;\"/>\n   </g>\n   <g id=\"patch_8\">\n    <path clip-path=\"url(#pb1d99c3231)\" d=\"M 363.982813 164.52436 \nL 371.732813 164.52436 \nL 371.732813 22.025455 \nL 363.982813 22.025455 \nz\n\" style=\"fill:#4c72b0;\"/>\n   </g>\n   <g id=\"patch_9\">\n    <path clip-path=\"url(#pb1d99c3231)\" d=\"M 425.982813 164.52436 \nL 433.732813 164.52436 \nL 433.732813 148.283465 \nL 425.982813 148.283465 \nz\n\" style=\"fill:#4c72b0;\"/>\n   </g>\n   <g id=\"patch_10\">\n    <path clip-path=\"url(#pb1d99c3231)\" d=\"M 487.982813 164.52436 \nL 495.732813 164.52436 \nL 495.732813 193.239056 \nL 487.982813 193.239056 \nz\n\" style=\"fill:#4c72b0;\"/>\n   </g>\n   <g id=\"patch_11\">\n    <path clip-path=\"url(#pb1d99c3231)\" d=\"M 549.982813 164.52436 \nL 557.732813 164.52436 \nL 557.732813 231.096687 \nL 549.982813 231.096687 \nz\n\" style=\"fill:#4c72b0;\"/>\n   </g>\n   <g id=\"patch_12\">\n    <path clip-path=\"url(#pb1d99c3231)\" d=\"M 61.732813 164.52436 \nL 69.482813 164.52436 \nL 69.482813 134.362448 \nL 61.732813 134.362448 \nz\n\" style=\"fill:#55a868;\"/>\n   </g>\n   <g id=\"patch_13\">\n    <path clip-path=\"url(#pb1d99c3231)\" d=\"M 123.732813 164.52436 \nL 131.482813 164.52436 \nL 131.482813 119.264044 \nL 123.732813 119.264044 \nz\n\" style=\"fill:#55a868;\"/>\n   </g>\n   <g id=\"patch_14\">\n    <path clip-path=\"url(#pb1d99c3231)\" d=\"M 185.732813 164.52436 \nL 193.482813 164.52436 \nL 193.482813 142.079741 \nL 185.732813 142.079741 \nz\n\" style=\"fill:#55a868;\"/>\n   </g>\n   <g id=\"patch_15\">\n    <path clip-path=\"url(#pb1d99c3231)\" d=\"M 247.732813 164.52436 \nL 255.482813 164.52436 \nL 255.482813 92.627429 \nL 247.732813 92.627429 \nz\n\" style=\"fill:#55a868;\"/>\n   </g>\n   <g id=\"patch_16\">\n    <path clip-path=\"url(#pb1d99c3231)\" d=\"M 309.732813 164.52436 \nL 317.482813 164.52436 \nL 317.482813 73.889744 \nL 309.732813 73.889744 \nz\n\" style=\"fill:#55a868;\"/>\n   </g>\n   <g id=\"patch_17\">\n    <path clip-path=\"url(#pb1d99c3231)\" d=\"M 371.732813 164.52436 \nL 379.482813 164.52436 \nL 379.482813 28.835948 \nL 371.732813 28.835948 \nz\n\" style=\"fill:#55a868;\"/>\n   </g>\n   <g id=\"patch_18\">\n    <path clip-path=\"url(#pb1d99c3231)\" d=\"M 433.732813 164.52436 \nL 441.482813 164.52436 \nL 441.482813 82.044619 \nL 433.732813 82.044619 \nz\n\" style=\"fill:#55a868;\"/>\n   </g>\n   <g id=\"patch_19\">\n    <path clip-path=\"url(#pb1d99c3231)\" d=\"M 495.732813 164.52436 \nL 503.482813 164.52436 \nL 503.482813 159.62389 \nL 495.732813 159.62389 \nz\n\" style=\"fill:#55a868;\"/>\n   </g>\n   <g id=\"patch_20\">\n    <path clip-path=\"url(#pb1d99c3231)\" d=\"M 557.732813 164.52436 \nL 565.482813 164.52436 \nL 565.482813 92.662025 \nL 557.732813 92.662025 \nz\n\" style=\"fill:#55a868;\"/>\n   </g>\n   <g id=\"patch_21\">\n    <path clip-path=\"url(#pb1d99c3231)\" d=\"M 69.482813 164.52436 \nL 77.232813 164.52436 \nL 77.232813 63.036898 \nL 69.482813 63.036898 \nz\n\" style=\"fill:#c44e52;\"/>\n   </g>\n   <g id=\"patch_22\">\n    <path clip-path=\"url(#pb1d99c3231)\" d=\"M 131.482813 164.52436 \nL 139.232813 164.52436 \nL 139.232813 145.056653 \nL 131.482813 145.056653 \nz\n\" style=\"fill:#c44e52;\"/>\n   </g>\n   <g id=\"patch_23\">\n    <path clip-path=\"url(#pb1d99c3231)\" d=\"M 193.482813 164.52436 \nL 201.232813 164.52436 \nL 201.232813 204.838804 \nL 193.482813 204.838804 \nz\n\" style=\"fill:#c44e52;\"/>\n   </g>\n   <g id=\"patch_24\">\n    <path clip-path=\"url(#pb1d99c3231)\" d=\"M 255.482813 164.52436 \nL 263.232813 164.52436 \nL 263.232813 105.313079 \nL 255.482813 105.313079 \nz\n\" style=\"fill:#c44e52;\"/>\n   </g>\n   <g id=\"patch_25\">\n    <path clip-path=\"url(#pb1d99c3231)\" d=\"M 317.482813 164.52436 \nL 325.232813 164.52436 \nL 325.232813 203.088013 \nL 317.482813 203.088013 \nz\n\" style=\"fill:#c44e52;\"/>\n   </g>\n   <g id=\"patch_26\">\n    <path clip-path=\"url(#pb1d99c3231)\" d=\"M 379.482813 164.52436 \nL 387.232813 164.52436 \nL 387.232813 186.694162 \nL 379.482813 186.694162 \nz\n\" style=\"fill:#c44e52;\"/>\n   </g>\n   <g id=\"patch_27\">\n    <path clip-path=\"url(#pb1d99c3231)\" d=\"M 441.482813 164.52436 \nL 449.232813 164.52436 \nL 449.232813 100.183453 \nL 441.482813 100.183453 \nz\n\" style=\"fill:#c44e52;\"/>\n   </g>\n   <g id=\"patch_28\">\n    <path clip-path=\"url(#pb1d99c3231)\" d=\"M 503.482813 164.52436 \nL 511.232813 164.52436 \nL 511.232813 144.949277 \nL 503.482813 144.949277 \nz\n\" style=\"fill:#c44e52;\"/>\n   </g>\n   <g id=\"patch_29\">\n    <path clip-path=\"url(#pb1d99c3231)\" d=\"M 565.482813 164.52436 \nL 573.232813 164.52436 \nL 573.232813 98.472002 \nL 565.482813 98.472002 \nz\n\" style=\"fill:#c44e52;\"/>\n   </g>\n   <g id=\"patch_30\">\n    <path clip-path=\"url(#pb1d99c3231)\" d=\"M 77.232813 164.52436 \nL 84.982813 164.52436 \nL 84.982813 186.743178 \nL 77.232813 186.743178 \nz\n\" style=\"fill:#8172b2;\"/>\n   </g>\n   <g id=\"patch_31\">\n    <path clip-path=\"url(#pb1d99c3231)\" d=\"M 139.232813 164.52436 \nL 146.982813 164.52436 \nL 146.982813 258.707023 \nL 139.232813 258.707023 \nz\n\" style=\"fill:#8172b2;\"/>\n   </g>\n   <g id=\"patch_32\">\n    <path clip-path=\"url(#pb1d99c3231)\" d=\"M 201.232813 164.52436 \nL 208.982813 164.52436 \nL 208.982813 126.222308 \nL 201.232813 126.222308 \nz\n\" style=\"fill:#8172b2;\"/>\n   </g>\n   <g id=\"patch_33\">\n    <path clip-path=\"url(#pb1d99c3231)\" d=\"M 263.232813 164.52436 \nL 270.982813 164.52436 \nL 270.982813 173.71438 \nL 263.232813 173.71438 \nz\n\" style=\"fill:#8172b2;\"/>\n   </g>\n   <g id=\"patch_34\">\n    <path clip-path=\"url(#pb1d99c3231)\" d=\"M 325.232813 164.52436 \nL 332.982813 164.52436 \nL 332.982813 262.956066 \nL 325.232813 262.956066 \nz\n\" style=\"fill:#8172b2;\"/>\n   </g>\n   <g id=\"patch_35\">\n    <path clip-path=\"url(#pb1d99c3231)\" d=\"M 387.232813 164.52436 \nL 394.982813 164.52436 \nL 394.982813 238.673545 \nL 387.232813 238.673545 \nz\n\" style=\"fill:#8172b2;\"/>\n   </g>\n   <g id=\"patch_36\">\n    <path clip-path=\"url(#pb1d99c3231)\" d=\"M 449.232813 164.52436 \nL 456.982813 164.52436 \nL 456.982813 44.683436 \nL 449.232813 44.683436 \nz\n\" style=\"fill:#8172b2;\"/>\n   </g>\n   <g id=\"patch_37\">\n    <path clip-path=\"url(#pb1d99c3231)\" d=\"M 511.232813 164.52436 \nL 518.982813 164.52436 \nL 518.982813 291.552879 \nL 511.232813 291.552879 \nz\n\" style=\"fill:#8172b2;\"/>\n   </g>\n   <g id=\"patch_38\">\n    <path clip-path=\"url(#pb1d99c3231)\" d=\"M 573.232813 164.52436 \nL 580.982813 164.52436 \nL 580.982813 204.655722 \nL 573.232813 204.655722 \nz\n\" style=\"fill:#8172b2;\"/>\n   </g>\n   <g id=\"patch_39\">\n    <path d=\"M 38.482813 333.36 \nL 38.482813 7.2 \n\" style=\"fill:none;\"/>\n   </g>\n   <g id=\"patch_40\">\n    <path d=\"M 596.482813 333.36 \nL 596.482813 7.2 \n\" style=\"fill:none;\"/>\n   </g>\n   <g id=\"patch_41\">\n    <path d=\"M 38.482813 333.36 \nL 596.482813 333.36 \n\" style=\"fill:none;\"/>\n   </g>\n   <g id=\"patch_42\">\n    <path d=\"M 38.482813 7.2 \nL 596.482813 7.2 \n\" style=\"fill:none;\"/>\n   </g>\n   <g id=\"legend_1\">\n    <g id=\"patch_43\">\n     <path d=\"M 538.35 23.798437 \nL 558.35 23.798437 \nL 558.35 16.798437 \nL 538.35 16.798437 \nz\n\" style=\"fill:#4c72b0;\"/>\n    </g>\n    <g id=\"text_17\">\n     <!-- No1 -->\n     <g style=\"fill:#262626;\" transform=\"translate(566.35 23.798437)scale(0.1 -0.1)\">\n      <defs>\n       <path d=\"M 4.890625 0 \nL 4.890625 5.171875 \nL 14.703125 5.171875 \nL 14.703125 67.671875 \nL 4.890625 67.671875 \nL 4.890625 72.90625 \nL 23.578125 72.90625 \nL 67.28125 15.375 \nL 67.28125 67.671875 \nL 57.515625 67.671875 \nL 57.515625 72.90625 \nL 83.109375 72.90625 \nL 83.109375 67.671875 \nL 73.296875 67.671875 \nL 73.296875 -1.421875 \nL 67.390625 -1.421875 \nL 20.703125 60.015625 \nL 20.703125 5.171875 \nL 30.515625 5.171875 \nL 30.515625 0 \nz\n\" id=\"DejaVuSerif-78\"/>\n       <path d=\"M 30.078125 3.421875 \nQ 37.3125 3.421875 40.984375 9.125 \nQ 44.671875 14.84375 44.671875 25.984375 \nQ 44.671875 37.109375 40.984375 42.796875 \nQ 37.3125 48.484375 30.078125 48.484375 \nQ 22.859375 48.484375 19.171875 42.796875 \nQ 15.484375 37.109375 15.484375 25.984375 \nQ 15.484375 14.84375 19.1875 9.125 \nQ 22.90625 3.421875 30.078125 3.421875 \nz\nM 30.078125 -1.421875 \nQ 18.75 -1.421875 11.859375 6.078125 \nQ 4.984375 13.578125 4.984375 25.984375 \nQ 4.984375 38.375 11.84375 45.84375 \nQ 18.703125 53.328125 30.078125 53.328125 \nQ 41.453125 53.328125 48.3125 45.84375 \nQ 55.171875 38.375 55.171875 25.984375 \nQ 55.171875 13.578125 48.3125 6.078125 \nQ 41.453125 -1.421875 30.078125 -1.421875 \nz\n\" id=\"DejaVuSerif-111\"/>\n      </defs>\n      <use xlink:href=\"#DejaVuSerif-78\"/>\n      <use x=\"87.5\" xlink:href=\"#DejaVuSerif-111\"/>\n      <use x=\"147.705078\" xlink:href=\"#DejaVuSerif-49\"/>\n     </g>\n    </g>\n    <g id=\"patch_44\">\n     <path d=\"M 538.35 38.476562 \nL 558.35 38.476562 \nL 558.35 31.476562 \nL 538.35 31.476562 \nz\n\" style=\"fill:#55a868;\"/>\n    </g>\n    <g id=\"text_18\">\n     <!-- No2 -->\n     <g style=\"fill:#262626;\" transform=\"translate(566.35 38.476562)scale(0.1 -0.1)\">\n      <use xlink:href=\"#DejaVuSerif-78\"/>\n      <use x=\"87.5\" xlink:href=\"#DejaVuSerif-111\"/>\n      <use x=\"147.705078\" xlink:href=\"#DejaVuSerif-50\"/>\n     </g>\n    </g>\n    <g id=\"patch_45\">\n     <path d=\"M 538.35 53.154687 \nL 558.35 53.154687 \nL 558.35 46.154687 \nL 538.35 46.154687 \nz\n\" style=\"fill:#c44e52;\"/>\n    </g>\n    <g id=\"text_19\">\n     <!-- No3 -->\n     <g style=\"fill:#262626;\" transform=\"translate(566.35 53.154687)scale(0.1 -0.1)\">\n      <use xlink:href=\"#DejaVuSerif-78\"/>\n      <use x=\"87.5\" xlink:href=\"#DejaVuSerif-111\"/>\n      <use x=\"147.705078\" xlink:href=\"#DejaVuSerif-51\"/>\n     </g>\n    </g>\n    <g id=\"patch_46\">\n     <path d=\"M 538.35 67.832812 \nL 558.35 67.832812 \nL 558.35 60.832812 \nL 538.35 60.832812 \nz\n\" style=\"fill:#8172b2;\"/>\n    </g>\n    <g id=\"text_20\">\n     <!-- No4 -->\n     <g style=\"fill:#262626;\" transform=\"translate(566.35 67.832812)scale(0.1 -0.1)\">\n      <use xlink:href=\"#DejaVuSerif-78\"/>\n      <use x=\"87.5\" xlink:href=\"#DejaVuSerif-111\"/>\n      <use x=\"147.705078\" xlink:href=\"#DejaVuSerif-52\"/>\n     </g>\n    </g>\n   </g>\n  </g>\n </g>\n <defs>\n  <clipPath id=\"pb1d99c3231\">\n   <rect height=\"326.16\" width=\"558\" x=\"38.482813\" y=\"7.2\"/>\n  </clipPath>\n </defs>\n</svg>\n",
      "image/png": "[encoded data removed]"
     },
     "metadata": {}
    }
   ],
   "source": [
    "df.plot.bar(figsize=(10, 6), rot=15)\n",
    "#df.plot(kind='bar', figsize=(10, 6))"
   ]
  },
  {
   "source": [
    "## Pandas Series"
   ],
   "cell_type": "markdown",
   "metadata": {}
  },
  {
   "cell_type": "code",
   "execution_count": 34,
   "metadata": {},
   "outputs": [
    {
     "output_type": "execute_result",
     "data": {
      "text/plain": [
       "pandas.core.frame.DataFrame"
      ]
     },
     "metadata": {},
     "execution_count": 34
    }
   ],
   "source": [
    "type(df)"
   ]
  },
  {
   "cell_type": "code",
   "execution_count": 35,
   "metadata": {},
   "outputs": [
    {
     "output_type": "execute_result",
     "data": {
      "text/plain": [
       "0     0.0\n",
       "1     2.5\n",
       "2     5.0\n",
       "3     7.5\n",
       "4    10.0\n",
       "5    12.5\n",
       "6    15.0\n",
       "Name: series, dtype: float64"
      ]
     },
     "metadata": {},
     "execution_count": 35
    }
   ],
   "source": [
    "S = pd.Series(np.linspace(0, 15, 7), name='series')\n",
    "S"
   ]
  },
  {
   "cell_type": "code",
   "execution_count": 36,
   "metadata": {},
   "outputs": [
    {
     "output_type": "execute_result",
     "data": {
      "text/plain": [
       "pandas.core.series.Series"
      ]
     },
     "metadata": {},
     "execution_count": 36
    }
   ],
   "source": [
    "type(S)"
   ]
  },
  {
   "cell_type": "code",
   "execution_count": 37,
   "metadata": {},
   "outputs": [
    {
     "output_type": "execute_result",
     "data": {
      "text/plain": [
       "2020-01-31   -1.749765\n",
       "2020-02-29    0.981321\n",
       "2020-03-31   -0.189496\n",
       "2020-04-30   -0.583595\n",
       "2020-05-31   -0.531280\n",
       "2020-06-30    1.618982\n",
       "2020-07-31    0.184519\n",
       "2020-08-31   -0.326238\n",
       "2020-09-30   -0.756352\n",
       "Freq: M, Name: No1, dtype: float64"
      ]
     },
     "metadata": {},
     "execution_count": 37
    }
   ],
   "source": [
    "s = df['No1']\n",
    "s"
   ]
  },
  {
   "cell_type": "code",
   "execution_count": 38,
   "metadata": {},
   "outputs": [
    {
     "output_type": "execute_result",
     "data": {
      "text/plain": [
       "-0.15021177307319458"
      ]
     },
     "metadata": {},
     "execution_count": 38
    }
   ],
   "source": [
    "s.mean()"
   ]
  },
  {
   "cell_type": "code",
   "execution_count": 39,
   "metadata": {},
   "outputs": [
    {
     "output_type": "execute_result",
     "data": {
      "text/plain": [
       "<AxesSubplot:>"
      ]
     },
     "metadata": {},
     "execution_count": 39
    },
    {
     "output_type": "display_data",
     "data": {
      "text/plain": "<Figure size 720x432 with 1 Axes>",
      "image/svg+xml": "<?xml version=\"1.0\" encoding=\"utf-8\" standalone=\"no\"?>\n<!DOCTYPE svg PUBLIC \"-//W3C//DTD SVG 1.1//EN\"\n  \"http://www.w3.org/Graphics/SVG/1.1/DTD/svg11.dtd\">\n<!-- Created with matplotlib (https://matplotlib.org/) -->\n<svg height=\"368.435938pt\" version=\"1.1\" viewBox=\"0 0 613.267969 368.435938\" width=\"613.267969pt\" xmlns=\"http://www.w3.org/2000/svg\" xmlns:xlink=\"http://www.w3.org/1999/xlink\">\n <metadata>\n  <rdf:RDF xmlns:cc=\"http://creativecommons.org/ns#\" xmlns:dc=\"http://purl.org/dc/elements/1.1/\" xmlns:rdf=\"http://www.w3.org/1999/02/22-rdf-syntax-ns#\">\n   <cc:Work>\n    <dc:type rdf:resource=\"http://purl.org/dc/dcmitype/StillImage\"/>\n    <dc:date>2021-03-17T00:08:59.747922</dc:date>\n    <dc:format>image/svg+xml</dc:format>\n    <dc:creator>\n     <cc:Agent>\n      <dc:title>Matplotlib v3.3.4, https://matplotlib.org/</dc:title>\n     </cc:Agent>\n    </dc:creator>\n   </cc:Work>\n  </rdf:RDF>\n </metadata>\n <defs>\n  <style type=\"text/css\">*{stroke-linecap:butt;stroke-linejoin:round;}</style>\n </defs>\n <g id=\"figure_1\">\n  <g id=\"patch_1\">\n   <path d=\"M 0 368.435938 \nL 613.267969 368.435938 \nL 613.267969 0 \nL 0 0 \nz\n\" style=\"fill:#ffffff;\"/>\n  </g>\n  <g id=\"axes_1\">\n   <g id=\"patch_2\">\n    <path d=\"M 38.482813 333.36 \nL 596.482813 333.36 \nL 596.482813 7.2 \nL 38.482813 7.2 \nz\n\" style=\"fill:#eaeaf2;\"/>\n   </g>\n   <g id=\"matplotlib.axis_1\">\n    <g id=\"xtick_1\">\n     <g id=\"line2d_1\">\n      <path clip-path=\"url(#p284ad0dac8)\" d=\"M 38.482812 333.36 \nL 38.482812 7.2 \n\" style=\"fill:none;stroke:#ffffff;stroke-linecap:round;\"/>\n     </g>\n     <g id=\"line2d_2\"/>\n     <g id=\"text_1\">\n      <!-- Jan -->\n      <g style=\"fill:#262626;\" transform=\"translate(30.276562 347.958438)scale(0.1 -0.1)\">\n       <defs>\n        <path d=\"M -8.40625 -17.484375 \nL -8.40625 -6 \nL -2.828125 -6 \nQ -2.6875 -10.84375 -0.53125 -13.203125 \nQ 1.609375 -15.578125 5.90625 -15.578125 \nQ 11.71875 -15.578125 14.015625 -11.90625 \nQ 16.3125 -8.25 16.3125 2.390625 \nL 16.3125 67.671875 \nL 4.984375 67.671875 \nL 4.984375 72.90625 \nL 35.5 72.90625 \nL 35.5 67.671875 \nL 26.21875 67.671875 \nL 26.21875 2 \nQ 26.21875 -10.0625 21.375 -15.421875 \nQ 16.546875 -20.796875 5.8125 -20.796875 \nQ 2.34375 -20.796875 -1.234375 -19.96875 \nQ -4.828125 -19.140625 -8.40625 -17.484375 \nz\n\" id=\"DejaVuSerif-74\"/>\n        <path d=\"M 39.796875 16.3125 \nL 39.796875 27.296875 \nL 28.21875 27.296875 \nQ 21.53125 27.296875 18.25 24.40625 \nQ 14.984375 21.53125 14.984375 15.578125 \nQ 14.984375 10.15625 18.296875 6.984375 \nQ 21.625 3.8125 27.296875 3.8125 \nQ 32.90625 3.8125 36.34375 7.28125 \nQ 39.796875 10.75 39.796875 16.3125 \nz\nM 48.78125 32.421875 \nL 48.78125 5.171875 \nL 56.78125 5.171875 \nL 56.78125 0 \nL 39.796875 0 \nL 39.796875 5.609375 \nQ 36.8125 2 32.90625 0.28125 \nQ 29 -1.421875 23.78125 -1.421875 \nQ 15.140625 -1.421875 10.0625 3.171875 \nQ 4.984375 7.765625 4.984375 15.578125 \nQ 4.984375 23.640625 10.796875 28.078125 \nQ 16.609375 32.515625 27.203125 32.515625 \nL 39.796875 32.515625 \nL 39.796875 36.078125 \nQ 39.796875 42 36.203125 45.234375 \nQ 32.625 48.484375 26.125 48.484375 \nQ 20.75 48.484375 17.578125 46.046875 \nQ 14.40625 43.609375 13.625 38.8125 \nL 8.984375 38.8125 \nL 8.984375 49.3125 \nQ 13.671875 51.3125 18.09375 52.3125 \nQ 22.515625 53.328125 26.703125 53.328125 \nQ 37.5 53.328125 43.140625 47.96875 \nQ 48.78125 42.625 48.78125 32.421875 \nz\n\" id=\"DejaVuSerif-97\"/>\n        <path d=\"M 4.109375 0 \nL 4.109375 5.171875 \nL 12.203125 5.171875 \nL 12.203125 46.6875 \nL 3.609375 46.6875 \nL 3.609375 51.90625 \nL 21.1875 51.90625 \nL 21.1875 42.671875 \nQ 23.6875 47.953125 27.65625 50.640625 \nQ 31.640625 53.328125 36.921875 53.328125 \nQ 45.515625 53.328125 49.5625 48.390625 \nQ 53.609375 43.453125 53.609375 33.015625 \nL 53.609375 5.171875 \nL 61.625 5.171875 \nL 61.625 0 \nL 36.8125 0 \nL 36.8125 5.171875 \nL 44.578125 5.171875 \nL 44.578125 30.171875 \nQ 44.578125 39.703125 42.234375 43.234375 \nQ 39.890625 46.78125 33.984375 46.78125 \nQ 27.734375 46.78125 24.453125 42.203125 \nQ 21.1875 37.640625 21.1875 28.90625 \nL 21.1875 5.171875 \nL 29 5.171875 \nL 29 0 \nz\n\" id=\"DejaVuSerif-110\"/>\n       </defs>\n       <use xlink:href=\"#DejaVuSerif-74\"/>\n       <use x=\"40.087891\" xlink:href=\"#DejaVuSerif-97\"/>\n       <use x=\"99.707031\" xlink:href=\"#DejaVuSerif-110\"/>\n      </g>\n      <!-- 2020 -->\n      <g style=\"fill:#262626;\" transform=\"translate(25.757812 359.15625)scale(0.1 -0.1)\">\n       <defs>\n        <path d=\"M 12.796875 55.515625 \nL 7.328125 55.515625 \nL 7.328125 68.5 \nQ 12.546875 71.296875 17.84375 72.75 \nQ 23.140625 74.21875 28.21875 74.21875 \nQ 39.59375 74.21875 46.1875 68.703125 \nQ 52.78125 63.1875 52.78125 53.71875 \nQ 52.78125 43.015625 37.84375 28.125 \nQ 36.671875 27 36.078125 26.421875 \nL 17.671875 8.015625 \nL 48.09375 8.015625 \nL 48.09375 17 \nL 53.8125 17 \nL 53.8125 0 \nL 6.78125 0 \nL 6.78125 5.328125 \nL 28.90625 27.390625 \nQ 36.234375 34.71875 39.359375 40.84375 \nQ 42.484375 46.96875 42.484375 53.71875 \nQ 42.484375 61.078125 38.640625 65.234375 \nQ 34.8125 69.390625 28.078125 69.390625 \nQ 21.09375 69.390625 17.28125 65.921875 \nQ 13.484375 62.453125 12.796875 55.515625 \nz\n\" id=\"DejaVuSerif-50\"/>\n        <path d=\"M 31.78125 3.421875 \nQ 39.265625 3.421875 42.96875 11.625 \nQ 46.6875 19.828125 46.6875 36.375 \nQ 46.6875 52.984375 42.96875 61.1875 \nQ 39.265625 69.390625 31.78125 69.390625 \nQ 24.3125 69.390625 20.59375 61.1875 \nQ 16.890625 52.984375 16.890625 36.375 \nQ 16.890625 19.828125 20.59375 11.625 \nQ 24.3125 3.421875 31.78125 3.421875 \nz\nM 31.78125 -1.421875 \nQ 19.921875 -1.421875 13.25 8.53125 \nQ 6.59375 18.5 6.59375 36.375 \nQ 6.59375 54.296875 13.25 64.25 \nQ 19.921875 74.21875 31.78125 74.21875 \nQ 43.703125 74.21875 50.34375 64.25 \nQ 56.984375 54.296875 56.984375 36.375 \nQ 56.984375 18.5 50.34375 8.53125 \nQ 43.703125 -1.421875 31.78125 -1.421875 \nz\n\" id=\"DejaVuSerif-48\"/>\n       </defs>\n       <use xlink:href=\"#DejaVuSerif-50\"/>\n       <use x=\"63.623047\" xlink:href=\"#DejaVuSerif-48\"/>\n       <use x=\"127.246094\" xlink:href=\"#DejaVuSerif-50\"/>\n       <use x=\"190.869141\" xlink:href=\"#DejaVuSerif-48\"/>\n      </g>\n     </g>\n    </g>\n    <g id=\"xtick_2\">\n     <g id=\"line2d_3\"/>\n     <g id=\"text_2\">\n      <!-- Feb -->\n      <g style=\"fill:#262626;\" transform=\"translate(98.878125 344.358438)scale(0.1 -0.1)\">\n       <defs>\n        <path d=\"M 5.515625 0 \nL 5.515625 5.171875 \nL 14.796875 5.171875 \nL 14.796875 67.671875 \nL 5.515625 67.671875 \nL 5.515625 72.90625 \nL 65.1875 72.90625 \nL 65.1875 56.6875 \nL 59.1875 56.6875 \nL 59.1875 66.890625 \nL 24.703125 66.890625 \nL 24.703125 42.484375 \nL 49.609375 42.484375 \nL 49.609375 51.609375 \nL 55.609375 51.609375 \nL 55.609375 27.390625 \nL 49.609375 27.390625 \nL 49.609375 36.53125 \nL 24.703125 36.53125 \nL 24.703125 5.171875 \nL 36.375 5.171875 \nL 36.375 0 \nz\n\" id=\"DejaVuSerif-70\"/>\n        <path d=\"M 54.203125 25 \nL 15.484375 25 \nL 15.484375 24.609375 \nQ 15.484375 14.109375 19.4375 8.765625 \nQ 23.390625 3.421875 31.109375 3.421875 \nQ 37.015625 3.421875 40.796875 6.515625 \nQ 44.578125 9.625 46.09375 15.71875 \nL 53.328125 15.71875 \nQ 51.171875 7.171875 45.375 2.875 \nQ 39.59375 -1.421875 30.171875 -1.421875 \nQ 18.796875 -1.421875 11.890625 6.078125 \nQ 4.984375 13.578125 4.984375 25.984375 \nQ 4.984375 38.28125 11.765625 45.796875 \nQ 18.5625 53.328125 29.59375 53.328125 \nQ 41.359375 53.328125 47.65625 46.0625 \nQ 53.953125 38.8125 54.203125 25 \nz\nM 43.609375 30.171875 \nQ 43.3125 39.265625 39.765625 43.875 \nQ 36.234375 48.484375 29.59375 48.484375 \nQ 23.390625 48.484375 19.828125 43.84375 \nQ 16.265625 39.203125 15.484375 30.171875 \nz\n\" id=\"DejaVuSerif-101\"/>\n        <path d=\"M 11.53125 5.171875 \nL 11.53125 70.796875 \nL 2.875 70.796875 \nL 2.875 75.984375 \nL 20.515625 75.984375 \nL 20.515625 43.796875 \nQ 23.140625 48.6875 27.21875 51 \nQ 31.296875 53.328125 37.3125 53.328125 \nQ 46.875 53.328125 52.921875 45.75 \nQ 58.984375 38.1875 58.984375 25.984375 \nQ 58.984375 13.765625 52.921875 6.171875 \nQ 46.875 -1.421875 37.3125 -1.421875 \nQ 31.296875 -1.421875 27.21875 0.890625 \nQ 23.140625 3.21875 20.515625 8.109375 \nL 20.515625 0 \nL 2.875 0 \nL 2.875 5.171875 \nz\nM 20.515625 23.390625 \nQ 20.515625 14.015625 24.09375 9.109375 \nQ 27.6875 4.203125 34.515625 4.203125 \nQ 41.40625 4.203125 44.9375 9.71875 \nQ 48.484375 15.234375 48.484375 25.984375 \nQ 48.484375 36.765625 44.9375 42.234375 \nQ 41.40625 47.703125 34.515625 47.703125 \nQ 27.6875 47.703125 24.09375 42.765625 \nQ 20.515625 37.84375 20.515625 28.515625 \nz\n\" id=\"DejaVuSerif-98\"/>\n       </defs>\n       <use xlink:href=\"#DejaVuSerif-70\"/>\n       <use x=\"63.884766\" xlink:href=\"#DejaVuSerif-101\"/>\n       <use x=\"123.064453\" xlink:href=\"#DejaVuSerif-98\"/>\n      </g>\n     </g>\n    </g>\n    <g id=\"xtick_3\">\n     <g id=\"line2d_4\"/>\n     <g id=\"text_3\">\n      <!-- Mar -->\n      <g style=\"fill:#262626;\" transform=\"translate(167.492187 344.358438)scale(0.1 -0.1)\">\n       <defs>\n        <path d=\"M 5.515625 0 \nL 5.515625 5.171875 \nL 14.796875 5.171875 \nL 14.796875 67.671875 \nL 4.984375 67.671875 \nL 4.984375 72.90625 \nL 26.21875 72.90625 \nL 51.8125 21 \nL 77.390625 72.90625 \nL 97.3125 72.90625 \nL 97.3125 67.671875 \nL 87.59375 67.671875 \nL 87.59375 5.171875 \nL 96.921875 5.171875 \nL 96.921875 0 \nL 68.40625 0 \nL 68.40625 5.171875 \nL 77.6875 5.171875 \nL 77.6875 61.53125 \nL 52.6875 10.6875 \nL 45.796875 10.6875 \nL 20.796875 61.53125 \nL 20.796875 5.171875 \nL 30.078125 5.171875 \nL 30.078125 0 \nz\n\" id=\"DejaVuSerif-77\"/>\n        <path d=\"M 47.796875 52 \nL 47.796875 39.015625 \nL 42.625 39.015625 \nQ 42.390625 42.875 40.484375 44.78125 \nQ 38.578125 46.6875 34.90625 46.6875 \nQ 28.265625 46.6875 24.71875 42.09375 \nQ 21.1875 37.5 21.1875 28.90625 \nL 21.1875 5.171875 \nL 31.59375 5.171875 \nL 31.59375 0 \nL 4.109375 0 \nL 4.109375 5.171875 \nL 12.203125 5.171875 \nL 12.203125 46.78125 \nL 3.609375 46.78125 \nL 3.609375 51.90625 \nL 21.1875 51.90625 \nL 21.1875 42.671875 \nQ 23.828125 48.09375 27.96875 50.703125 \nQ 32.125 53.328125 38.09375 53.328125 \nQ 40.28125 53.328125 42.703125 52.984375 \nQ 45.125 52.640625 47.796875 52 \nz\n\" id=\"DejaVuSerif-114\"/>\n       </defs>\n       <use xlink:href=\"#DejaVuSerif-77\"/>\n       <use x=\"102.392578\" xlink:href=\"#DejaVuSerif-97\"/>\n       <use x=\"162.011719\" xlink:href=\"#DejaVuSerif-114\"/>\n      </g>\n     </g>\n    </g>\n    <g id=\"xtick_4\">\n     <g id=\"line2d_5\"/>\n     <g id=\"text_4\">\n      <!-- Apr -->\n      <g style=\"fill:#262626;\" transform=\"translate(238.53125 344.358438)scale(0.1 -0.1)\">\n       <defs>\n        <path d=\"M 20.015625 26.421875 \nL 46.78125 26.421875 \nL 33.40625 61.078125 \nz\nM -0.59375 0 \nL -0.59375 5.171875 \nL 5.8125 5.171875 \nL 31.78125 72.90625 \nL 39.984375 72.90625 \nL 66.015625 5.171875 \nL 73.1875 5.171875 \nL 73.1875 0 \nL 46.6875 0 \nL 46.6875 5.171875 \nL 54.78125 5.171875 \nL 48.6875 21.1875 \nL 18.015625 21.1875 \nL 11.921875 5.171875 \nL 19.921875 5.171875 \nL 19.921875 0 \nz\n\" id=\"DejaVuSerif-65\"/>\n        <path d=\"M 20.515625 28.515625 \nL 20.515625 23.390625 \nQ 20.515625 14.015625 24.09375 9.109375 \nQ 27.6875 4.203125 34.515625 4.203125 \nQ 41.40625 4.203125 44.9375 9.71875 \nQ 48.484375 15.234375 48.484375 25.984375 \nQ 48.484375 36.765625 44.9375 42.234375 \nQ 41.40625 47.703125 34.515625 47.703125 \nQ 27.6875 47.703125 24.09375 42.765625 \nQ 20.515625 37.84375 20.515625 28.515625 \nz\nM 11.53125 46.6875 \nL 2.875 46.6875 \nL 2.875 51.90625 \nL 20.515625 51.90625 \nL 20.515625 43.796875 \nQ 23.140625 48.6875 27.21875 51 \nQ 31.296875 53.328125 37.3125 53.328125 \nQ 46.875 53.328125 52.921875 45.75 \nQ 58.984375 38.1875 58.984375 25.984375 \nQ 58.984375 13.765625 52.921875 6.171875 \nQ 46.875 -1.421875 37.3125 -1.421875 \nQ 31.296875 -1.421875 27.21875 0.890625 \nQ 23.140625 3.21875 20.515625 8.109375 \nL 20.515625 -15.578125 \nL 29 -15.578125 \nL 29 -20.796875 \nL 2.875 -20.796875 \nL 2.875 -15.578125 \nL 11.53125 -15.578125 \nz\n\" id=\"DejaVuSerif-112\"/>\n       </defs>\n       <use xlink:href=\"#DejaVuSerif-65\"/>\n       <use x=\"72.216797\" xlink:href=\"#DejaVuSerif-112\"/>\n       <use x=\"136.230469\" xlink:href=\"#DejaVuSerif-114\"/>\n      </g>\n     </g>\n    </g>\n    <g id=\"xtick_5\">\n     <g id=\"line2d_6\"/>\n     <g id=\"text_5\">\n      <!-- May -->\n      <g style=\"fill:#262626;\" transform=\"translate(306.557031 344.21625)scale(0.1 -0.1)\">\n       <defs>\n        <path d=\"M 21.578125 -9.515625 \nL 25 -0.875 \nL 5.609375 46.6875 \nL -0.296875 46.6875 \nL -0.296875 51.90625 \nL 23.578125 51.90625 \nL 23.578125 46.6875 \nL 15.28125 46.6875 \nL 29.890625 10.984375 \nL 44.484375 46.6875 \nL 36.71875 46.6875 \nL 36.71875 51.90625 \nL 56.203125 51.90625 \nL 56.203125 46.6875 \nL 50.390625 46.6875 \nL 26.609375 -11.71875 \nQ 24.171875 -17.78125 21.1875 -20 \nQ 18.21875 -22.21875 12.796875 -22.21875 \nQ 10.5 -22.21875 8.078125 -21.828125 \nQ 5.671875 -21.4375 3.21875 -20.703125 \nL 3.21875 -10.796875 \nL 7.8125 -10.796875 \nQ 8.109375 -14.109375 9.5 -15.546875 \nQ 10.890625 -17 13.8125 -17 \nQ 16.5 -17 18.140625 -15.5 \nQ 19.78125 -14.015625 21.578125 -9.515625 \nz\n\" id=\"DejaVuSerif-121\"/>\n       </defs>\n       <use xlink:href=\"#DejaVuSerif-77\"/>\n       <use x=\"102.392578\" xlink:href=\"#DejaVuSerif-97\"/>\n       <use x=\"162.011719\" xlink:href=\"#DejaVuSerif-121\"/>\n      </g>\n     </g>\n    </g>\n    <g id=\"xtick_6\">\n     <g id=\"line2d_7\"/>\n     <g id=\"text_6\">\n      <!-- Jun -->\n      <g style=\"fill:#262626;\" transform=\"translate(378.7875 344.358438)scale(0.1 -0.1)\">\n       <defs>\n        <path d=\"M 35.40625 51.90625 \nL 52.203125 51.90625 \nL 52.203125 5.171875 \nL 60.6875 5.171875 \nL 60.6875 0 \nL 43.21875 0 \nL 43.21875 9.1875 \nQ 40.71875 4 36.765625 1.28125 \nQ 32.8125 -1.421875 27.59375 -1.421875 \nQ 18.953125 -1.421875 14.875 3.484375 \nQ 10.796875 8.40625 10.796875 18.890625 \nL 10.796875 46.6875 \nL 2.6875 46.6875 \nL 2.6875 51.90625 \nL 19.828125 51.90625 \nL 19.828125 21.6875 \nQ 19.828125 12.203125 22.140625 8.6875 \nQ 24.46875 5.171875 30.421875 5.171875 \nQ 36.671875 5.171875 39.9375 9.765625 \nQ 43.21875 14.359375 43.21875 23.09375 \nL 43.21875 46.6875 \nL 35.40625 46.6875 \nz\n\" id=\"DejaVuSerif-117\"/>\n       </defs>\n       <use xlink:href=\"#DejaVuSerif-74\"/>\n       <use x=\"40.087891\" xlink:href=\"#DejaVuSerif-117\"/>\n       <use x=\"104.492188\" xlink:href=\"#DejaVuSerif-110\"/>\n      </g>\n     </g>\n    </g>\n    <g id=\"xtick_7\">\n     <g id=\"line2d_8\"/>\n     <g id=\"text_7\">\n      <!-- Jul -->\n      <g style=\"fill:#262626;\" transform=\"translate(450.158594 344.358438)scale(0.1 -0.1)\">\n       <defs>\n        <path d=\"M 20.515625 5.171875 \nL 29 5.171875 \nL 29 0 \nL 2.875 0 \nL 2.875 5.171875 \nL 11.53125 5.171875 \nL 11.53125 70.796875 \nL 2.875 70.796875 \nL 2.875 75.984375 \nL 20.515625 75.984375 \nz\n\" id=\"DejaVuSerif-108\"/>\n       </defs>\n       <use xlink:href=\"#DejaVuSerif-74\"/>\n       <use x=\"40.087891\" xlink:href=\"#DejaVuSerif-117\"/>\n       <use x=\"104.492188\" xlink:href=\"#DejaVuSerif-108\"/>\n      </g>\n     </g>\n    </g>\n    <g id=\"xtick_8\">\n     <g id=\"line2d_9\"/>\n     <g id=\"text_8\">\n      <!-- Aug -->\n      <g style=\"fill:#262626;\" transform=\"translate(516.700781 344.21625)scale(0.1 -0.1)\">\n       <defs>\n        <path d=\"M 52.484375 46.6875 \nL 52.484375 1.125 \nQ 52.484375 -10.0625 46.328125 -16.140625 \nQ 40.1875 -22.21875 28.8125 -22.21875 \nQ 23.6875 -22.21875 19 -21.28125 \nQ 14.3125 -20.359375 10.015625 -18.5 \nL 10.015625 -7.625 \nL 14.703125 -7.625 \nQ 15.578125 -12.703125 18.84375 -15.046875 \nQ 22.125 -17.390625 28.21875 -17.390625 \nQ 36.140625 -17.390625 39.8125 -12.921875 \nQ 43.5 -8.453125 43.5 1.125 \nL 43.5 8.109375 \nQ 40.875 3.21875 36.796875 0.890625 \nQ 32.71875 -1.421875 26.703125 -1.421875 \nQ 17.140625 -1.421875 11.0625 6.171875 \nQ 4.984375 13.765625 4.984375 25.984375 \nQ 4.984375 38.1875 11.03125 45.75 \nQ 17.09375 53.328125 26.703125 53.328125 \nQ 32.71875 53.328125 36.796875 51 \nQ 40.875 48.6875 43.5 43.796875 \nL 43.5 51.90625 \nL 61.078125 51.90625 \nL 61.078125 46.6875 \nz\nM 43.5 28.515625 \nQ 43.5 37.84375 39.90625 42.765625 \nQ 36.328125 47.703125 29.5 47.703125 \nQ 22.5625 47.703125 19.015625 42.234375 \nQ 15.484375 36.765625 15.484375 25.984375 \nQ 15.484375 15.234375 19.015625 9.71875 \nQ 22.5625 4.203125 29.5 4.203125 \nQ 36.328125 4.203125 39.90625 9.109375 \nQ 43.5 14.015625 43.5 23.390625 \nz\n\" id=\"DejaVuSerif-103\"/>\n       </defs>\n       <use xlink:href=\"#DejaVuSerif-65\"/>\n       <use x=\"72.216797\" xlink:href=\"#DejaVuSerif-117\"/>\n       <use x=\"136.621094\" xlink:href=\"#DejaVuSerif-103\"/>\n      </g>\n     </g>\n    </g>\n    <g id=\"xtick_9\">\n     <g id=\"line2d_10\"/>\n     <g id=\"text_9\">\n      <!-- Sep -->\n      <g style=\"fill:#262626;\" transform=\"translate(586.897656 344.358438)scale(0.1 -0.1)\">\n       <defs>\n        <path d=\"M 9.28125 3.515625 \nL 9.28125 20.125 \nL 14.890625 20.0625 \nQ 15.140625 11.765625 19.703125 7.78125 \nQ 24.265625 3.8125 33.59375 3.8125 \nQ 42.28125 3.8125 46.84375 7.25 \nQ 51.421875 10.6875 51.421875 17.28125 \nQ 51.421875 22.5625 48.65625 25.390625 \nQ 45.90625 28.21875 37.015625 30.90625 \nL 27.390625 33.796875 \nQ 16.9375 36.96875 12.671875 41.703125 \nQ 8.40625 46.4375 8.40625 54.6875 \nQ 8.40625 63.96875 14.984375 69.09375 \nQ 21.578125 74.21875 33.5 74.21875 \nQ 38.578125 74.21875 44.625 73.109375 \nQ 50.6875 72.015625 57.515625 69.921875 \nL 57.515625 54.390625 \nL 52 54.390625 \nQ 51.171875 62.109375 46.84375 65.546875 \nQ 42.53125 69 33.6875 69 \nQ 25.984375 69 21.953125 65.84375 \nQ 17.921875 62.703125 17.921875 56.6875 \nQ 17.921875 51.46875 20.9375 48.484375 \nQ 23.96875 45.515625 33.796875 42.578125 \nL 42.828125 39.890625 \nQ 52.734375 36.921875 56.953125 32.296875 \nQ 61.1875 27.6875 61.1875 19.921875 \nQ 61.1875 9.328125 54.390625 3.953125 \nQ 47.609375 -1.421875 34.1875 -1.421875 \nQ 28.171875 -1.421875 21.9375 -0.1875 \nQ 15.71875 1.03125 9.28125 3.515625 \nz\n\" id=\"DejaVuSerif-83\"/>\n       </defs>\n       <use xlink:href=\"#DejaVuSerif-83\"/>\n       <use x=\"68.505859\" xlink:href=\"#DejaVuSerif-101\"/>\n       <use x=\"127.685547\" xlink:href=\"#DejaVuSerif-112\"/>\n      </g>\n     </g>\n    </g>\n   </g>\n   <g id=\"matplotlib.axis_2\">\n    <g id=\"ytick_1\">\n     <g id=\"line2d_11\">\n      <path clip-path=\"url(#p284ad0dac8)\" d=\"M 38.482813 296.550784 \nL 596.482813 296.550784 \n\" style=\"fill:none;stroke:#ffffff;stroke-linecap:round;\"/>\n     </g>\n     <g id=\"line2d_12\"/>\n     <g id=\"text_10\">\n      <!-- −1.5 -->\n      <g style=\"fill:#262626;\" transform=\"translate(7.2 300.350003)scale(0.1 -0.1)\">\n       <defs>\n        <path d=\"M 10.59375 35.296875 \nL 73.1875 35.296875 \nL 73.1875 27.390625 \nL 10.59375 27.390625 \nz\n\" id=\"DejaVuSerif-8722\"/>\n        <path d=\"M 14.203125 0 \nL 14.203125 5.171875 \nL 26.90625 5.171875 \nL 26.90625 65.828125 \nL 12.203125 56.296875 \nL 12.203125 62.703125 \nL 29.984375 74.21875 \nL 36.71875 74.21875 \nL 36.71875 5.171875 \nL 49.421875 5.171875 \nL 49.421875 0 \nz\n\" id=\"DejaVuSerif-49\"/>\n        <path d=\"M 9.421875 5.078125 \nQ 9.421875 7.8125 11.28125 9.71875 \nQ 13.140625 11.625 15.921875 11.625 \nQ 18.609375 11.625 20.5 9.71875 \nQ 22.40625 7.8125 22.40625 5.078125 \nQ 22.40625 2.390625 20.5 0.484375 \nQ 18.609375 -1.421875 15.921875 -1.421875 \nQ 13.140625 -1.421875 11.28125 0.453125 \nQ 9.421875 2.34375 9.421875 5.078125 \nz\n\" id=\"DejaVuSerif-46\"/>\n        <path d=\"M 50.296875 72.90625 \nL 50.296875 64.890625 \nL 16.890625 64.890625 \nL 16.890625 44 \nQ 19.4375 45.75 22.828125 46.625 \nQ 26.21875 47.515625 30.421875 47.515625 \nQ 42.234375 47.515625 49.0625 40.96875 \nQ 55.90625 34.421875 55.90625 23.09375 \nQ 55.90625 11.53125 49 5.046875 \nQ 42.09375 -1.421875 29.59375 -1.421875 \nQ 24.5625 -1.421875 19.28125 -0.1875 \nQ 14.015625 1.03125 8.5 3.515625 \nL 8.5 17.671875 \nL 14.015625 17.671875 \nQ 14.453125 10.75 18.421875 7.078125 \nQ 22.40625 3.421875 29.59375 3.421875 \nQ 37.3125 3.421875 41.453125 8.5 \nQ 45.609375 13.578125 45.609375 23.09375 \nQ 45.609375 32.5625 41.484375 37.609375 \nQ 37.359375 42.671875 29.59375 42.671875 \nQ 25.203125 42.671875 21.84375 41.109375 \nQ 18.5 39.546875 15.921875 36.28125 \nL 11.71875 36.28125 \nL 11.71875 72.90625 \nz\n\" id=\"DejaVuSerif-53\"/>\n       </defs>\n       <use xlink:href=\"#DejaVuSerif-8722\"/>\n       <use x=\"83.789062\" xlink:href=\"#DejaVuSerif-49\"/>\n       <use x=\"147.412109\" xlink:href=\"#DejaVuSerif-46\"/>\n       <use x=\"179.199219\" xlink:href=\"#DejaVuSerif-53\"/>\n      </g>\n     </g>\n    </g>\n    <g id=\"ytick_2\">\n     <g id=\"line2d_13\">\n      <path clip-path=\"url(#p284ad0dac8)\" d=\"M 38.482813 252.541976 \nL 596.482813 252.541976 \n\" style=\"fill:none;stroke:#ffffff;stroke-linecap:round;\"/>\n     </g>\n     <g id=\"line2d_14\"/>\n     <g id=\"text_11\">\n      <!-- −1.0 -->\n      <g style=\"fill:#262626;\" transform=\"translate(7.2 256.341195)scale(0.1 -0.1)\">\n       <use xlink:href=\"#DejaVuSerif-8722\"/>\n       <use x=\"83.789062\" xlink:href=\"#DejaVuSerif-49\"/>\n       <use x=\"147.412109\" xlink:href=\"#DejaVuSerif-46\"/>\n       <use x=\"179.199219\" xlink:href=\"#DejaVuSerif-48\"/>\n      </g>\n     </g>\n    </g>\n    <g id=\"ytick_3\">\n     <g id=\"line2d_15\">\n      <path clip-path=\"url(#p284ad0dac8)\" d=\"M 38.482813 208.533168 \nL 596.482813 208.533168 \n\" style=\"fill:none;stroke:#ffffff;stroke-linecap:round;\"/>\n     </g>\n     <g id=\"line2d_16\"/>\n     <g id=\"text_12\">\n      <!-- −0.5 -->\n      <g style=\"fill:#262626;\" transform=\"translate(7.2 212.332387)scale(0.1 -0.1)\">\n       <use xlink:href=\"#DejaVuSerif-8722\"/>\n       <use x=\"83.789062\" xlink:href=\"#DejaVuSerif-48\"/>\n       <use x=\"147.412109\" xlink:href=\"#DejaVuSerif-46\"/>\n       <use x=\"179.199219\" xlink:href=\"#DejaVuSerif-53\"/>\n      </g>\n     </g>\n    </g>\n    <g id=\"ytick_4\">\n     <g id=\"line2d_17\">\n      <path clip-path=\"url(#p284ad0dac8)\" d=\"M 38.482813 164.52436 \nL 596.482813 164.52436 \n\" style=\"fill:none;stroke:#ffffff;stroke-linecap:round;\"/>\n     </g>\n     <g id=\"line2d_18\"/>\n     <g id=\"text_13\">\n      <!-- 0.0 -->\n      <g style=\"fill:#262626;\" transform=\"translate(15.579688 168.323579)scale(0.1 -0.1)\">\n       <use xlink:href=\"#DejaVuSerif-48\"/>\n       <use x=\"63.623047\" xlink:href=\"#DejaVuSerif-46\"/>\n       <use x=\"95.410156\" xlink:href=\"#DejaVuSerif-48\"/>\n      </g>\n     </g>\n    </g>\n    <g id=\"ytick_5\">\n     <g id=\"line2d_19\">\n      <path clip-path=\"url(#p284ad0dac8)\" d=\"M 38.482813 120.515552 \nL 596.482813 120.515552 \n\" style=\"fill:none;stroke:#ffffff;stroke-linecap:round;\"/>\n     </g>\n     <g id=\"line2d_20\"/>\n     <g id=\"text_14\">\n      <!-- 0.5 -->\n      <g style=\"fill:#262626;\" transform=\"translate(15.579688 124.314771)scale(0.1 -0.1)\">\n       <use xlink:href=\"#DejaVuSerif-48\"/>\n       <use x=\"63.623047\" xlink:href=\"#DejaVuSerif-46\"/>\n       <use x=\"95.410156\" xlink:href=\"#DejaVuSerif-53\"/>\n      </g>\n     </g>\n    </g>\n    <g id=\"ytick_6\">\n     <g id=\"line2d_21\">\n      <path clip-path=\"url(#p284ad0dac8)\" d=\"M 38.482813 76.506745 \nL 596.482813 76.506745 \n\" style=\"fill:none;stroke:#ffffff;stroke-linecap:round;\"/>\n     </g>\n     <g id=\"line2d_22\"/>\n     <g id=\"text_15\">\n      <!-- 1.0 -->\n      <g style=\"fill:#262626;\" transform=\"translate(15.579688 80.305963)scale(0.1 -0.1)\">\n       <use xlink:href=\"#DejaVuSerif-49\"/>\n       <use x=\"63.623047\" xlink:href=\"#DejaVuSerif-46\"/>\n       <use x=\"95.410156\" xlink:href=\"#DejaVuSerif-48\"/>\n      </g>\n     </g>\n    </g>\n    <g id=\"ytick_7\">\n     <g id=\"line2d_23\">\n      <path clip-path=\"url(#p284ad0dac8)\" d=\"M 38.482813 32.497937 \nL 596.482813 32.497937 \n\" style=\"fill:none;stroke:#ffffff;stroke-linecap:round;\"/>\n     </g>\n     <g id=\"line2d_24\"/>\n     <g id=\"text_16\">\n      <!-- 1.5 -->\n      <g style=\"fill:#262626;\" transform=\"translate(15.579688 36.297155)scale(0.1 -0.1)\">\n       <use xlink:href=\"#DejaVuSerif-49\"/>\n       <use x=\"63.623047\" xlink:href=\"#DejaVuSerif-46\"/>\n       <use x=\"95.410156\" xlink:href=\"#DejaVuSerif-53\"/>\n      </g>\n     </g>\n    </g>\n   </g>\n   <g id=\"line2d_25\">\n    <path clip-path=\"url(#p284ad0dac8)\" d=\"M 38.482812 318.534545 \nL 108.232812 78.150844 \nL 177.982812 181.203332 \nL 247.732812 215.891005 \nL 317.482812 211.286392 \nL 387.232812 22.025455 \nL 456.982812 148.283465 \nL 526.732812 193.239056 \nL 596.482812 231.096687 \n\" style=\"fill:none;stroke:#4c72b0;stroke-linecap:round;stroke-width:2;\"/>\n   </g>\n   <g id=\"patch_3\">\n    <path d=\"M 38.482813 333.36 \nL 38.482813 7.2 \n\" style=\"fill:none;\"/>\n   </g>\n   <g id=\"patch_4\">\n    <path d=\"M 596.482813 333.36 \nL 596.482813 7.2 \n\" style=\"fill:none;\"/>\n   </g>\n   <g id=\"patch_5\">\n    <path d=\"M 38.482812 333.36 \nL 596.482812 333.36 \n\" style=\"fill:none;\"/>\n   </g>\n   <g id=\"patch_6\">\n    <path d=\"M 38.482812 7.2 \nL 596.482812 7.2 \n\" style=\"fill:none;\"/>\n   </g>\n  </g>\n </g>\n <defs>\n  <clipPath id=\"p284ad0dac8\">\n   <rect height=\"326.16\" width=\"558\" x=\"38.482813\" y=\"7.2\"/>\n  </clipPath>\n </defs>\n</svg>\n",
      "image/png": "[encoded data removed]"
     },
     "metadata": {}
    }
   ],
   "source": [
    "s.plot(lw=2.0, figsize=(10, 6))"
   ]
  },
  {
   "source": [
    "## GoupBy Operations"
   ],
   "cell_type": "markdown",
   "metadata": {}
  },
  {
   "cell_type": "code",
   "execution_count": 41,
   "metadata": {},
   "outputs": [
    {
     "output_type": "execute_result",
     "data": {
      "text/plain": [
       "                 No1       No2       No3       No4 Quarter\n",
       "2020-01-31 -1.749765  0.342680  1.153036 -0.252436      Q1\n",
       "2020-02-29  0.981321  0.514219  0.221180 -1.070043      Q1\n",
       "2020-03-31 -0.189496  0.255001 -0.458027  0.435163      Q1\n",
       "2020-04-30 -0.583595  0.816847  0.672721 -0.104411      Q2\n",
       "2020-05-31 -0.531280  1.029733 -0.438136 -1.118318      Q2\n",
       "2020-06-30  1.618982  1.541605 -0.251879 -0.842436      Q2\n",
       "2020-07-31  0.184519  0.937082  0.731000  1.361556      Q3\n",
       "2020-08-31 -0.326238  0.055676  0.222400 -1.443217      Q3\n",
       "2020-09-30 -0.756352  0.816454  0.750445 -0.455947      Q3"
      ],
      "text/html": "<div>\n<style scoped>\n    .dataframe tbody tr th:only-of-type {\n        vertical-align: middle;\n    }\n\n    .dataframe tbody tr th {\n        vertical-align: top;\n    }\n\n    .dataframe thead th {\n        text-align: right;\n    }\n</style>\n<table border=\"1\" class=\"dataframe\">\n  <thead>\n    <tr style=\"text-align: right;\">\n      <th></th>\n      <th>No1</th>\n      <th>No2</th>\n      <th>No3</th>\n      <th>No4</th>\n      <th>Quarter</th>\n    </tr>\n  </thead>\n  <tbody>\n    <tr>\n      <th>2020-01-31</th>\n      <td>-1.749765</td>\n      <td>0.342680</td>\n      <td>1.153036</td>\n      <td>-0.252436</td>\n      <td>Q1</td>\n    </tr>\n    <tr>\n      <th>2020-02-29</th>\n      <td>0.981321</td>\n      <td>0.514219</td>\n      <td>0.221180</td>\n      <td>-1.070043</td>\n      <td>Q1</td>\n    </tr>\n    <tr>\n      <th>2020-03-31</th>\n      <td>-0.189496</td>\n      <td>0.255001</td>\n      <td>-0.458027</td>\n      <td>0.435163</td>\n      <td>Q1</td>\n    </tr>\n    <tr>\n      <th>2020-04-30</th>\n      <td>-0.583595</td>\n      <td>0.816847</td>\n      <td>0.672721</td>\n      <td>-0.104411</td>\n      <td>Q2</td>\n    </tr>\n    <tr>\n      <th>2020-05-31</th>\n      <td>-0.531280</td>\n      <td>1.029733</td>\n      <td>-0.438136</td>\n      <td>-1.118318</td>\n      <td>Q2</td>\n    </tr>\n    <tr>\n      <th>2020-06-30</th>\n      <td>1.618982</td>\n      <td>1.541605</td>\n      <td>-0.251879</td>\n      <td>-0.842436</td>\n      <td>Q2</td>\n    </tr>\n    <tr>\n      <th>2020-07-31</th>\n      <td>0.184519</td>\n      <td>0.937082</td>\n      <td>0.731000</td>\n      <td>1.361556</td>\n      <td>Q3</td>\n    </tr>\n    <tr>\n      <th>2020-08-31</th>\n      <td>-0.326238</td>\n      <td>0.055676</td>\n      <td>0.222400</td>\n      <td>-1.443217</td>\n      <td>Q3</td>\n    </tr>\n    <tr>\n      <th>2020-09-30</th>\n      <td>-0.756352</td>\n      <td>0.816454</td>\n      <td>0.750445</td>\n      <td>-0.455947</td>\n      <td>Q3</td>\n    </tr>\n  </tbody>\n</table>\n</div>"
     },
     "metadata": {},
     "execution_count": 41
    }
   ],
   "source": [
    "df['Quarter'] = ['Q1', 'Q1', 'Q1', 'Q2', 'Q2', 'Q2', 'Q3', 'Q3', 'Q3']\n",
    "df"
   ]
  },
  {
   "cell_type": "code",
   "execution_count": 42,
   "metadata": {},
   "outputs": [
    {
     "output_type": "execute_result",
     "data": {
      "text/plain": [
       "Quarter\n",
       "Q1    3\n",
       "Q2    3\n",
       "Q3    3\n",
       "dtype: int64"
      ]
     },
     "metadata": {},
     "execution_count": 42
    }
   ],
   "source": [
    "groups = df.groupby('Quarter')\n",
    "groups.size()"
   ]
  },
  {
   "cell_type": "code",
   "execution_count": 43,
   "metadata": {},
   "outputs": [
    {
     "output_type": "execute_result",
     "data": {
      "text/plain": [
       "              No1       No2       No3       No4\n",
       "Quarter                                        \n",
       "Q1      -0.319314  0.370634  0.305396 -0.295772\n",
       "Q2       0.168035  1.129395 -0.005765 -0.688388\n",
       "Q3      -0.299357  0.603071  0.567948 -0.179203"
      ],
      "text/html": "<div>\n<style scoped>\n    .dataframe tbody tr th:only-of-type {\n        vertical-align: middle;\n    }\n\n    .dataframe tbody tr th {\n        vertical-align: top;\n    }\n\n    .dataframe thead th {\n        text-align: right;\n    }\n</style>\n<table border=\"1\" class=\"dataframe\">\n  <thead>\n    <tr style=\"text-align: right;\">\n      <th></th>\n      <th>No1</th>\n      <th>No2</th>\n      <th>No3</th>\n      <th>No4</th>\n    </tr>\n    <tr>\n      <th>Quarter</th>\n      <th></th>\n      <th></th>\n      <th></th>\n      <th></th>\n    </tr>\n  </thead>\n  <tbody>\n    <tr>\n      <th>Q1</th>\n      <td>-0.319314</td>\n      <td>0.370634</td>\n      <td>0.305396</td>\n      <td>-0.295772</td>\n    </tr>\n    <tr>\n      <th>Q2</th>\n      <td>0.168035</td>\n      <td>1.129395</td>\n      <td>-0.005765</td>\n      <td>-0.688388</td>\n    </tr>\n    <tr>\n      <th>Q3</th>\n      <td>-0.299357</td>\n      <td>0.603071</td>\n      <td>0.567948</td>\n      <td>-0.179203</td>\n    </tr>\n  </tbody>\n</table>\n</div>"
     },
     "metadata": {},
     "execution_count": 43
    }
   ],
   "source": [
    "groups.mean()"
   ]
  },
  {
   "cell_type": "code",
   "execution_count": 44,
   "metadata": {},
   "outputs": [
    {
     "output_type": "execute_result",
     "data": {
      "text/plain": [
       "              No1       No2       No3       No4\n",
       "Quarter                                        \n",
       "Q1       0.981321  0.514219  1.153036  0.435163\n",
       "Q2       1.618982  1.541605  0.672721 -0.104411\n",
       "Q3       0.184519  0.937082  0.750445  1.361556"
      ],
      "text/html": "<div>\n<style scoped>\n    .dataframe tbody tr th:only-of-type {\n        vertical-align: middle;\n    }\n\n    .dataframe tbody tr th {\n        vertical-align: top;\n    }\n\n    .dataframe thead th {\n        text-align: right;\n    }\n</style>\n<table border=\"1\" class=\"dataframe\">\n  <thead>\n    <tr style=\"text-align: right;\">\n      <th></th>\n      <th>No1</th>\n      <th>No2</th>\n      <th>No3</th>\n      <th>No4</th>\n    </tr>\n    <tr>\n      <th>Quarter</th>\n      <th></th>\n      <th></th>\n      <th></th>\n      <th></th>\n    </tr>\n  </thead>\n  <tbody>\n    <tr>\n      <th>Q1</th>\n      <td>0.981321</td>\n      <td>0.514219</td>\n      <td>1.153036</td>\n      <td>0.435163</td>\n    </tr>\n    <tr>\n      <th>Q2</th>\n      <td>1.618982</td>\n      <td>1.541605</td>\n      <td>0.672721</td>\n      <td>-0.104411</td>\n    </tr>\n    <tr>\n      <th>Q3</th>\n      <td>0.184519</td>\n      <td>0.937082</td>\n      <td>0.750445</td>\n      <td>1.361556</td>\n    </tr>\n  </tbody>\n</table>\n</div>"
     },
     "metadata": {},
     "execution_count": 44
    }
   ],
   "source": [
    "groups.max()"
   ]
  },
  {
   "cell_type": "code",
   "execution_count": 45,
   "metadata": {},
   "outputs": [
    {
     "output_type": "execute_result",
     "data": {
      "text/plain": [
       "          No1         No2         No3         No4      \n",
       "          min   max   min   max   min   max   min   max\n",
       "Quarter                                                \n",
       "Q1      -1.75  0.98  0.26  0.51 -0.46  1.15 -1.07  0.44\n",
       "Q2      -0.58  1.62  0.82  1.54 -0.44  0.67 -1.12 -0.10\n",
       "Q3      -0.76  0.18  0.06  0.94  0.22  0.75 -1.44  1.36"
      ],
      "text/html": "<div>\n<style scoped>\n    .dataframe tbody tr th:only-of-type {\n        vertical-align: middle;\n    }\n\n    .dataframe tbody tr th {\n        vertical-align: top;\n    }\n\n    .dataframe thead tr th {\n        text-align: left;\n    }\n\n    .dataframe thead tr:last-of-type th {\n        text-align: right;\n    }\n</style>\n<table border=\"1\" class=\"dataframe\">\n  <thead>\n    <tr>\n      <th></th>\n      <th colspan=\"2\" halign=\"left\">No1</th>\n      <th colspan=\"2\" halign=\"left\">No2</th>\n      <th colspan=\"2\" halign=\"left\">No3</th>\n      <th colspan=\"2\" halign=\"left\">No4</th>\n    </tr>\n    <tr>\n      <th></th>\n      <th>min</th>\n      <th>max</th>\n      <th>min</th>\n      <th>max</th>\n      <th>min</th>\n      <th>max</th>\n      <th>min</th>\n      <th>max</th>\n    </tr>\n    <tr>\n      <th>Quarter</th>\n      <th></th>\n      <th></th>\n      <th></th>\n      <th></th>\n      <th></th>\n      <th></th>\n      <th></th>\n      <th></th>\n    </tr>\n  </thead>\n  <tbody>\n    <tr>\n      <th>Q1</th>\n      <td>-1.75</td>\n      <td>0.98</td>\n      <td>0.26</td>\n      <td>0.51</td>\n      <td>-0.46</td>\n      <td>1.15</td>\n      <td>-1.07</td>\n      <td>0.44</td>\n    </tr>\n    <tr>\n      <th>Q2</th>\n      <td>-0.58</td>\n      <td>1.62</td>\n      <td>0.82</td>\n      <td>1.54</td>\n      <td>-0.44</td>\n      <td>0.67</td>\n      <td>-1.12</td>\n      <td>-0.10</td>\n    </tr>\n    <tr>\n      <th>Q3</th>\n      <td>-0.76</td>\n      <td>0.18</td>\n      <td>0.06</td>\n      <td>0.94</td>\n      <td>0.22</td>\n      <td>0.75</td>\n      <td>-1.44</td>\n      <td>1.36</td>\n    </tr>\n  </tbody>\n</table>\n</div>"
     },
     "metadata": {},
     "execution_count": 45
    }
   ],
   "source": [
    "groups.aggregate([min, max]).round(2)"
   ]
  },
  {
   "cell_type": "code",
   "execution_count": 46,
   "metadata": {},
   "outputs": [],
   "source": [
    "df['Odd_Even'] = ['Odd', 'Even', 'Odd', 'Even', 'Odd', 'Even', 'Odd', 'Even', 'Odd']"
   ]
  },
  {
   "cell_type": "code",
   "execution_count": 47,
   "metadata": {},
   "outputs": [
    {
     "output_type": "execute_result",
     "data": {
      "text/plain": [
       "Quarter  Odd_Even\n",
       "Q1       Even        1\n",
       "         Odd         2\n",
       "Q2       Even        2\n",
       "         Odd         1\n",
       "Q3       Even        1\n",
       "         Odd         2\n",
       "dtype: int64"
      ]
     },
     "metadata": {},
     "execution_count": 47
    }
   ],
   "source": [
    "groups = df.groupby(['Quarter', 'Odd_Even'])\n",
    "groups.size()"
   ]
  },
  {
   "cell_type": "code",
   "execution_count": 48,
   "metadata": {},
   "outputs": [
    {
     "output_type": "execute_result",
     "data": {
      "text/plain": [
       "                       No1                 No4          \n",
       "                       sum      mean       sum      mean\n",
       "Quarter Odd_Even                                        \n",
       "Q1      Even      0.981321  0.981321 -1.070043 -1.070043\n",
       "        Odd      -1.939261 -0.969631  0.182727  0.091364\n",
       "Q2      Even      1.035387  0.517693 -0.946847 -0.473423\n",
       "        Odd      -0.531280 -0.531280 -1.118318 -1.118318\n",
       "Q3      Even     -0.326238 -0.326238 -1.443217 -1.443217\n",
       "        Odd      -0.571834 -0.285917  0.905609  0.452805"
      ],
      "text/html": "<div>\n<style scoped>\n    .dataframe tbody tr th:only-of-type {\n        vertical-align: middle;\n    }\n\n    .dataframe tbody tr th {\n        vertical-align: top;\n    }\n\n    .dataframe thead tr th {\n        text-align: left;\n    }\n\n    .dataframe thead tr:last-of-type th {\n        text-align: right;\n    }\n</style>\n<table border=\"1\" class=\"dataframe\">\n  <thead>\n    <tr>\n      <th></th>\n      <th></th>\n      <th colspan=\"2\" halign=\"left\">No1</th>\n      <th colspan=\"2\" halign=\"left\">No4</th>\n    </tr>\n    <tr>\n      <th></th>\n      <th></th>\n      <th>sum</th>\n      <th>mean</th>\n      <th>sum</th>\n      <th>mean</th>\n    </tr>\n    <tr>\n      <th>Quarter</th>\n      <th>Odd_Even</th>\n      <th></th>\n      <th></th>\n      <th></th>\n      <th></th>\n    </tr>\n  </thead>\n  <tbody>\n    <tr>\n      <th rowspan=\"2\" valign=\"top\">Q1</th>\n      <th>Even</th>\n      <td>0.981321</td>\n      <td>0.981321</td>\n      <td>-1.070043</td>\n      <td>-1.070043</td>\n    </tr>\n    <tr>\n      <th>Odd</th>\n      <td>-1.939261</td>\n      <td>-0.969631</td>\n      <td>0.182727</td>\n      <td>0.091364</td>\n    </tr>\n    <tr>\n      <th rowspan=\"2\" valign=\"top\">Q2</th>\n      <th>Even</th>\n      <td>1.035387</td>\n      <td>0.517693</td>\n      <td>-0.946847</td>\n      <td>-0.473423</td>\n    </tr>\n    <tr>\n      <th>Odd</th>\n      <td>-0.531280</td>\n      <td>-0.531280</td>\n      <td>-1.118318</td>\n      <td>-1.118318</td>\n    </tr>\n    <tr>\n      <th rowspan=\"2\" valign=\"top\">Q3</th>\n      <th>Even</th>\n      <td>-0.326238</td>\n      <td>-0.326238</td>\n      <td>-1.443217</td>\n      <td>-1.443217</td>\n    </tr>\n    <tr>\n      <th>Odd</th>\n      <td>-0.571834</td>\n      <td>-0.285917</td>\n      <td>0.905609</td>\n      <td>0.452805</td>\n    </tr>\n  </tbody>\n</table>\n</div>"
     },
     "metadata": {},
     "execution_count": 48
    }
   ],
   "source": [
    "groups[['No1', 'No4']].aggregate([sum, np.mean])"
   ]
  },
  {
   "source": [
    "## Selection"
   ],
   "cell_type": "markdown",
   "metadata": {}
  },
  {
   "cell_type": "code",
   "execution_count": 49,
   "metadata": {},
   "outputs": [
    {
     "output_type": "stream",
     "name": "stdout",
     "text": [
      "<class 'pandas.core.frame.DataFrame'>\nRangeIndex: 10 entries, 0 to 9\nData columns (total 2 columns):\n #   Column  Non-Null Count  Dtype  \n---  ------  --------------  -----  \n 0   x       10 non-null     float64\n 1   y       10 non-null     float64\ndtypes: float64(2)\nmemory usage: 288.0 bytes\n"
     ]
    }
   ],
   "source": [
    "data = np.random.standard_normal((10, 2))\n",
    "df = pd.DataFrame(data, columns=['x', 'y'])\n",
    "df.info()"
   ]
  },
  {
   "cell_type": "code",
   "execution_count": 50,
   "metadata": {},
   "outputs": [
    {
     "output_type": "execute_result",
     "data": {
      "text/plain": [
       "          x         y\n",
       "0  1.189622 -1.690617\n",
       "1 -1.356399 -1.232435\n",
       "2 -0.544439 -0.668172\n",
       "3  0.007315 -0.612939\n",
       "4  1.299748 -1.733096"
      ],
      "text/html": "<div>\n<style scoped>\n    .dataframe tbody tr th:only-of-type {\n        vertical-align: middle;\n    }\n\n    .dataframe tbody tr th {\n        vertical-align: top;\n    }\n\n    .dataframe thead th {\n        text-align: right;\n    }\n</style>\n<table border=\"1\" class=\"dataframe\">\n  <thead>\n    <tr style=\"text-align: right;\">\n      <th></th>\n      <th>x</th>\n      <th>y</th>\n    </tr>\n  </thead>\n  <tbody>\n    <tr>\n      <th>0</th>\n      <td>1.189622</td>\n      <td>-1.690617</td>\n    </tr>\n    <tr>\n      <th>1</th>\n      <td>-1.356399</td>\n      <td>-1.232435</td>\n    </tr>\n    <tr>\n      <th>2</th>\n      <td>-0.544439</td>\n      <td>-0.668172</td>\n    </tr>\n    <tr>\n      <th>3</th>\n      <td>0.007315</td>\n      <td>-0.612939</td>\n    </tr>\n    <tr>\n      <th>4</th>\n      <td>1.299748</td>\n      <td>-1.733096</td>\n    </tr>\n  </tbody>\n</table>\n</div>"
     },
     "metadata": {},
     "execution_count": 50
    }
   ],
   "source": [
    "df.head()"
   ]
  },
  {
   "cell_type": "code",
   "execution_count": 51,
   "metadata": {},
   "outputs": [
    {
     "output_type": "execute_result",
     "data": {
      "text/plain": [
       "          x         y\n",
       "5 -0.983310  0.357508\n",
       "6 -1.613579  1.470714\n",
       "7 -1.188018 -0.549746\n",
       "8 -0.940046 -0.827932\n",
       "9  0.108863  0.507810"
      ],
      "text/html": "<div>\n<style scoped>\n    .dataframe tbody tr th:only-of-type {\n        vertical-align: middle;\n    }\n\n    .dataframe tbody tr th {\n        vertical-align: top;\n    }\n\n    .dataframe thead th {\n        text-align: right;\n    }\n</style>\n<table border=\"1\" class=\"dataframe\">\n  <thead>\n    <tr style=\"text-align: right;\">\n      <th></th>\n      <th>x</th>\n      <th>y</th>\n    </tr>\n  </thead>\n  <tbody>\n    <tr>\n      <th>5</th>\n      <td>-0.983310</td>\n      <td>0.357508</td>\n    </tr>\n    <tr>\n      <th>6</th>\n      <td>-1.613579</td>\n      <td>1.470714</td>\n    </tr>\n    <tr>\n      <th>7</th>\n      <td>-1.188018</td>\n      <td>-0.549746</td>\n    </tr>\n    <tr>\n      <th>8</th>\n      <td>-0.940046</td>\n      <td>-0.827932</td>\n    </tr>\n    <tr>\n      <th>9</th>\n      <td>0.108863</td>\n      <td>0.507810</td>\n    </tr>\n  </tbody>\n</table>\n</div>"
     },
     "metadata": {},
     "execution_count": 51
    }
   ],
   "source": [
    "df.tail()"
   ]
  },
  {
   "cell_type": "code",
   "execution_count": 52,
   "metadata": {},
   "outputs": [
    {
     "output_type": "execute_result",
     "data": {
      "text/plain": [
       "0     True\n",
       "1    False\n",
       "2    False\n",
       "3    False\n",
       "4     True\n",
       "5    False\n",
       "6    False\n",
       "7    False\n",
       "8    False\n",
       "9    False\n",
       "Name: x, dtype: bool"
      ]
     },
     "metadata": {},
     "execution_count": 52
    }
   ],
   "source": [
    "df['x'] > 0.5"
   ]
  },
  {
   "cell_type": "code",
   "execution_count": 53,
   "metadata": {},
   "outputs": [
    {
     "output_type": "execute_result",
     "data": {
      "text/plain": [
       "0     True\n",
       "1    False\n",
       "2    False\n",
       "3     True\n",
       "4     True\n",
       "5    False\n",
       "6    False\n",
       "7    False\n",
       "8    False\n",
       "9    False\n",
       "dtype: bool"
      ]
     },
     "metadata": {},
     "execution_count": 53
    }
   ],
   "source": [
    "(df['x'] > 0) & (df['y'] < 0)"
   ]
  },
  {
   "cell_type": "code",
   "execution_count": 54,
   "metadata": {},
   "outputs": [
    {
     "output_type": "execute_result",
     "data": {
      "text/plain": [
       "0     True\n",
       "1     True\n",
       "2     True\n",
       "3     True\n",
       "4     True\n",
       "5    False\n",
       "6    False\n",
       "7     True\n",
       "8     True\n",
       "9     True\n",
       "dtype: bool"
      ]
     },
     "metadata": {},
     "execution_count": 54
    }
   ],
   "source": [
    "(df['x'] > 0) | (df['y'] < 0)"
   ]
  },
  {
   "cell_type": "code",
   "execution_count": 55,
   "metadata": {},
   "outputs": [
    {
     "output_type": "execute_result",
     "data": {
      "text/plain": [
       "          x         y\n",
       "0  1.189622 -1.690617\n",
       "3  0.007315 -0.612939\n",
       "4  1.299748 -1.733096\n",
       "9  0.108863  0.507810"
      ],
      "text/html": "<div>\n<style scoped>\n    .dataframe tbody tr th:only-of-type {\n        vertical-align: middle;\n    }\n\n    .dataframe tbody tr th {\n        vertical-align: top;\n    }\n\n    .dataframe thead th {\n        text-align: right;\n    }\n</style>\n<table border=\"1\" class=\"dataframe\">\n  <thead>\n    <tr style=\"text-align: right;\">\n      <th></th>\n      <th>x</th>\n      <th>y</th>\n    </tr>\n  </thead>\n  <tbody>\n    <tr>\n      <th>0</th>\n      <td>1.189622</td>\n      <td>-1.690617</td>\n    </tr>\n    <tr>\n      <th>3</th>\n      <td>0.007315</td>\n      <td>-0.612939</td>\n    </tr>\n    <tr>\n      <th>4</th>\n      <td>1.299748</td>\n      <td>-1.733096</td>\n    </tr>\n    <tr>\n      <th>9</th>\n      <td>0.108863</td>\n      <td>0.507810</td>\n    </tr>\n  </tbody>\n</table>\n</div>"
     },
     "metadata": {},
     "execution_count": 55
    }
   ],
   "source": [
    "df[df['x'] > 0]"
   ]
  },
  {
   "cell_type": "code",
   "execution_count": 56,
   "metadata": {},
   "outputs": [
    {
     "output_type": "execute_result",
     "data": {
      "text/plain": [
       "          x         y\n",
       "0  1.189622 -1.690617\n",
       "3  0.007315 -0.612939\n",
       "4  1.299748 -1.733096\n",
       "9  0.108863  0.507810"
      ],
      "text/html": "<div>\n<style scoped>\n    .dataframe tbody tr th:only-of-type {\n        vertical-align: middle;\n    }\n\n    .dataframe tbody tr th {\n        vertical-align: top;\n    }\n\n    .dataframe thead th {\n        text-align: right;\n    }\n</style>\n<table border=\"1\" class=\"dataframe\">\n  <thead>\n    <tr style=\"text-align: right;\">\n      <th></th>\n      <th>x</th>\n      <th>y</th>\n    </tr>\n  </thead>\n  <tbody>\n    <tr>\n      <th>0</th>\n      <td>1.189622</td>\n      <td>-1.690617</td>\n    </tr>\n    <tr>\n      <th>3</th>\n      <td>0.007315</td>\n      <td>-0.612939</td>\n    </tr>\n    <tr>\n      <th>4</th>\n      <td>1.299748</td>\n      <td>-1.733096</td>\n    </tr>\n    <tr>\n      <th>9</th>\n      <td>0.108863</td>\n      <td>0.507810</td>\n    </tr>\n  </tbody>\n</table>\n</div>"
     },
     "metadata": {},
     "execution_count": 56
    }
   ],
   "source": [
    "df.query('x > 0')"
   ]
  },
  {
   "cell_type": "code",
   "execution_count": 58,
   "metadata": {},
   "outputs": [
    {
     "output_type": "execute_result",
     "data": {
      "text/plain": [
       "          x         y\n",
       "0  1.189622 -1.690617\n",
       "3  0.007315 -0.612939\n",
       "4  1.299748 -1.733096"
      ],
      "text/html": "<div>\n<style scoped>\n    .dataframe tbody tr th:only-of-type {\n        vertical-align: middle;\n    }\n\n    .dataframe tbody tr th {\n        vertical-align: top;\n    }\n\n    .dataframe thead th {\n        text-align: right;\n    }\n</style>\n<table border=\"1\" class=\"dataframe\">\n  <thead>\n    <tr style=\"text-align: right;\">\n      <th></th>\n      <th>x</th>\n      <th>y</th>\n    </tr>\n  </thead>\n  <tbody>\n    <tr>\n      <th>0</th>\n      <td>1.189622</td>\n      <td>-1.690617</td>\n    </tr>\n    <tr>\n      <th>3</th>\n      <td>0.007315</td>\n      <td>-0.612939</td>\n    </tr>\n    <tr>\n      <th>4</th>\n      <td>1.299748</td>\n      <td>-1.733096</td>\n    </tr>\n  </tbody>\n</table>\n</div>"
     },
     "metadata": {},
     "execution_count": 58
    }
   ],
   "source": [
    "df[(df['x'] > 0) & (df['y'] < 0)]"
   ]
  },
  {
   "cell_type": "code",
   "execution_count": 59,
   "metadata": {},
   "outputs": [
    {
     "output_type": "execute_result",
     "data": {
      "text/plain": [
       "          x         y\n",
       "0  1.189622 -1.690617\n",
       "3  0.007315 -0.612939\n",
       "4  1.299748 -1.733096"
      ],
      "text/html": "<div>\n<style scoped>\n    .dataframe tbody tr th:only-of-type {\n        vertical-align: middle;\n    }\n\n    .dataframe tbody tr th {\n        vertical-align: top;\n    }\n\n    .dataframe thead th {\n        text-align: right;\n    }\n</style>\n<table border=\"1\" class=\"dataframe\">\n  <thead>\n    <tr style=\"text-align: right;\">\n      <th></th>\n      <th>x</th>\n      <th>y</th>\n    </tr>\n  </thead>\n  <tbody>\n    <tr>\n      <th>0</th>\n      <td>1.189622</td>\n      <td>-1.690617</td>\n    </tr>\n    <tr>\n      <th>3</th>\n      <td>0.007315</td>\n      <td>-0.612939</td>\n    </tr>\n    <tr>\n      <th>4</th>\n      <td>1.299748</td>\n      <td>-1.733096</td>\n    </tr>\n  </tbody>\n</table>\n</div>"
     },
     "metadata": {},
     "execution_count": 59
    }
   ],
   "source": [
    "df.query('x > 0 & y < 0')"
   ]
  },
  {
   "cell_type": "code",
   "execution_count": 60,
   "metadata": {},
   "outputs": [
    {
     "output_type": "execute_result",
     "data": {
      "text/plain": [
       "          x         y\n",
       "0  1.189622 -1.690617\n",
       "1 -1.356399 -1.232435\n",
       "2 -0.544439 -0.668172\n",
       "3  0.007315 -0.612939\n",
       "4  1.299748 -1.733096\n",
       "7 -1.188018 -0.549746\n",
       "8 -0.940046 -0.827932\n",
       "9  0.108863  0.507810"
      ],
      "text/html": "<div>\n<style scoped>\n    .dataframe tbody tr th:only-of-type {\n        vertical-align: middle;\n    }\n\n    .dataframe tbody tr th {\n        vertical-align: top;\n    }\n\n    .dataframe thead th {\n        text-align: right;\n    }\n</style>\n<table border=\"1\" class=\"dataframe\">\n  <thead>\n    <tr style=\"text-align: right;\">\n      <th></th>\n      <th>x</th>\n      <th>y</th>\n    </tr>\n  </thead>\n  <tbody>\n    <tr>\n      <th>0</th>\n      <td>1.189622</td>\n      <td>-1.690617</td>\n    </tr>\n    <tr>\n      <th>1</th>\n      <td>-1.356399</td>\n      <td>-1.232435</td>\n    </tr>\n    <tr>\n      <th>2</th>\n      <td>-0.544439</td>\n      <td>-0.668172</td>\n    </tr>\n    <tr>\n      <th>3</th>\n      <td>0.007315</td>\n      <td>-0.612939</td>\n    </tr>\n    <tr>\n      <th>4</th>\n      <td>1.299748</td>\n      <td>-1.733096</td>\n    </tr>\n    <tr>\n      <th>7</th>\n      <td>-1.188018</td>\n      <td>-0.549746</td>\n    </tr>\n    <tr>\n      <th>8</th>\n      <td>-0.940046</td>\n      <td>-0.827932</td>\n    </tr>\n    <tr>\n      <th>9</th>\n      <td>0.108863</td>\n      <td>0.507810</td>\n    </tr>\n  </tbody>\n</table>\n</div>"
     },
     "metadata": {},
     "execution_count": 60
    }
   ],
   "source": [
    "df[(df['x'] > 0) | (df['y'] < 0)]"
   ]
  },
  {
   "cell_type": "code",
   "execution_count": 61,
   "metadata": {},
   "outputs": [
    {
     "output_type": "execute_result",
     "data": {
      "text/plain": [
       "       x      y\n",
       "0   True  False\n",
       "1  False  False\n",
       "2  False  False\n",
       "3   True  False\n",
       "4   True  False\n",
       "5  False   True\n",
       "6  False   True\n",
       "7  False  False\n",
       "8  False  False\n",
       "9   True   True"
      ],
      "text/html": "<div>\n<style scoped>\n    .dataframe tbody tr th:only-of-type {\n        vertical-align: middle;\n    }\n\n    .dataframe tbody tr th {\n        vertical-align: top;\n    }\n\n    .dataframe thead th {\n        text-align: right;\n    }\n</style>\n<table border=\"1\" class=\"dataframe\">\n  <thead>\n    <tr style=\"text-align: right;\">\n      <th></th>\n      <th>x</th>\n      <th>y</th>\n    </tr>\n  </thead>\n  <tbody>\n    <tr>\n      <th>0</th>\n      <td>True</td>\n      <td>False</td>\n    </tr>\n    <tr>\n      <th>1</th>\n      <td>False</td>\n      <td>False</td>\n    </tr>\n    <tr>\n      <th>2</th>\n      <td>False</td>\n      <td>False</td>\n    </tr>\n    <tr>\n      <th>3</th>\n      <td>True</td>\n      <td>False</td>\n    </tr>\n    <tr>\n      <th>4</th>\n      <td>True</td>\n      <td>False</td>\n    </tr>\n    <tr>\n      <th>5</th>\n      <td>False</td>\n      <td>True</td>\n    </tr>\n    <tr>\n      <th>6</th>\n      <td>False</td>\n      <td>True</td>\n    </tr>\n    <tr>\n      <th>7</th>\n      <td>False</td>\n      <td>False</td>\n    </tr>\n    <tr>\n      <th>8</th>\n      <td>False</td>\n      <td>False</td>\n    </tr>\n    <tr>\n      <th>9</th>\n      <td>True</td>\n      <td>True</td>\n    </tr>\n  </tbody>\n</table>\n</div>"
     },
     "metadata": {},
     "execution_count": 61
    }
   ],
   "source": [
    "# Comparison\n",
    "df > 0"
   ]
  },
  {
   "cell_type": "code",
   "execution_count": 62,
   "metadata": {},
   "outputs": [
    {
     "output_type": "execute_result",
     "data": {
      "text/plain": [
       "          x         y\n",
       "0  1.189622       NaN\n",
       "1       NaN       NaN\n",
       "2       NaN       NaN\n",
       "3  0.007315       NaN\n",
       "4  1.299748       NaN\n",
       "5       NaN  0.357508\n",
       "6       NaN  1.470714\n",
       "7       NaN       NaN\n",
       "8       NaN       NaN\n",
       "9  0.108863  0.507810"
      ],
      "text/html": "<div>\n<style scoped>\n    .dataframe tbody tr th:only-of-type {\n        vertical-align: middle;\n    }\n\n    .dataframe tbody tr th {\n        vertical-align: top;\n    }\n\n    .dataframe thead th {\n        text-align: right;\n    }\n</style>\n<table border=\"1\" class=\"dataframe\">\n  <thead>\n    <tr style=\"text-align: right;\">\n      <th></th>\n      <th>x</th>\n      <th>y</th>\n    </tr>\n  </thead>\n  <tbody>\n    <tr>\n      <th>0</th>\n      <td>1.189622</td>\n      <td>NaN</td>\n    </tr>\n    <tr>\n      <th>1</th>\n      <td>NaN</td>\n      <td>NaN</td>\n    </tr>\n    <tr>\n      <th>2</th>\n      <td>NaN</td>\n      <td>NaN</td>\n    </tr>\n    <tr>\n      <th>3</th>\n      <td>0.007315</td>\n      <td>NaN</td>\n    </tr>\n    <tr>\n      <th>4</th>\n      <td>1.299748</td>\n      <td>NaN</td>\n    </tr>\n    <tr>\n      <th>5</th>\n      <td>NaN</td>\n      <td>0.357508</td>\n    </tr>\n    <tr>\n      <th>6</th>\n      <td>NaN</td>\n      <td>1.470714</td>\n    </tr>\n    <tr>\n      <th>7</th>\n      <td>NaN</td>\n      <td>NaN</td>\n    </tr>\n    <tr>\n      <th>8</th>\n      <td>NaN</td>\n      <td>NaN</td>\n    </tr>\n    <tr>\n      <th>9</th>\n      <td>0.108863</td>\n      <td>0.507810</td>\n    </tr>\n  </tbody>\n</table>\n</div>"
     },
     "metadata": {},
     "execution_count": 62
    }
   ],
   "source": [
    "df[df > 0]"
   ]
  },
  {
   "source": [
    "## Concatination, Joining and Merging"
   ],
   "cell_type": "markdown",
   "metadata": {}
  },
  {
   "cell_type": "code",
   "execution_count": 63,
   "metadata": {},
   "outputs": [
    {
     "output_type": "execute_result",
     "data": {
      "text/plain": [
       "     A\n",
       "a  100\n",
       "b  200\n",
       "c  300\n",
       "d  400"
      ],
      "text/html": "<div>\n<style scoped>\n    .dataframe tbody tr th:only-of-type {\n        vertical-align: middle;\n    }\n\n    .dataframe tbody tr th {\n        vertical-align: top;\n    }\n\n    .dataframe thead th {\n        text-align: right;\n    }\n</style>\n<table border=\"1\" class=\"dataframe\">\n  <thead>\n    <tr style=\"text-align: right;\">\n      <th></th>\n      <th>A</th>\n    </tr>\n  </thead>\n  <tbody>\n    <tr>\n      <th>a</th>\n      <td>100</td>\n    </tr>\n    <tr>\n      <th>b</th>\n      <td>200</td>\n    </tr>\n    <tr>\n      <th>c</th>\n      <td>300</td>\n    </tr>\n    <tr>\n      <th>d</th>\n      <td>400</td>\n    </tr>\n  </tbody>\n</table>\n</div>"
     },
     "metadata": {},
     "execution_count": 63
    }
   ],
   "source": [
    "df1 = pd.DataFrame(['100', '200', '300', '400'], index=['a', 'b', 'c', 'd'], columns=['A'])\n",
    "df1"
   ]
  },
  {
   "cell_type": "code",
   "execution_count": 65,
   "metadata": {},
   "outputs": [
    {
     "output_type": "execute_result",
     "data": {
      "text/plain": [
       "     B\n",
       "f  200\n",
       "b  150\n",
       "d   50"
      ],
      "text/html": "<div>\n<style scoped>\n    .dataframe tbody tr th:only-of-type {\n        vertical-align: middle;\n    }\n\n    .dataframe tbody tr th {\n        vertical-align: top;\n    }\n\n    .dataframe thead th {\n        text-align: right;\n    }\n</style>\n<table border=\"1\" class=\"dataframe\">\n  <thead>\n    <tr style=\"text-align: right;\">\n      <th></th>\n      <th>B</th>\n    </tr>\n  </thead>\n  <tbody>\n    <tr>\n      <th>f</th>\n      <td>200</td>\n    </tr>\n    <tr>\n      <th>b</th>\n      <td>150</td>\n    </tr>\n    <tr>\n      <th>d</th>\n      <td>50</td>\n    </tr>\n  </tbody>\n</table>\n</div>"
     },
     "metadata": {},
     "execution_count": 65
    }
   ],
   "source": [
    "df2 = pd.DataFrame(['200', '150', '50'], index=['f', 'b', 'd'], columns=['B'])\n",
    "df2"
   ]
  },
  {
   "cell_type": "code",
   "execution_count": 66,
   "metadata": {},
   "outputs": [
    {
     "output_type": "execute_result",
     "data": {
      "text/plain": [
       "     A    B\n",
       "a  100  NaN\n",
       "b  200  NaN\n",
       "c  300  NaN\n",
       "d  400  NaN\n",
       "f  NaN  200\n",
       "b  NaN  150\n",
       "d  NaN   50"
      ],
      "text/html": "<div>\n<style scoped>\n    .dataframe tbody tr th:only-of-type {\n        vertical-align: middle;\n    }\n\n    .dataframe tbody tr th {\n        vertical-align: top;\n    }\n\n    .dataframe thead th {\n        text-align: right;\n    }\n</style>\n<table border=\"1\" class=\"dataframe\">\n  <thead>\n    <tr style=\"text-align: right;\">\n      <th></th>\n      <th>A</th>\n      <th>B</th>\n    </tr>\n  </thead>\n  <tbody>\n    <tr>\n      <th>a</th>\n      <td>100</td>\n      <td>NaN</td>\n    </tr>\n    <tr>\n      <th>b</th>\n      <td>200</td>\n      <td>NaN</td>\n    </tr>\n    <tr>\n      <th>c</th>\n      <td>300</td>\n      <td>NaN</td>\n    </tr>\n    <tr>\n      <th>d</th>\n      <td>400</td>\n      <td>NaN</td>\n    </tr>\n    <tr>\n      <th>f</th>\n      <td>NaN</td>\n      <td>200</td>\n    </tr>\n    <tr>\n      <th>b</th>\n      <td>NaN</td>\n      <td>150</td>\n    </tr>\n    <tr>\n      <th>d</th>\n      <td>NaN</td>\n      <td>50</td>\n    </tr>\n  </tbody>\n</table>\n</div>"
     },
     "metadata": {},
     "execution_count": 66
    }
   ],
   "source": [
    "df1.append(df2, sort=False)"
   ]
  },
  {
   "cell_type": "code",
   "execution_count": 67,
   "metadata": {},
   "outputs": [
    {
     "output_type": "execute_result",
     "data": {
      "text/plain": [
       "     A    B\n",
       "0  100  NaN\n",
       "1  200  NaN\n",
       "2  300  NaN\n",
       "3  400  NaN\n",
       "4  NaN  200\n",
       "5  NaN  150\n",
       "6  NaN   50"
      ],
      "text/html": "<div>\n<style scoped>\n    .dataframe tbody tr th:only-of-type {\n        vertical-align: middle;\n    }\n\n    .dataframe tbody tr th {\n        vertical-align: top;\n    }\n\n    .dataframe thead th {\n        text-align: right;\n    }\n</style>\n<table border=\"1\" class=\"dataframe\">\n  <thead>\n    <tr style=\"text-align: right;\">\n      <th></th>\n      <th>A</th>\n      <th>B</th>\n    </tr>\n  </thead>\n  <tbody>\n    <tr>\n      <th>0</th>\n      <td>100</td>\n      <td>NaN</td>\n    </tr>\n    <tr>\n      <th>1</th>\n      <td>200</td>\n      <td>NaN</td>\n    </tr>\n    <tr>\n      <th>2</th>\n      <td>300</td>\n      <td>NaN</td>\n    </tr>\n    <tr>\n      <th>3</th>\n      <td>400</td>\n      <td>NaN</td>\n    </tr>\n    <tr>\n      <th>4</th>\n      <td>NaN</td>\n      <td>200</td>\n    </tr>\n    <tr>\n      <th>5</th>\n      <td>NaN</td>\n      <td>150</td>\n    </tr>\n    <tr>\n      <th>6</th>\n      <td>NaN</td>\n      <td>50</td>\n    </tr>\n  </tbody>\n</table>\n</div>"
     },
     "metadata": {},
     "execution_count": 67
    }
   ],
   "source": [
    "df1.append(df2, ignore_index=True, sort=False)"
   ]
  },
  {
   "cell_type": "code",
   "execution_count": 68,
   "metadata": {},
   "outputs": [
    {
     "output_type": "execute_result",
     "data": {
      "text/plain": [
       "     A    B\n",
       "a  100  NaN\n",
       "b  200  NaN\n",
       "c  300  NaN\n",
       "d  400  NaN\n",
       "f  NaN  200\n",
       "b  NaN  150\n",
       "d  NaN   50"
      ],
      "text/html": "<div>\n<style scoped>\n    .dataframe tbody tr th:only-of-type {\n        vertical-align: middle;\n    }\n\n    .dataframe tbody tr th {\n        vertical-align: top;\n    }\n\n    .dataframe thead th {\n        text-align: right;\n    }\n</style>\n<table border=\"1\" class=\"dataframe\">\n  <thead>\n    <tr style=\"text-align: right;\">\n      <th></th>\n      <th>A</th>\n      <th>B</th>\n    </tr>\n  </thead>\n  <tbody>\n    <tr>\n      <th>a</th>\n      <td>100</td>\n      <td>NaN</td>\n    </tr>\n    <tr>\n      <th>b</th>\n      <td>200</td>\n      <td>NaN</td>\n    </tr>\n    <tr>\n      <th>c</th>\n      <td>300</td>\n      <td>NaN</td>\n    </tr>\n    <tr>\n      <th>d</th>\n      <td>400</td>\n      <td>NaN</td>\n    </tr>\n    <tr>\n      <th>f</th>\n      <td>NaN</td>\n      <td>200</td>\n    </tr>\n    <tr>\n      <th>b</th>\n      <td>NaN</td>\n      <td>150</td>\n    </tr>\n    <tr>\n      <th>d</th>\n      <td>NaN</td>\n      <td>50</td>\n    </tr>\n  </tbody>\n</table>\n</div>"
     },
     "metadata": {},
     "execution_count": 68
    }
   ],
   "source": [
    "pd.concat((df1, df2), sort=False)"
   ]
  },
  {
   "cell_type": "code",
   "execution_count": 69,
   "metadata": {},
   "outputs": [
    {
     "output_type": "execute_result",
     "data": {
      "text/plain": [
       "     A    B\n",
       "0  100  NaN\n",
       "1  200  NaN\n",
       "2  300  NaN\n",
       "3  400  NaN\n",
       "4  NaN  200\n",
       "5  NaN  150\n",
       "6  NaN   50"
      ],
      "text/html": "<div>\n<style scoped>\n    .dataframe tbody tr th:only-of-type {\n        vertical-align: middle;\n    }\n\n    .dataframe tbody tr th {\n        vertical-align: top;\n    }\n\n    .dataframe thead th {\n        text-align: right;\n    }\n</style>\n<table border=\"1\" class=\"dataframe\">\n  <thead>\n    <tr style=\"text-align: right;\">\n      <th></th>\n      <th>A</th>\n      <th>B</th>\n    </tr>\n  </thead>\n  <tbody>\n    <tr>\n      <th>0</th>\n      <td>100</td>\n      <td>NaN</td>\n    </tr>\n    <tr>\n      <th>1</th>\n      <td>200</td>\n      <td>NaN</td>\n    </tr>\n    <tr>\n      <th>2</th>\n      <td>300</td>\n      <td>NaN</td>\n    </tr>\n    <tr>\n      <th>3</th>\n      <td>400</td>\n      <td>NaN</td>\n    </tr>\n    <tr>\n      <th>4</th>\n      <td>NaN</td>\n      <td>200</td>\n    </tr>\n    <tr>\n      <th>5</th>\n      <td>NaN</td>\n      <td>150</td>\n    </tr>\n    <tr>\n      <th>6</th>\n      <td>NaN</td>\n      <td>50</td>\n    </tr>\n  </tbody>\n</table>\n</div>"
     },
     "metadata": {},
     "execution_count": 69
    }
   ],
   "source": [
    "pd.concat((df1, df2), ignore_index=True, sort=False)"
   ]
  },
  {
   "cell_type": "code",
   "execution_count": 70,
   "metadata": {},
   "outputs": [
    {
     "output_type": "execute_result",
     "data": {
      "text/plain": [
       "     A    B\n",
       "a  100  NaN\n",
       "b  200  150\n",
       "c  300  NaN\n",
       "d  400   50"
      ],
      "text/html": "<div>\n<style scoped>\n    .dataframe tbody tr th:only-of-type {\n        vertical-align: middle;\n    }\n\n    .dataframe tbody tr th {\n        vertical-align: top;\n    }\n\n    .dataframe thead th {\n        text-align: right;\n    }\n</style>\n<table border=\"1\" class=\"dataframe\">\n  <thead>\n    <tr style=\"text-align: right;\">\n      <th></th>\n      <th>A</th>\n      <th>B</th>\n    </tr>\n  </thead>\n  <tbody>\n    <tr>\n      <th>a</th>\n      <td>100</td>\n      <td>NaN</td>\n    </tr>\n    <tr>\n      <th>b</th>\n      <td>200</td>\n      <td>150</td>\n    </tr>\n    <tr>\n      <th>c</th>\n      <td>300</td>\n      <td>NaN</td>\n    </tr>\n    <tr>\n      <th>d</th>\n      <td>400</td>\n      <td>50</td>\n    </tr>\n  </tbody>\n</table>\n</div>"
     },
     "metadata": {},
     "execution_count": 70
    }
   ],
   "source": [
    "# Default Left Join\n",
    "df1.join(df2)"
   ]
  },
  {
   "cell_type": "code",
   "execution_count": 71,
   "metadata": {},
   "outputs": [
    {
     "output_type": "execute_result",
     "data": {
      "text/plain": [
       "     B    A\n",
       "f  200  NaN\n",
       "b  150  200\n",
       "d   50  400"
      ],
      "text/html": "<div>\n<style scoped>\n    .dataframe tbody tr th:only-of-type {\n        vertical-align: middle;\n    }\n\n    .dataframe tbody tr th {\n        vertical-align: top;\n    }\n\n    .dataframe thead th {\n        text-align: right;\n    }\n</style>\n<table border=\"1\" class=\"dataframe\">\n  <thead>\n    <tr style=\"text-align: right;\">\n      <th></th>\n      <th>B</th>\n      <th>A</th>\n    </tr>\n  </thead>\n  <tbody>\n    <tr>\n      <th>f</th>\n      <td>200</td>\n      <td>NaN</td>\n    </tr>\n    <tr>\n      <th>b</th>\n      <td>150</td>\n      <td>200</td>\n    </tr>\n    <tr>\n      <th>d</th>\n      <td>50</td>\n      <td>400</td>\n    </tr>\n  </tbody>\n</table>\n</div>"
     },
     "metadata": {},
     "execution_count": 71
    }
   ],
   "source": [
    "df2.join(df1)"
   ]
  },
  {
   "cell_type": "code",
   "execution_count": 72,
   "metadata": {},
   "outputs": [
    {
     "output_type": "execute_result",
     "data": {
      "text/plain": [
       "     A    B\n",
       "a  100  NaN\n",
       "b  200  150\n",
       "c  300  NaN\n",
       "d  400   50"
      ],
      "text/html": "<div>\n<style scoped>\n    .dataframe tbody tr th:only-of-type {\n        vertical-align: middle;\n    }\n\n    .dataframe tbody tr th {\n        vertical-align: top;\n    }\n\n    .dataframe thead th {\n        text-align: right;\n    }\n</style>\n<table border=\"1\" class=\"dataframe\">\n  <thead>\n    <tr style=\"text-align: right;\">\n      <th></th>\n      <th>A</th>\n      <th>B</th>\n    </tr>\n  </thead>\n  <tbody>\n    <tr>\n      <th>a</th>\n      <td>100</td>\n      <td>NaN</td>\n    </tr>\n    <tr>\n      <th>b</th>\n      <td>200</td>\n      <td>150</td>\n    </tr>\n    <tr>\n      <th>c</th>\n      <td>300</td>\n      <td>NaN</td>\n    </tr>\n    <tr>\n      <th>d</th>\n      <td>400</td>\n      <td>50</td>\n    </tr>\n  </tbody>\n</table>\n</div>"
     },
     "metadata": {},
     "execution_count": 72
    }
   ],
   "source": [
    "df1.join(df2, how='left')"
   ]
  },
  {
   "cell_type": "code",
   "execution_count": 73,
   "metadata": {},
   "outputs": [
    {
     "output_type": "execute_result",
     "data": {
      "text/plain": [
       "     A    B\n",
       "f  NaN  200\n",
       "b  200  150\n",
       "d  400   50"
      ],
      "text/html": "<div>\n<style scoped>\n    .dataframe tbody tr th:only-of-type {\n        vertical-align: middle;\n    }\n\n    .dataframe tbody tr th {\n        vertical-align: top;\n    }\n\n    .dataframe thead th {\n        text-align: right;\n    }\n</style>\n<table border=\"1\" class=\"dataframe\">\n  <thead>\n    <tr style=\"text-align: right;\">\n      <th></th>\n      <th>A</th>\n      <th>B</th>\n    </tr>\n  </thead>\n  <tbody>\n    <tr>\n      <th>f</th>\n      <td>NaN</td>\n      <td>200</td>\n    </tr>\n    <tr>\n      <th>b</th>\n      <td>200</td>\n      <td>150</td>\n    </tr>\n    <tr>\n      <th>d</th>\n      <td>400</td>\n      <td>50</td>\n    </tr>\n  </tbody>\n</table>\n</div>"
     },
     "metadata": {},
     "execution_count": 73
    }
   ],
   "source": [
    "df1.join(df2, how='right')"
   ]
  },
  {
   "cell_type": "code",
   "execution_count": 74,
   "metadata": {},
   "outputs": [
    {
     "output_type": "execute_result",
     "data": {
      "text/plain": [
       "     A    B\n",
       "b  200  150\n",
       "d  400   50"
      ],
      "text/html": "<div>\n<style scoped>\n    .dataframe tbody tr th:only-of-type {\n        vertical-align: middle;\n    }\n\n    .dataframe tbody tr th {\n        vertical-align: top;\n    }\n\n    .dataframe thead th {\n        text-align: right;\n    }\n</style>\n<table border=\"1\" class=\"dataframe\">\n  <thead>\n    <tr style=\"text-align: right;\">\n      <th></th>\n      <th>A</th>\n      <th>B</th>\n    </tr>\n  </thead>\n  <tbody>\n    <tr>\n      <th>b</th>\n      <td>200</td>\n      <td>150</td>\n    </tr>\n    <tr>\n      <th>d</th>\n      <td>400</td>\n      <td>50</td>\n    </tr>\n  </tbody>\n</table>\n</div>"
     },
     "metadata": {},
     "execution_count": 74
    }
   ],
   "source": [
    "df1.join(df2, how='inner')"
   ]
  },
  {
   "cell_type": "code",
   "execution_count": 75,
   "metadata": {},
   "outputs": [
    {
     "output_type": "execute_result",
     "data": {
      "text/plain": [
       "     A    B\n",
       "a  100  NaN\n",
       "b  200  150\n",
       "c  300  NaN\n",
       "d  400   50\n",
       "f  NaN  200"
      ],
      "text/html": "<div>\n<style scoped>\n    .dataframe tbody tr th:only-of-type {\n        vertical-align: middle;\n    }\n\n    .dataframe tbody tr th {\n        vertical-align: top;\n    }\n\n    .dataframe thead th {\n        text-align: right;\n    }\n</style>\n<table border=\"1\" class=\"dataframe\">\n  <thead>\n    <tr style=\"text-align: right;\">\n      <th></th>\n      <th>A</th>\n      <th>B</th>\n    </tr>\n  </thead>\n  <tbody>\n    <tr>\n      <th>a</th>\n      <td>100</td>\n      <td>NaN</td>\n    </tr>\n    <tr>\n      <th>b</th>\n      <td>200</td>\n      <td>150</td>\n    </tr>\n    <tr>\n      <th>c</th>\n      <td>300</td>\n      <td>NaN</td>\n    </tr>\n    <tr>\n      <th>d</th>\n      <td>400</td>\n      <td>50</td>\n    </tr>\n    <tr>\n      <th>f</th>\n      <td>NaN</td>\n      <td>200</td>\n    </tr>\n  </tbody>\n</table>\n</div>"
     },
     "metadata": {},
     "execution_count": 75
    }
   ],
   "source": [
    "df1.join(df2, how='outer')"
   ]
  },
  {
   "cell_type": "code",
   "execution_count": 76,
   "metadata": {},
   "outputs": [
    {
     "output_type": "execute_result",
     "data": {
      "text/plain": [
       "     A\n",
       "a  100\n",
       "b  200\n",
       "c  300\n",
       "d  400"
      ],
      "text/html": "<div>\n<style scoped>\n    .dataframe tbody tr th:only-of-type {\n        vertical-align: middle;\n    }\n\n    .dataframe tbody tr th {\n        vertical-align: top;\n    }\n\n    .dataframe thead th {\n        text-align: right;\n    }\n</style>\n<table border=\"1\" class=\"dataframe\">\n  <thead>\n    <tr style=\"text-align: right;\">\n      <th></th>\n      <th>A</th>\n    </tr>\n  </thead>\n  <tbody>\n    <tr>\n      <th>a</th>\n      <td>100</td>\n    </tr>\n    <tr>\n      <th>b</th>\n      <td>200</td>\n    </tr>\n    <tr>\n      <th>c</th>\n      <td>300</td>\n    </tr>\n    <tr>\n      <th>d</th>\n      <td>400</td>\n    </tr>\n  </tbody>\n</table>\n</div>"
     },
     "metadata": {},
     "execution_count": 76
    }
   ],
   "source": [
    "df = pd.DataFrame()\n",
    "df['A'] = df1['A']\n",
    "df"
   ]
  },
  {
   "cell_type": "code",
   "execution_count": 77,
   "metadata": {},
   "outputs": [
    {
     "output_type": "execute_result",
     "data": {
      "text/plain": [
       "     A    B\n",
       "a  100  NaN\n",
       "b  200  150\n",
       "c  300  NaN\n",
       "d  400   50"
      ],
      "text/html": "<div>\n<style scoped>\n    .dataframe tbody tr th:only-of-type {\n        vertical-align: middle;\n    }\n\n    .dataframe tbody tr th {\n        vertical-align: top;\n    }\n\n    .dataframe thead th {\n        text-align: right;\n    }\n</style>\n<table border=\"1\" class=\"dataframe\">\n  <thead>\n    <tr style=\"text-align: right;\">\n      <th></th>\n      <th>A</th>\n      <th>B</th>\n    </tr>\n  </thead>\n  <tbody>\n    <tr>\n      <th>a</th>\n      <td>100</td>\n      <td>NaN</td>\n    </tr>\n    <tr>\n      <th>b</th>\n      <td>200</td>\n      <td>150</td>\n    </tr>\n    <tr>\n      <th>c</th>\n      <td>300</td>\n      <td>NaN</td>\n    </tr>\n    <tr>\n      <th>d</th>\n      <td>400</td>\n      <td>50</td>\n    </tr>\n  </tbody>\n</table>\n</div>"
     },
     "metadata": {},
     "execution_count": 77
    }
   ],
   "source": [
    "df['B'] = df2\n",
    "df"
   ]
  },
  {
   "cell_type": "code",
   "execution_count": 78,
   "metadata": {},
   "outputs": [
    {
     "output_type": "execute_result",
     "data": {
      "text/plain": [
       "     A    B\n",
       "a  100  NaN\n",
       "b  200  150\n",
       "c  300  NaN\n",
       "d  400   50\n",
       "f  NaN  200"
      ],
      "text/html": "<div>\n<style scoped>\n    .dataframe tbody tr th:only-of-type {\n        vertical-align: middle;\n    }\n\n    .dataframe tbody tr th {\n        vertical-align: top;\n    }\n\n    .dataframe thead th {\n        text-align: right;\n    }\n</style>\n<table border=\"1\" class=\"dataframe\">\n  <thead>\n    <tr style=\"text-align: right;\">\n      <th></th>\n      <th>A</th>\n      <th>B</th>\n    </tr>\n  </thead>\n  <tbody>\n    <tr>\n      <th>a</th>\n      <td>100</td>\n      <td>NaN</td>\n    </tr>\n    <tr>\n      <th>b</th>\n      <td>200</td>\n      <td>150</td>\n    </tr>\n    <tr>\n      <th>c</th>\n      <td>300</td>\n      <td>NaN</td>\n    </tr>\n    <tr>\n      <th>d</th>\n      <td>400</td>\n      <td>50</td>\n    </tr>\n    <tr>\n      <th>f</th>\n      <td>NaN</td>\n      <td>200</td>\n    </tr>\n  </tbody>\n</table>\n</div>"
     },
     "metadata": {},
     "execution_count": 78
    }
   ],
   "source": [
    "df = pd.DataFrame({'A': df1['A'], 'B': df2['B']})\n",
    "df"
   ]
  },
  {
   "cell_type": "code",
   "execution_count": 79,
   "metadata": {},
   "outputs": [
    {
     "output_type": "execute_result",
     "data": {
      "text/plain": [
       "     A      C\n",
       "a  100    NaN\n",
       "b  200  250.0\n",
       "c  300   50.0\n",
       "d  400  150.0"
      ],
      "text/html": "<div>\n<style scoped>\n    .dataframe tbody tr th:only-of-type {\n        vertical-align: middle;\n    }\n\n    .dataframe tbody tr th {\n        vertical-align: top;\n    }\n\n    .dataframe thead th {\n        text-align: right;\n    }\n</style>\n<table border=\"1\" class=\"dataframe\">\n  <thead>\n    <tr style=\"text-align: right;\">\n      <th></th>\n      <th>A</th>\n      <th>C</th>\n    </tr>\n  </thead>\n  <tbody>\n    <tr>\n      <th>a</th>\n      <td>100</td>\n      <td>NaN</td>\n    </tr>\n    <tr>\n      <th>b</th>\n      <td>200</td>\n      <td>250.0</td>\n    </tr>\n    <tr>\n      <th>c</th>\n      <td>300</td>\n      <td>50.0</td>\n    </tr>\n    <tr>\n      <th>d</th>\n      <td>400</td>\n      <td>150.0</td>\n    </tr>\n  </tbody>\n</table>\n</div>"
     },
     "metadata": {},
     "execution_count": 79
    }
   ],
   "source": [
    "# Merging\n",
    "c = pd.Series([250, 150, 50], index=['b', 'd', 'c'])\n",
    "df1['C'] = c\n",
    "df2['C'] = c\n",
    "df1"
   ]
  },
  {
   "cell_type": "code",
   "execution_count": 80,
   "metadata": {},
   "outputs": [
    {
     "output_type": "execute_result",
     "data": {
      "text/plain": [
       "     B      C\n",
       "f  200    NaN\n",
       "b  150  250.0\n",
       "d   50  150.0"
      ],
      "text/html": "<div>\n<style scoped>\n    .dataframe tbody tr th:only-of-type {\n        vertical-align: middle;\n    }\n\n    .dataframe tbody tr th {\n        vertical-align: top;\n    }\n\n    .dataframe thead th {\n        text-align: right;\n    }\n</style>\n<table border=\"1\" class=\"dataframe\">\n  <thead>\n    <tr style=\"text-align: right;\">\n      <th></th>\n      <th>B</th>\n      <th>C</th>\n    </tr>\n  </thead>\n  <tbody>\n    <tr>\n      <th>f</th>\n      <td>200</td>\n      <td>NaN</td>\n    </tr>\n    <tr>\n      <th>b</th>\n      <td>150</td>\n      <td>250.0</td>\n    </tr>\n    <tr>\n      <th>d</th>\n      <td>50</td>\n      <td>150.0</td>\n    </tr>\n  </tbody>\n</table>\n</div>"
     },
     "metadata": {},
     "execution_count": 80
    }
   ],
   "source": [
    "df2"
   ]
  },
  {
   "cell_type": "code",
   "execution_count": 81,
   "metadata": {},
   "outputs": [
    {
     "output_type": "execute_result",
     "data": {
      "text/plain": [
       "     A      C    B\n",
       "0  100    NaN  200\n",
       "1  200  250.0  150\n",
       "2  400  150.0   50"
      ],
      "text/html": "<div>\n<style scoped>\n    .dataframe tbody tr th:only-of-type {\n        vertical-align: middle;\n    }\n\n    .dataframe tbody tr th {\n        vertical-align: top;\n    }\n\n    .dataframe thead th {\n        text-align: right;\n    }\n</style>\n<table border=\"1\" class=\"dataframe\">\n  <thead>\n    <tr style=\"text-align: right;\">\n      <th></th>\n      <th>A</th>\n      <th>C</th>\n      <th>B</th>\n    </tr>\n  </thead>\n  <tbody>\n    <tr>\n      <th>0</th>\n      <td>100</td>\n      <td>NaN</td>\n      <td>200</td>\n    </tr>\n    <tr>\n      <th>1</th>\n      <td>200</td>\n      <td>250.0</td>\n      <td>150</td>\n    </tr>\n    <tr>\n      <th>2</th>\n      <td>400</td>\n      <td>150.0</td>\n      <td>50</td>\n    </tr>\n  </tbody>\n</table>\n</div>"
     },
     "metadata": {},
     "execution_count": 81
    }
   ],
   "source": [
    "# Merge based on shared column C\n",
    "pd.merge(df1, df2)"
   ]
  },
  {
   "cell_type": "code",
   "execution_count": 82,
   "metadata": {},
   "outputs": [
    {
     "output_type": "execute_result",
     "data": {
      "text/plain": [
       "     A      C    B\n",
       "0  100    NaN  200\n",
       "1  200  250.0  150\n",
       "2  400  150.0   50"
      ],
      "text/html": "<div>\n<style scoped>\n    .dataframe tbody tr th:only-of-type {\n        vertical-align: middle;\n    }\n\n    .dataframe tbody tr th {\n        vertical-align: top;\n    }\n\n    .dataframe thead th {\n        text-align: right;\n    }\n</style>\n<table border=\"1\" class=\"dataframe\">\n  <thead>\n    <tr style=\"text-align: right;\">\n      <th></th>\n      <th>A</th>\n      <th>C</th>\n      <th>B</th>\n    </tr>\n  </thead>\n  <tbody>\n    <tr>\n      <th>0</th>\n      <td>100</td>\n      <td>NaN</td>\n      <td>200</td>\n    </tr>\n    <tr>\n      <th>1</th>\n      <td>200</td>\n      <td>250.0</td>\n      <td>150</td>\n    </tr>\n    <tr>\n      <th>2</th>\n      <td>400</td>\n      <td>150.0</td>\n      <td>50</td>\n    </tr>\n  </tbody>\n</table>\n</div>"
     },
     "metadata": {},
     "execution_count": 82
    }
   ],
   "source": [
    "pd.merge(df1, df2, on='C')"
   ]
  },
  {
   "cell_type": "code",
   "execution_count": 83,
   "metadata": {},
   "outputs": [
    {
     "output_type": "execute_result",
     "data": {
      "text/plain": [
       "     A      C    B\n",
       "0  100    NaN  200\n",
       "1  200  250.0  150\n",
       "2  300   50.0  NaN\n",
       "3  400  150.0   50"
      ],
      "text/html": "<div>\n<style scoped>\n    .dataframe tbody tr th:only-of-type {\n        vertical-align: middle;\n    }\n\n    .dataframe tbody tr th {\n        vertical-align: top;\n    }\n\n    .dataframe thead th {\n        text-align: right;\n    }\n</style>\n<table border=\"1\" class=\"dataframe\">\n  <thead>\n    <tr style=\"text-align: right;\">\n      <th></th>\n      <th>A</th>\n      <th>C</th>\n      <th>B</th>\n    </tr>\n  </thead>\n  <tbody>\n    <tr>\n      <th>0</th>\n      <td>100</td>\n      <td>NaN</td>\n      <td>200</td>\n    </tr>\n    <tr>\n      <th>1</th>\n      <td>200</td>\n      <td>250.0</td>\n      <td>150</td>\n    </tr>\n    <tr>\n      <th>2</th>\n      <td>300</td>\n      <td>50.0</td>\n      <td>NaN</td>\n    </tr>\n    <tr>\n      <th>3</th>\n      <td>400</td>\n      <td>150.0</td>\n      <td>50</td>\n    </tr>\n  </tbody>\n</table>\n</div>"
     },
     "metadata": {},
     "execution_count": 83
    }
   ],
   "source": [
    "pd.merge(df1, df2, how='outer')"
   ]
  },
  {
   "cell_type": "code",
   "execution_count": 84,
   "metadata": {},
   "outputs": [
    {
     "output_type": "execute_result",
     "data": {
      "text/plain": [
       "     A    C_x    B  C_y\n",
       "0  200  250.0  200  NaN"
      ],
      "text/html": "<div>\n<style scoped>\n    .dataframe tbody tr th:only-of-type {\n        vertical-align: middle;\n    }\n\n    .dataframe tbody tr th {\n        vertical-align: top;\n    }\n\n    .dataframe thead th {\n        text-align: right;\n    }\n</style>\n<table border=\"1\" class=\"dataframe\">\n  <thead>\n    <tr style=\"text-align: right;\">\n      <th></th>\n      <th>A</th>\n      <th>C_x</th>\n      <th>B</th>\n      <th>C_y</th>\n    </tr>\n  </thead>\n  <tbody>\n    <tr>\n      <th>0</th>\n      <td>200</td>\n      <td>250.0</td>\n      <td>200</td>\n      <td>NaN</td>\n    </tr>\n  </tbody>\n</table>\n</div>"
     },
     "metadata": {},
     "execution_count": 84
    }
   ],
   "source": [
    "pd.merge(df1, df2, left_on='A', right_on='B')"
   ]
  },
  {
   "cell_type": "code",
   "execution_count": 85,
   "metadata": {},
   "outputs": [
    {
     "output_type": "execute_result",
     "data": {
      "text/plain": [
       "     A    C_x    B    C_y\n",
       "0  100    NaN  NaN    NaN\n",
       "1  200  250.0  200    NaN\n",
       "2  300   50.0  NaN    NaN\n",
       "3  400  150.0  NaN    NaN\n",
       "4  NaN    NaN  150  250.0\n",
       "5  NaN    NaN   50  150.0"
      ],
      "text/html": "<div>\n<style scoped>\n    .dataframe tbody tr th:only-of-type {\n        vertical-align: middle;\n    }\n\n    .dataframe tbody tr th {\n        vertical-align: top;\n    }\n\n    .dataframe thead th {\n        text-align: right;\n    }\n</style>\n<table border=\"1\" class=\"dataframe\">\n  <thead>\n    <tr style=\"text-align: right;\">\n      <th></th>\n      <th>A</th>\n      <th>C_x</th>\n      <th>B</th>\n      <th>C_y</th>\n    </tr>\n  </thead>\n  <tbody>\n    <tr>\n      <th>0</th>\n      <td>100</td>\n      <td>NaN</td>\n      <td>NaN</td>\n      <td>NaN</td>\n    </tr>\n    <tr>\n      <th>1</th>\n      <td>200</td>\n      <td>250.0</td>\n      <td>200</td>\n      <td>NaN</td>\n    </tr>\n    <tr>\n      <th>2</th>\n      <td>300</td>\n      <td>50.0</td>\n      <td>NaN</td>\n      <td>NaN</td>\n    </tr>\n    <tr>\n      <th>3</th>\n      <td>400</td>\n      <td>150.0</td>\n      <td>NaN</td>\n      <td>NaN</td>\n    </tr>\n    <tr>\n      <th>4</th>\n      <td>NaN</td>\n      <td>NaN</td>\n      <td>150</td>\n      <td>250.0</td>\n    </tr>\n    <tr>\n      <th>5</th>\n      <td>NaN</td>\n      <td>NaN</td>\n      <td>50</td>\n      <td>150.0</td>\n    </tr>\n  </tbody>\n</table>\n</div>"
     },
     "metadata": {},
     "execution_count": 85
    }
   ],
   "source": [
    "pd.merge(df1, df2, left_on='A', right_on='B', how='outer')"
   ]
  },
  {
   "cell_type": "code",
   "execution_count": 86,
   "metadata": {},
   "outputs": [
    {
     "output_type": "execute_result",
     "data": {
      "text/plain": [
       "     A    C_x    B    C_y\n",
       "b  200  250.0  150  250.0\n",
       "d  400  150.0   50  150.0"
      ],
      "text/html": "<div>\n<style scoped>\n    .dataframe tbody tr th:only-of-type {\n        vertical-align: middle;\n    }\n\n    .dataframe tbody tr th {\n        vertical-align: top;\n    }\n\n    .dataframe thead th {\n        text-align: right;\n    }\n</style>\n<table border=\"1\" class=\"dataframe\">\n  <thead>\n    <tr style=\"text-align: right;\">\n      <th></th>\n      <th>A</th>\n      <th>C_x</th>\n      <th>B</th>\n      <th>C_y</th>\n    </tr>\n  </thead>\n  <tbody>\n    <tr>\n      <th>b</th>\n      <td>200</td>\n      <td>250.0</td>\n      <td>150</td>\n      <td>250.0</td>\n    </tr>\n    <tr>\n      <th>d</th>\n      <td>400</td>\n      <td>150.0</td>\n      <td>50</td>\n      <td>150.0</td>\n    </tr>\n  </tbody>\n</table>\n</div>"
     },
     "metadata": {},
     "execution_count": 86
    }
   ],
   "source": [
    "pd.merge(df1, df2, left_index=True, right_index=True)"
   ]
  },
  {
   "source": [
    "## Performance Aspects"
   ],
   "cell_type": "markdown",
   "metadata": {}
  },
  {
   "cell_type": "code",
   "execution_count": 88,
   "metadata": {},
   "outputs": [
    {
     "output_type": "execute_result",
     "data": {
      "text/plain": [
       "16000000"
      ]
     },
     "metadata": {},
     "execution_count": 88
    }
   ],
   "source": [
    "data = np.random.standard_normal((1000000, 2))\n",
    "data.nbytes"
   ]
  },
  {
   "cell_type": "code",
   "execution_count": 89,
   "metadata": {},
   "outputs": [
    {
     "output_type": "stream",
     "name": "stdout",
     "text": [
      "<class 'pandas.core.frame.DataFrame'>\nRangeIndex: 1000000 entries, 0 to 999999\nData columns (total 2 columns):\n #   Column  Non-Null Count    Dtype  \n---  ------  --------------    -----  \n 0   x       1000000 non-null  float64\n 1   y       1000000 non-null  float64\ndtypes: float64(2)\nmemory usage: 15.3 MB\n"
     ]
    }
   ],
   "source": [
    "df = pd.DataFrame(data, columns=['x', 'y'])\n",
    "df.info()"
   ]
  },
  {
   "cell_type": "code",
   "execution_count": 90,
   "metadata": {},
   "outputs": [
    {
     "output_type": "stream",
     "name": "stdout",
     "text": [
      "CPU times: user 5.77 ms, sys: 5.2 ms, total: 11 ms\nWall time: 10.2 ms\n"
     ]
    }
   ],
   "source": [
    "%time res = df['x'] + df['y']"
   ]
  },
  {
   "cell_type": "code",
   "execution_count": 91,
   "metadata": {},
   "outputs": [
    {
     "output_type": "execute_result",
     "data": {
      "text/plain": [
       "0    0.387242\n",
       "1   -0.969343\n",
       "2   -0.863159\n",
       "dtype: float64"
      ]
     },
     "metadata": {},
     "execution_count": 91
    }
   ],
   "source": [
    "res[:3]"
   ]
  },
  {
   "cell_type": "code",
   "execution_count": 92,
   "metadata": {},
   "outputs": [
    {
     "output_type": "stream",
     "name": "stdout",
     "text": [
      "CPU times: user 52.2 ms, sys: 11.2 ms, total: 63.4 ms\nWall time: 63.1 ms\n"
     ]
    }
   ],
   "source": [
    "%time res = df.sum(axis=1)"
   ]
  },
  {
   "cell_type": "code",
   "execution_count": 93,
   "metadata": {},
   "outputs": [
    {
     "output_type": "execute_result",
     "data": {
      "text/plain": [
       "0    0.387242\n",
       "1   -0.969343\n",
       "2   -0.863159\n",
       "dtype: float64"
      ]
     },
     "metadata": {},
     "execution_count": 93
    }
   ],
   "source": [
    "res[:3]"
   ]
  },
  {
   "cell_type": "code",
   "execution_count": 94,
   "metadata": {},
   "outputs": [
    {
     "output_type": "stream",
     "name": "stdout",
     "text": [
      "CPU times: user 21.8 ms, sys: 1.75 ms, total: 23.5 ms\nWall time: 22 ms\n"
     ]
    }
   ],
   "source": [
    "%time res = df.values.sum(axis=1)"
   ]
  },
  {
   "cell_type": "code",
   "execution_count": 95,
   "metadata": {},
   "outputs": [
    {
     "output_type": "execute_result",
     "data": {
      "text/plain": [
       "array([ 0.3872424 , -0.96934273, -0.86315944])"
      ]
     },
     "metadata": {},
     "execution_count": 95
    }
   ],
   "source": [
    "res[:3]"
   ]
  },
  {
   "cell_type": "code",
   "execution_count": 96,
   "metadata": {},
   "outputs": [
    {
     "output_type": "stream",
     "name": "stdout",
     "text": [
      "CPU times: user 52.5 ms, sys: 11 ms, total: 63.5 ms\nWall time: 61.8 ms\n"
     ]
    }
   ],
   "source": [
    "%time res = np.sum(df, axis=1)"
   ]
  },
  {
   "cell_type": "code",
   "execution_count": 97,
   "metadata": {},
   "outputs": [
    {
     "output_type": "stream",
     "name": "stdout",
     "text": [
      "CPU times: user 24.8 ms, sys: 1.85 ms, total: 26.6 ms\nWall time: 24.3 ms\n"
     ]
    }
   ],
   "source": [
    "%time res = np.sum(df.values, axis=1)"
   ]
  },
  {
   "cell_type": "code",
   "execution_count": 98,
   "metadata": {},
   "outputs": [
    {
     "output_type": "stream",
     "name": "stdout",
     "text": [
      "CPU times: user 14.3 ms, sys: 11.8 ms, total: 26.1 ms\nWall time: 24.1 ms\n"
     ]
    }
   ],
   "source": [
    "%time res = df.eval('x + y')"
   ]
  },
  {
   "cell_type": "code",
   "execution_count": 99,
   "metadata": {},
   "outputs": [
    {
     "output_type": "stream",
     "name": "stdout",
     "text": [
      "CPU times: user 22.6 s, sys: 237 ms, total: 22.8 s\nWall time: 22.9 s\n"
     ]
    }
   ],
   "source": [
    "%time res = df.apply(lambda row: row['x'] + row['y'], axis=1)"
   ]
  }
 ]
}